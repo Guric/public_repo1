{
 "cells": [
  {
   "cell_type": "code",
   "execution_count": 1,
   "metadata": {},
   "outputs": [],
   "source": [
    "from sklearn import model_selection , linear_model, metrics, pipeline,tree, preprocessing,neighbors,ensemble,svm,naive_bayes\n",
    "from sklearn.model_selection import GridSearchCV,cross_val_score,train_test_split,RandomizedSearchCV,cross_val_predict\n",
    "from sklearn.metrics import confusion_matrix,accuracy_score\n",
    "from sklearn.preprocessing import StandardScaler\n",
    "\n",
    "#from sklearn import model_selection import grid_search\n",
    "import numpy as np\n",
    "import pandas as pd\n",
    "import seaborn as sns\n",
    "import matplotlib\n",
    "#from sklearn.linear_model import LogisticRegression\n",
    "#from sklearn.preprocessing import LabelEncoder\n",
    "from matplotlib import pyplot as plt\n",
    "matplotlib.style.use('ggplot')\n",
    "%matplotlib inline"
   ]
  },
  {
   "cell_type": "code",
   "execution_count": 2,
   "metadata": {},
   "outputs": [],
   "source": [
    "raw_train_data = pd.read_csv('./data/train.csv')\n",
    "raw_test_data = pd.read_csv('./data/test.csv')"
   ]
  },
  {
   "cell_type": "code",
   "execution_count": 3,
   "metadata": {},
   "outputs": [
    {
     "data": {
      "text/plain": [
       "((891, 12), (418, 11), 1309)"
      ]
     },
     "execution_count": 3,
     "metadata": {},
     "output_type": "execute_result"
    }
   ],
   "source": [
    "raw_train_data.shape,raw_test_data.shape,891+418\n",
    "#raw_train_data_shuffled = raw_train_data.reindex(np.random.permutation(raw_train_data.index))"
   ]
  },
  {
   "cell_type": "code",
   "execution_count": 4,
   "metadata": {},
   "outputs": [],
   "source": [
    "#raw_train_data.info()"
   ]
  },
  {
   "cell_type": "markdown",
   "metadata": {},
   "source": [
    "### Train"
   ]
  },
  {
   "cell_type": "code",
   "execution_count": 5,
   "metadata": {},
   "outputs": [
    {
     "data": {
      "text/html": [
       "<div>\n",
       "<style scoped>\n",
       "    .dataframe tbody tr th:only-of-type {\n",
       "        vertical-align: middle;\n",
       "    }\n",
       "\n",
       "    .dataframe tbody tr th {\n",
       "        vertical-align: top;\n",
       "    }\n",
       "\n",
       "    .dataframe thead th {\n",
       "        text-align: right;\n",
       "    }\n",
       "</style>\n",
       "<table border=\"1\" class=\"dataframe\">\n",
       "  <thead>\n",
       "    <tr style=\"text-align: right;\">\n",
       "      <th></th>\n",
       "      <th>data</th>\n",
       "    </tr>\n",
       "  </thead>\n",
       "  <tbody>\n",
       "    <tr>\n",
       "      <th>Age</th>\n",
       "      <td>177</td>\n",
       "    </tr>\n",
       "    <tr>\n",
       "      <th>Cabin</th>\n",
       "      <td>687</td>\n",
       "    </tr>\n",
       "    <tr>\n",
       "      <th>Embarked</th>\n",
       "      <td>2</td>\n",
       "    </tr>\n",
       "  </tbody>\n",
       "</table>\n",
       "</div>"
      ],
      "text/plain": [
       "          data\n",
       "Age        177\n",
       "Cabin      687\n",
       "Embarked     2"
      ]
     },
     "execution_count": 5,
     "metadata": {},
     "output_type": "execute_result"
    }
   ],
   "source": [
    "#Проверка пропусков\n",
    "NAs = pd.concat([raw_train_data.isnull().sum()], axis=1, keys=['data'])\n",
    "NAs[NAs.sum(axis=1) > 0]"
   ]
  },
  {
   "cell_type": "code",
   "execution_count": 6,
   "metadata": {},
   "outputs": [],
   "source": [
    "def prepare_data(raw_data):\n",
    "    #Обработка пропусков\n",
    "    #Заполняем медианой\n",
    "    #raw_data.Age = raw_data.Age.fillna(raw_data.Age.median())\n",
    "    #Заполняем медианой c группировкой\n",
    "    grp = raw_data.groupby(['Sex', 'Pclass'])  \n",
    "    raw_data.Age = grp.Age.apply(lambda x: x.fillna(x.median()))\n",
    "    #Заполняем модой\n",
    "    #raw_data.Embarked = raw_data.Embarked.fillna(raw_data.Embarked.value_counts().idxmax())\n",
    "    raw_data.Embarked.fillna(raw_data.Embarked.mode()[0], inplace = True)\n",
    "    raw_data.Fare.fillna(raw_data.Fare.mode()[0],inplace = True)\n",
    "    #Заполняем 'N'\n",
    "    raw_data.Cabin = raw_data.Cabin.fillna('NA')\n",
    "\n",
    "    #raw_data.Embarked.value_counts()\n",
    "    #добавим новые признаки\n",
    "    raw_data['Family'] = raw_data.Parch + raw_data.SibSp+1\n",
    "    raw_data['Family_Size'] = pd.cut(raw_data.Family, [0,1.5,4.5,15],labels=['Single','SmallFamily','LargeFamily'])\n",
    "    #raw_data['Is_Alone'] = (raw_data.Family == 0).astype(int)\n",
    "    raw_data['Salutation'] = raw_data.Name.apply(lambda name: name.split(',')[1].split('.')[0].strip()) \n",
    "    raw_data['Age_Range'] = pd.cut(raw_data.Age, [0, 10, 20, 30, 40, 50, 60,70,80])\n",
    "    raw_data['Fare_Category'] = pd.cut(raw_data.Fare, bins=[0,7.90,14.45,31.28,120.0,513.0],include_lowest = True, labels=['Low','Mid','High_Mid','High','Upper_High'])\n",
    "    raw_data['isCabin']=raw_data.Cabin.apply(lambda x: 1 if x != 'NA' else 0)\n",
    "    #raw_data['Fare_Category'] = pd.cut(raw_data['Fare'], bins=[0,7.90,14.45,31.28,120.0], labels=['Low','Mid','High_Mid','High'])\n",
    "    #raw_data['Fare_Category'] = pd.cut(raw_data['Fare'], [0,7.90,14.45,31.28,120.0,513.0],include_lowest = True)\n",
    "    #raw_data.Salutation.nunique()\n",
    "    #####################New features#####################\n",
    "    name_dict = {\"Capt\":       \"officer\",\n",
    "                 \"Col\":        \"officer\",\n",
    "                 \"Major\":      \"officer\",\n",
    "                 \"Dr\":         \"officer\",\n",
    "                 \"Rev\":        \"officer\",\n",
    "                 \"Jonkheer\":   \"snob\",\n",
    "                 \"Don\":        \"snob\",\n",
    "                 \"Sir\" :       \"snob\",\n",
    "                 \"the Countess\":\"snob\",\n",
    "                 \"Dona\":       \"snob\",\n",
    "                 \"Lady\" :      \"snob\",\n",
    "                 \"Mme\":        \"married\",\n",
    "                 \"Ms\":         \"married\",\n",
    "                 \"Mrs\" :       \"married\",\n",
    "                 \"Miss\" :      \"single\",\n",
    "                 \"Mlle\":       \"single\",\n",
    "                 \"Mr\" :        \"man\",\n",
    "                 \"Master\" :    \"boy\"\n",
    "                }\n",
    "    raw_data['Salutation_type'] = raw_data['Salutation'].map(name_dict)\n",
    "    \n",
    "    return 0\n"
   ]
  },
  {
   "cell_type": "code",
   "execution_count": 7,
   "metadata": {},
   "outputs": [
    {
     "data": {
      "text/plain": [
       "0"
      ]
     },
     "execution_count": 7,
     "metadata": {},
     "output_type": "execute_result"
    }
   ],
   "source": [
    "prepare_data(raw_train_data)"
   ]
  },
  {
   "cell_type": "raw",
   "metadata": {},
   "source": [
    "cabin_only = raw_train_data[[\"Cabin\"]].copy()\n",
    "cabin_only[\"Cabin_Data\"] = cabin_only[\"Cabin\"].isnull().apply(lambda x: not x)\n",
    "cabin_only[\"Deck\"] = cabin_only[\"Cabin\"].str.slice(0,1)\n",
    "cabin_only[\"Room\"] = cabin_only[\"Cabin\"].str.slice(1,5).str.extract(\"([0-9]+)\", expand=False).astype(\"float\")\n",
    "cabin_only[cabin_only[\"Cabin_Data\"]]"
   ]
  },
  {
   "cell_type": "code",
   "execution_count": 8,
   "metadata": {},
   "outputs": [
    {
     "data": {
      "text/html": [
       "<div>\n",
       "<style scoped>\n",
       "    .dataframe tbody tr th:only-of-type {\n",
       "        vertical-align: middle;\n",
       "    }\n",
       "\n",
       "    .dataframe tbody tr th {\n",
       "        vertical-align: top;\n",
       "    }\n",
       "\n",
       "    .dataframe thead th {\n",
       "        text-align: right;\n",
       "    }\n",
       "</style>\n",
       "<table border=\"1\" class=\"dataframe\">\n",
       "  <thead>\n",
       "    <tr style=\"text-align: right;\">\n",
       "      <th></th>\n",
       "      <th>PassengerId</th>\n",
       "      <th>Survived</th>\n",
       "      <th>Pclass</th>\n",
       "      <th>Name</th>\n",
       "      <th>Sex</th>\n",
       "      <th>Age</th>\n",
       "      <th>SibSp</th>\n",
       "      <th>Parch</th>\n",
       "      <th>Ticket</th>\n",
       "      <th>Fare</th>\n",
       "      <th>Cabin</th>\n",
       "      <th>Embarked</th>\n",
       "      <th>Family</th>\n",
       "      <th>Family_Size</th>\n",
       "      <th>Salutation</th>\n",
       "      <th>Age_Range</th>\n",
       "      <th>Fare_Category</th>\n",
       "      <th>isCabin</th>\n",
       "      <th>Salutation_type</th>\n",
       "    </tr>\n",
       "  </thead>\n",
       "  <tbody>\n",
       "    <tr>\n",
       "      <th>0</th>\n",
       "      <td>1</td>\n",
       "      <td>0</td>\n",
       "      <td>3</td>\n",
       "      <td>Braund, Mr. Owen Harris</td>\n",
       "      <td>male</td>\n",
       "      <td>22.0</td>\n",
       "      <td>1</td>\n",
       "      <td>0</td>\n",
       "      <td>A/5 21171</td>\n",
       "      <td>7.2500</td>\n",
       "      <td>NA</td>\n",
       "      <td>S</td>\n",
       "      <td>2</td>\n",
       "      <td>SmallFamily</td>\n",
       "      <td>Mr</td>\n",
       "      <td>(20, 30]</td>\n",
       "      <td>Low</td>\n",
       "      <td>0</td>\n",
       "      <td>man</td>\n",
       "    </tr>\n",
       "    <tr>\n",
       "      <th>1</th>\n",
       "      <td>2</td>\n",
       "      <td>1</td>\n",
       "      <td>1</td>\n",
       "      <td>Cumings, Mrs. John Bradley (Florence Briggs Th...</td>\n",
       "      <td>female</td>\n",
       "      <td>38.0</td>\n",
       "      <td>1</td>\n",
       "      <td>0</td>\n",
       "      <td>PC 17599</td>\n",
       "      <td>71.2833</td>\n",
       "      <td>C85</td>\n",
       "      <td>C</td>\n",
       "      <td>2</td>\n",
       "      <td>SmallFamily</td>\n",
       "      <td>Mrs</td>\n",
       "      <td>(30, 40]</td>\n",
       "      <td>High</td>\n",
       "      <td>1</td>\n",
       "      <td>married</td>\n",
       "    </tr>\n",
       "    <tr>\n",
       "      <th>2</th>\n",
       "      <td>3</td>\n",
       "      <td>1</td>\n",
       "      <td>3</td>\n",
       "      <td>Heikkinen, Miss. Laina</td>\n",
       "      <td>female</td>\n",
       "      <td>26.0</td>\n",
       "      <td>0</td>\n",
       "      <td>0</td>\n",
       "      <td>STON/O2. 3101282</td>\n",
       "      <td>7.9250</td>\n",
       "      <td>NA</td>\n",
       "      <td>S</td>\n",
       "      <td>1</td>\n",
       "      <td>Single</td>\n",
       "      <td>Miss</td>\n",
       "      <td>(20, 30]</td>\n",
       "      <td>Mid</td>\n",
       "      <td>0</td>\n",
       "      <td>single</td>\n",
       "    </tr>\n",
       "    <tr>\n",
       "      <th>3</th>\n",
       "      <td>4</td>\n",
       "      <td>1</td>\n",
       "      <td>1</td>\n",
       "      <td>Futrelle, Mrs. Jacques Heath (Lily May Peel)</td>\n",
       "      <td>female</td>\n",
       "      <td>35.0</td>\n",
       "      <td>1</td>\n",
       "      <td>0</td>\n",
       "      <td>113803</td>\n",
       "      <td>53.1000</td>\n",
       "      <td>C123</td>\n",
       "      <td>S</td>\n",
       "      <td>2</td>\n",
       "      <td>SmallFamily</td>\n",
       "      <td>Mrs</td>\n",
       "      <td>(30, 40]</td>\n",
       "      <td>High</td>\n",
       "      <td>1</td>\n",
       "      <td>married</td>\n",
       "    </tr>\n",
       "  </tbody>\n",
       "</table>\n",
       "</div>"
      ],
      "text/plain": [
       "   PassengerId  Survived  Pclass  \\\n",
       "0            1         0       3   \n",
       "1            2         1       1   \n",
       "2            3         1       3   \n",
       "3            4         1       1   \n",
       "\n",
       "                                                Name     Sex   Age  SibSp  \\\n",
       "0                            Braund, Mr. Owen Harris    male  22.0      1   \n",
       "1  Cumings, Mrs. John Bradley (Florence Briggs Th...  female  38.0      1   \n",
       "2                             Heikkinen, Miss. Laina  female  26.0      0   \n",
       "3       Futrelle, Mrs. Jacques Heath (Lily May Peel)  female  35.0      1   \n",
       "\n",
       "   Parch            Ticket     Fare Cabin Embarked  Family  Family_Size  \\\n",
       "0      0         A/5 21171   7.2500    NA        S       2  SmallFamily   \n",
       "1      0          PC 17599  71.2833   C85        C       2  SmallFamily   \n",
       "2      0  STON/O2. 3101282   7.9250    NA        S       1       Single   \n",
       "3      0            113803  53.1000  C123        S       2  SmallFamily   \n",
       "\n",
       "  Salutation Age_Range Fare_Category  isCabin Salutation_type  \n",
       "0         Mr  (20, 30]           Low        0             man  \n",
       "1        Mrs  (30, 40]          High        1         married  \n",
       "2       Miss  (20, 30]           Mid        0          single  \n",
       "3        Mrs  (30, 40]          High        1         married  "
      ]
     },
     "execution_count": 8,
     "metadata": {},
     "output_type": "execute_result"
    }
   ],
   "source": [
    "raw_train_data.head(4)\n",
    "#display_all(df.describe(include='all').T)"
   ]
  },
  {
   "cell_type": "code",
   "execution_count": 9,
   "metadata": {},
   "outputs": [
    {
     "data": {
      "text/html": [
       "<div>\n",
       "<style scoped>\n",
       "    .dataframe tbody tr th:only-of-type {\n",
       "        vertical-align: middle;\n",
       "    }\n",
       "\n",
       "    .dataframe tbody tr th {\n",
       "        vertical-align: top;\n",
       "    }\n",
       "\n",
       "    .dataframe thead th {\n",
       "        text-align: right;\n",
       "    }\n",
       "</style>\n",
       "<table border=\"1\" class=\"dataframe\">\n",
       "  <thead>\n",
       "    <tr style=\"text-align: right;\">\n",
       "      <th></th>\n",
       "      <th>data</th>\n",
       "    </tr>\n",
       "  </thead>\n",
       "  <tbody>\n",
       "  </tbody>\n",
       "</table>\n",
       "</div>"
      ],
      "text/plain": [
       "Empty DataFrame\n",
       "Columns: [data]\n",
       "Index: []"
      ]
     },
     "execution_count": 9,
     "metadata": {},
     "output_type": "execute_result"
    }
   ],
   "source": [
    "#Проверка пропусков\n",
    "NAs = pd.concat([raw_train_data.isnull().sum()], axis=1, keys=['data'])\n",
    "NAs[NAs.sum(axis=1) > 0]"
   ]
  },
  {
   "cell_type": "code",
   "execution_count": 10,
   "metadata": {},
   "outputs": [],
   "source": [
    "#raw_train_data['Singleton']=raw_train_data['Family'].apply(lambda x: 1 if x == 1 else 0)\n",
    "#raw_train_data['SmallFamily']=raw_train_data['Family'].apply(lambda x: 1 if 2<=x <= 4 else 0)\n",
    "#raw_train_data['LargeFamily']=raw_train_data['Family'].apply(lambda x: 1 if 5<=x  else 0)\n",
    "#Удалим исходные, которые были базой\n",
    "#raw_train_data.drop(['SibSp','Parch','Age','Fare'], axis = 1, inplace = True)\n",
    "#raw_train_data.isnull().any()"
   ]
  },
  {
   "cell_type": "code",
   "execution_count": 11,
   "metadata": {},
   "outputs": [],
   "source": [
    "train_labels = raw_train_data['Survived']\n",
    "train_data = raw_train_data.drop(['PassengerId', 'Survived'], axis = 1)"
   ]
  },
  {
   "cell_type": "code",
   "execution_count": 12,
   "metadata": {},
   "outputs": [],
   "source": [
    "string_data_columns = ['Name','Ticket','Cabin']\n",
    "categorical_data_columns = ['Pclass','Sex','Embarked','Salutation','Age_Range', 'Fare_Category','Family_Size','Salutation_type']\n",
    "numeric_data_columns = ['Age', 'SibSp', 'Parch', 'Fare','Family','isCabin']\n",
    "#numeric_data_columns = ['Family']"
   ]
  },
  {
   "cell_type": "code",
   "execution_count": 13,
   "metadata": {},
   "outputs": [
    {
     "data": {
      "text/plain": [
       "True"
      ]
     },
     "execution_count": 13,
     "metadata": {},
     "output_type": "execute_result"
    }
   ],
   "source": [
    "set(list(train_data.columns))==set(string_data_columns+categorical_data_columns+numeric_data_columns)"
   ]
  },
  {
   "cell_type": "code",
   "execution_count": 14,
   "metadata": {},
   "outputs": [
    {
     "data": {
      "text/plain": [
       "set()"
      ]
     },
     "execution_count": 14,
     "metadata": {},
     "output_type": "execute_result"
    }
   ],
   "source": [
    "#Оставшиеся колонки\n",
    "set(train_data.columns) - set(numeric_data_columns)-set(string_data_columns)-set(categorical_data_columns)"
   ]
  },
  {
   "cell_type": "code",
   "execution_count": 15,
   "metadata": {},
   "outputs": [],
   "source": [
    "categorical_data_indices = np.array([(column in categorical_data_columns) for column in train_data.columns], dtype = bool)\n",
    "numeric_data_indices = np.array([(column in numeric_data_columns) for column in train_data.columns], dtype = bool)"
   ]
  },
  {
   "cell_type": "markdown",
   "metadata": {},
   "source": [
    "### Test "
   ]
  },
  {
   "cell_type": "code",
   "execution_count": 16,
   "metadata": {},
   "outputs": [
    {
     "data": {
      "text/html": [
       "<div>\n",
       "<style scoped>\n",
       "    .dataframe tbody tr th:only-of-type {\n",
       "        vertical-align: middle;\n",
       "    }\n",
       "\n",
       "    .dataframe tbody tr th {\n",
       "        vertical-align: top;\n",
       "    }\n",
       "\n",
       "    .dataframe thead th {\n",
       "        text-align: right;\n",
       "    }\n",
       "</style>\n",
       "<table border=\"1\" class=\"dataframe\">\n",
       "  <thead>\n",
       "    <tr style=\"text-align: right;\">\n",
       "      <th></th>\n",
       "      <th>data</th>\n",
       "    </tr>\n",
       "  </thead>\n",
       "  <tbody>\n",
       "    <tr>\n",
       "      <th>Age</th>\n",
       "      <td>86</td>\n",
       "    </tr>\n",
       "    <tr>\n",
       "      <th>Fare</th>\n",
       "      <td>1</td>\n",
       "    </tr>\n",
       "    <tr>\n",
       "      <th>Cabin</th>\n",
       "      <td>327</td>\n",
       "    </tr>\n",
       "  </tbody>\n",
       "</table>\n",
       "</div>"
      ],
      "text/plain": [
       "       data\n",
       "Age      86\n",
       "Fare      1\n",
       "Cabin   327"
      ]
     },
     "execution_count": 16,
     "metadata": {},
     "output_type": "execute_result"
    }
   ],
   "source": [
    "#Проверка пропусков\n",
    "NAs = pd.concat([raw_test_data.isnull().sum()], axis=1, keys=['data'])\n",
    "NAs[NAs.sum(axis=1) > 0]\n"
   ]
  },
  {
   "cell_type": "code",
   "execution_count": 17,
   "metadata": {},
   "outputs": [
    {
     "data": {
      "text/plain": [
       "0"
      ]
     },
     "execution_count": 17,
     "metadata": {},
     "output_type": "execute_result"
    }
   ],
   "source": [
    "prepare_data(raw_test_data)"
   ]
  },
  {
   "cell_type": "code",
   "execution_count": 18,
   "metadata": {},
   "outputs": [
    {
     "data": {
      "text/html": [
       "<div>\n",
       "<style scoped>\n",
       "    .dataframe tbody tr th:only-of-type {\n",
       "        vertical-align: middle;\n",
       "    }\n",
       "\n",
       "    .dataframe tbody tr th {\n",
       "        vertical-align: top;\n",
       "    }\n",
       "\n",
       "    .dataframe thead th {\n",
       "        text-align: right;\n",
       "    }\n",
       "</style>\n",
       "<table border=\"1\" class=\"dataframe\">\n",
       "  <thead>\n",
       "    <tr style=\"text-align: right;\">\n",
       "      <th></th>\n",
       "      <th>data</th>\n",
       "    </tr>\n",
       "  </thead>\n",
       "  <tbody>\n",
       "  </tbody>\n",
       "</table>\n",
       "</div>"
      ],
      "text/plain": [
       "Empty DataFrame\n",
       "Columns: [data]\n",
       "Index: []"
      ]
     },
     "execution_count": 18,
     "metadata": {},
     "output_type": "execute_result"
    }
   ],
   "source": [
    "#Проверка пропусков\n",
    "NAs = pd.concat([raw_test_data.isnull().sum()], axis=1, keys=['data'])\n",
    "NAs[NAs.sum(axis=1) > 0]"
   ]
  },
  {
   "cell_type": "code",
   "execution_count": 19,
   "metadata": {},
   "outputs": [
    {
     "data": {
      "text/plain": [
       "set()"
      ]
     },
     "execution_count": 19,
     "metadata": {},
     "output_type": "execute_result"
    }
   ],
   "source": [
    "test_data = raw_test_data.drop(['PassengerId'], axis = 1)\n",
    "#Оставшиеся колонки\n",
    "set(test_data.columns) - set(numeric_data_columns)-set(string_data_columns)-set(categorical_data_columns)"
   ]
  },
  {
   "cell_type": "code",
   "execution_count": 20,
   "metadata": {},
   "outputs": [],
   "source": [
    "#test_data.isnull().any()"
   ]
  },
  {
   "cell_type": "markdown",
   "metadata": {},
   "source": [
    "## Все колонки (лин завис)"
   ]
  },
  {
   "cell_type": "code",
   "execution_count": 21,
   "metadata": {},
   "outputs": [],
   "source": [
    "#classifier = linear_model.SGDClassifier(max_iter=1000, tol=1e-3)"
   ]
  },
  {
   "cell_type": "code",
   "execution_count": 22,
   "metadata": {},
   "outputs": [],
   "source": [
    "def create_estimator(numeric_data_indices,categorical_data_indices,classifier):\n",
    "    estimator = pipeline.Pipeline(steps = [       \n",
    "        (\n",
    "            'feature_processing', pipeline.FeatureUnion(transformer_list = [        \n",
    "                #binary\n",
    "                #('binary_variables_processing', preprocessing.FunctionTransformer(lambda data: data[:, binary_data_indices])), \n",
    "                        \n",
    "                #numeric\n",
    "                ('numeric_variables_processing', pipeline.Pipeline(steps = [\n",
    "                    ('selecting', preprocessing.FunctionTransformer(lambda data: data[:, numeric_data_indices],validate=False)),\n",
    "                    ('scaling', preprocessing.StandardScaler())            \n",
    "                            ])),\n",
    "        \n",
    "                #categorical\n",
    "                ('categorical_variables_processing', pipeline.Pipeline(steps = [\n",
    "                    ('selecting', preprocessing.FunctionTransformer(lambda data: data[:, categorical_data_indices],validate=False)),\n",
    "                    ('hot_encoding', preprocessing.OneHotEncoder(handle_unknown = 'ignore',sparse=False))            \n",
    "                            ])),\n",
    "            ])\n",
    "        ),\n",
    "        ('model_fitting', classifier)\n",
    "        ]\n",
    "    )\n",
    "    return estimator"
   ]
  },
  {
   "cell_type": "code",
   "execution_count": 23,
   "metadata": {},
   "outputs": [],
   "source": [
    "#cross_val_score(estimator, train_data.values, train_labels, scoring = 'accuracy', cv = 3)\n",
    "#estimator.fit(train_data.values, train_labels)\n",
    "#train_labels = raw_train_data['Survived']"
   ]
  },
  {
   "cell_type": "markdown",
   "metadata": {},
   "source": [
    "### Разделение выборки"
   ]
  },
  {
   "cell_type": "code",
   "execution_count": 24,
   "metadata": {},
   "outputs": [],
   "source": [
    "X_train, X_test, y_train, y_test = train_test_split(train_data.values, train_labels, test_size=0.5,shuffle=True, random_state=42)\n",
    "#stratify=train_labels"
   ]
  },
  {
   "cell_type": "code",
   "execution_count": 25,
   "metadata": {},
   "outputs": [
    {
     "data": {
      "text/plain": [
       "((445, 17), (446, 17), (445,), (446,))"
      ]
     },
     "execution_count": 25,
     "metadata": {},
     "output_type": "execute_result"
    }
   ],
   "source": [
    "X_train.shape,X_test.shape,y_train.shape,y_test.shape"
   ]
  },
  {
   "cell_type": "markdown",
   "metadata": {},
   "source": [
    "### оценка алгоритмов"
   ]
  },
  {
   "cell_type": "code",
   "execution_count": 26,
   "metadata": {},
   "outputs": [],
   "source": [
    "# кросс валидация тратегии\n",
    "cv_strategy_SKF = model_selection.StratifiedKFold(n_splits = 5, shuffle = True, random_state = 0)\n",
    "cv_strategy_KF =model_selection.KFold(n_splits=5, shuffle = True, random_state = 0)\n",
    "cv_strategy_ShS =model_selection.ShuffleSplit(n_splits=5, train_size=0.5, test_size=.25,random_state=0)\n",
    "cv_strategy_ShS =model_selection.StratifiedShuffleSplit(n_splits=5, train_size=0.5, test_size=.25,random_state=0)\n",
    "cv_dict = {'SKF':cv_strategy_SKF,'KF':cv_strategy_KF,'ShS':cv_strategy_ShS,'ShS':cv_strategy_ShS}"
   ]
  },
  {
   "cell_type": "code",
   "execution_count": 27,
   "metadata": {},
   "outputs": [],
   "source": [
    "classifier_dict = {'RiC':linear_model.RidgeClassifier(),'SVC':svm.SVC(gamma='auto'),'SGD':linear_model.SGDClassifier(),'LR':linear_model.LogisticRegression(solver='lbfgs'),\n",
    "                   'KNC':neighbors.KNeighborsClassifier(),'DeTree':tree.DecisionTreeClassifier(),\n",
    "                   'RF':ensemble.RandomForestClassifier(n_estimators=10),'GB':ensemble.GradientBoostingClassifier(),\n",
    "                   'BG':ensemble.BaggingClassifier(),'NB':naive_bayes.GaussianNB()}"
   ]
  },
  {
   "cell_type": "code",
   "execution_count": 28,
   "metadata": {},
   "outputs": [
    {
     "name": "stdout",
     "output_type": "stream",
     "text": [
      "***Classifier***** RiC\n",
      "--cv-- SKF ---- StratifiedKFold(n_splits=5, random_state=0, shuffle=True)\n",
      "--cv-- KF ---- KFold(n_splits=5, random_state=0, shuffle=True)\n",
      "--cv-- ShS ---- StratifiedShuffleSplit(n_splits=5, random_state=0, test_size=0.25,\n",
      "            train_size=0.5)\n",
      "***Classifier***** SVC\n",
      "--cv-- SKF ---- StratifiedKFold(n_splits=5, random_state=0, shuffle=True)\n",
      "--cv-- KF ---- KFold(n_splits=5, random_state=0, shuffle=True)\n",
      "--cv-- ShS ---- StratifiedShuffleSplit(n_splits=5, random_state=0, test_size=0.25,\n",
      "            train_size=0.5)\n",
      "***Classifier***** SGD\n",
      "--cv-- SKF ---- StratifiedKFold(n_splits=5, random_state=0, shuffle=True)\n",
      "--cv-- KF ---- KFold(n_splits=5, random_state=0, shuffle=True)\n",
      "--cv-- ShS ---- StratifiedShuffleSplit(n_splits=5, random_state=0, test_size=0.25,\n",
      "            train_size=0.5)\n",
      "***Classifier***** LR\n",
      "--cv-- SKF ---- StratifiedKFold(n_splits=5, random_state=0, shuffle=True)\n",
      "--cv-- KF ---- KFold(n_splits=5, random_state=0, shuffle=True)\n",
      "--cv-- ShS ---- StratifiedShuffleSplit(n_splits=5, random_state=0, test_size=0.25,\n",
      "            train_size=0.5)\n",
      "***Classifier***** KNC\n",
      "--cv-- SKF ---- StratifiedKFold(n_splits=5, random_state=0, shuffle=True)\n",
      "--cv-- KF ---- KFold(n_splits=5, random_state=0, shuffle=True)\n",
      "--cv-- ShS ---- StratifiedShuffleSplit(n_splits=5, random_state=0, test_size=0.25,\n",
      "            train_size=0.5)\n",
      "***Classifier***** DeTree\n",
      "--cv-- SKF ---- StratifiedKFold(n_splits=5, random_state=0, shuffle=True)\n",
      "--cv-- KF ---- KFold(n_splits=5, random_state=0, shuffle=True)\n",
      "--cv-- ShS ---- StratifiedShuffleSplit(n_splits=5, random_state=0, test_size=0.25,\n",
      "            train_size=0.5)\n",
      "***Classifier***** RF\n",
      "--cv-- SKF ---- StratifiedKFold(n_splits=5, random_state=0, shuffle=True)\n",
      "--cv-- KF ---- KFold(n_splits=5, random_state=0, shuffle=True)\n",
      "--cv-- ShS ---- StratifiedShuffleSplit(n_splits=5, random_state=0, test_size=0.25,\n",
      "            train_size=0.5)\n",
      "***Classifier***** GB\n",
      "--cv-- SKF ---- StratifiedKFold(n_splits=5, random_state=0, shuffle=True)\n",
      "--cv-- KF ---- KFold(n_splits=5, random_state=0, shuffle=True)\n",
      "--cv-- ShS ---- StratifiedShuffleSplit(n_splits=5, random_state=0, test_size=0.25,\n",
      "            train_size=0.5)\n",
      "***Classifier***** BG\n",
      "--cv-- SKF ---- StratifiedKFold(n_splits=5, random_state=0, shuffle=True)\n",
      "--cv-- KF ---- KFold(n_splits=5, random_state=0, shuffle=True)\n",
      "--cv-- ShS ---- StratifiedShuffleSplit(n_splits=5, random_state=0, test_size=0.25,\n",
      "            train_size=0.5)\n",
      "***Classifier***** NB\n",
      "--cv-- SKF ---- StratifiedKFold(n_splits=5, random_state=0, shuffle=True)\n",
      "--cv-- KF ---- KFold(n_splits=5, random_state=0, shuffle=True)\n",
      "--cv-- ShS ---- StratifiedShuffleSplit(n_splits=5, random_state=0, test_size=0.25,\n",
      "            train_size=0.5)\n"
     ]
    }
   ],
   "source": [
    "# кросс валидация оценка\n",
    "\n",
    "clf_res_list=[]\n",
    "cv_res_list=[]\n",
    "mean_res_list=[]\n",
    "max_res_list=[]\n",
    "min_res_list=[]\n",
    "std_res_list=[]\n",
    "test_acc=[]\n",
    "for k, v in classifier_dict.items():\n",
    "    #print(\"Code : {0}, Value : {1}\".format(k, v))\n",
    "    print('***Classifier*****',k)\n",
    "    clf=create_estimator(numeric_data_indices,categorical_data_indices,v)\n",
    "    for name,val in cv_dict.items():\n",
    "        clf_scoring = cross_val_score(clf, X_train, y_train, scoring = 'accuracy', cv = val)\n",
    "        print('--cv--',name,'----',val)\n",
    "        #print ('mean:{}, max:{}, min:{}, std:{}'.format(clf_scoring.mean(), clf_scoring.max(), clf_scoring.min(), clf_scoring.std()))\n",
    "        clf_res_list.append(k)\n",
    "        cv_res_list.append(name)\n",
    "        mean_res_list.append(clf_scoring.mean())\n",
    "        max_res_list.append(clf_scoring.max())\n",
    "        min_res_list.append(clf_scoring.min())\n",
    "        std_res_list.append(clf_scoring.std())\n",
    "        clf.fit(X_train, y_train)\n",
    "        y_pred=clf.predict(X_test)\n",
    "        test_acc.append(accuracy_score(y_test, y_pred))"
   ]
  },
  {
   "cell_type": "code",
   "execution_count": 29,
   "metadata": {},
   "outputs": [
    {
     "data": {
      "text/html": [
       "<div>\n",
       "<style scoped>\n",
       "    .dataframe tbody tr th:only-of-type {\n",
       "        vertical-align: middle;\n",
       "    }\n",
       "\n",
       "    .dataframe tbody tr th {\n",
       "        vertical-align: top;\n",
       "    }\n",
       "\n",
       "    .dataframe thead th {\n",
       "        text-align: right;\n",
       "    }\n",
       "</style>\n",
       "<table border=\"1\" class=\"dataframe\">\n",
       "  <thead>\n",
       "    <tr style=\"text-align: right;\">\n",
       "      <th></th>\n",
       "      <th>clf</th>\n",
       "      <th>cv</th>\n",
       "      <th>mean</th>\n",
       "      <th>max</th>\n",
       "      <th>min</th>\n",
       "      <th>std</th>\n",
       "      <th>test_acc</th>\n",
       "    </tr>\n",
       "  </thead>\n",
       "  <tbody>\n",
       "    <tr>\n",
       "      <th>0</th>\n",
       "      <td>RiC</td>\n",
       "      <td>SKF</td>\n",
       "      <td>0.815730</td>\n",
       "      <td>0.887640</td>\n",
       "      <td>0.741573</td>\n",
       "      <td>0.051539</td>\n",
       "      <td>0.820628</td>\n",
       "    </tr>\n",
       "    <tr>\n",
       "      <th>1</th>\n",
       "      <td>RiC</td>\n",
       "      <td>KF</td>\n",
       "      <td>0.817978</td>\n",
       "      <td>0.853933</td>\n",
       "      <td>0.764045</td>\n",
       "      <td>0.031300</td>\n",
       "      <td>0.820628</td>\n",
       "    </tr>\n",
       "    <tr>\n",
       "      <th>2</th>\n",
       "      <td>RiC</td>\n",
       "      <td>ShS</td>\n",
       "      <td>0.816071</td>\n",
       "      <td>0.839286</td>\n",
       "      <td>0.803571</td>\n",
       "      <td>0.012111</td>\n",
       "      <td>0.820628</td>\n",
       "    </tr>\n",
       "    <tr>\n",
       "      <th>3</th>\n",
       "      <td>SVC</td>\n",
       "      <td>SKF</td>\n",
       "      <td>0.824719</td>\n",
       "      <td>0.876404</td>\n",
       "      <td>0.741573</td>\n",
       "      <td>0.049540</td>\n",
       "      <td>0.834081</td>\n",
       "    </tr>\n",
       "    <tr>\n",
       "      <th>4</th>\n",
       "      <td>SVC</td>\n",
       "      <td>KF</td>\n",
       "      <td>0.835955</td>\n",
       "      <td>0.865169</td>\n",
       "      <td>0.786517</td>\n",
       "      <td>0.028953</td>\n",
       "      <td>0.834081</td>\n",
       "    </tr>\n",
       "    <tr>\n",
       "      <th>5</th>\n",
       "      <td>SVC</td>\n",
       "      <td>ShS</td>\n",
       "      <td>0.819643</td>\n",
       "      <td>0.830357</td>\n",
       "      <td>0.803571</td>\n",
       "      <td>0.010412</td>\n",
       "      <td>0.834081</td>\n",
       "    </tr>\n",
       "    <tr>\n",
       "      <th>6</th>\n",
       "      <td>SGD</td>\n",
       "      <td>SKF</td>\n",
       "      <td>0.779775</td>\n",
       "      <td>0.831461</td>\n",
       "      <td>0.741573</td>\n",
       "      <td>0.034522</td>\n",
       "      <td>0.811659</td>\n",
       "    </tr>\n",
       "    <tr>\n",
       "      <th>7</th>\n",
       "      <td>SGD</td>\n",
       "      <td>KF</td>\n",
       "      <td>0.802247</td>\n",
       "      <td>0.876404</td>\n",
       "      <td>0.707865</td>\n",
       "      <td>0.055774</td>\n",
       "      <td>0.782511</td>\n",
       "    </tr>\n",
       "    <tr>\n",
       "      <th>8</th>\n",
       "      <td>SGD</td>\n",
       "      <td>ShS</td>\n",
       "      <td>0.787500</td>\n",
       "      <td>0.839286</td>\n",
       "      <td>0.732143</td>\n",
       "      <td>0.042783</td>\n",
       "      <td>0.757848</td>\n",
       "    </tr>\n",
       "    <tr>\n",
       "      <th>9</th>\n",
       "      <td>LR</td>\n",
       "      <td>SKF</td>\n",
       "      <td>0.817978</td>\n",
       "      <td>0.865169</td>\n",
       "      <td>0.775281</td>\n",
       "      <td>0.036513</td>\n",
       "      <td>0.816143</td>\n",
       "    </tr>\n",
       "    <tr>\n",
       "      <th>10</th>\n",
       "      <td>LR</td>\n",
       "      <td>KF</td>\n",
       "      <td>0.835955</td>\n",
       "      <td>0.865169</td>\n",
       "      <td>0.797753</td>\n",
       "      <td>0.024203</td>\n",
       "      <td>0.816143</td>\n",
       "    </tr>\n",
       "    <tr>\n",
       "      <th>11</th>\n",
       "      <td>LR</td>\n",
       "      <td>ShS</td>\n",
       "      <td>0.825000</td>\n",
       "      <td>0.857143</td>\n",
       "      <td>0.776786</td>\n",
       "      <td>0.026845</td>\n",
       "      <td>0.816143</td>\n",
       "    </tr>\n",
       "    <tr>\n",
       "      <th>12</th>\n",
       "      <td>KNC</td>\n",
       "      <td>SKF</td>\n",
       "      <td>0.791011</td>\n",
       "      <td>0.853933</td>\n",
       "      <td>0.719101</td>\n",
       "      <td>0.056225</td>\n",
       "      <td>0.820628</td>\n",
       "    </tr>\n",
       "    <tr>\n",
       "      <th>13</th>\n",
       "      <td>KNC</td>\n",
       "      <td>KF</td>\n",
       "      <td>0.800000</td>\n",
       "      <td>0.853933</td>\n",
       "      <td>0.764045</td>\n",
       "      <td>0.035814</td>\n",
       "      <td>0.820628</td>\n",
       "    </tr>\n",
       "    <tr>\n",
       "      <th>14</th>\n",
       "      <td>KNC</td>\n",
       "      <td>ShS</td>\n",
       "      <td>0.803571</td>\n",
       "      <td>0.821429</td>\n",
       "      <td>0.767857</td>\n",
       "      <td>0.020360</td>\n",
       "      <td>0.820628</td>\n",
       "    </tr>\n",
       "    <tr>\n",
       "      <th>15</th>\n",
       "      <td>DeTree</td>\n",
       "      <td>SKF</td>\n",
       "      <td>0.737079</td>\n",
       "      <td>0.764045</td>\n",
       "      <td>0.696629</td>\n",
       "      <td>0.023136</td>\n",
       "      <td>0.773543</td>\n",
       "    </tr>\n",
       "    <tr>\n",
       "      <th>16</th>\n",
       "      <td>DeTree</td>\n",
       "      <td>KF</td>\n",
       "      <td>0.757303</td>\n",
       "      <td>0.820225</td>\n",
       "      <td>0.685393</td>\n",
       "      <td>0.042991</td>\n",
       "      <td>0.771300</td>\n",
       "    </tr>\n",
       "    <tr>\n",
       "      <th>17</th>\n",
       "      <td>DeTree</td>\n",
       "      <td>ShS</td>\n",
       "      <td>0.780357</td>\n",
       "      <td>0.812500</td>\n",
       "      <td>0.750000</td>\n",
       "      <td>0.020825</td>\n",
       "      <td>0.778027</td>\n",
       "    </tr>\n",
       "    <tr>\n",
       "      <th>18</th>\n",
       "      <td>RF</td>\n",
       "      <td>SKF</td>\n",
       "      <td>0.806742</td>\n",
       "      <td>0.831461</td>\n",
       "      <td>0.764045</td>\n",
       "      <td>0.026966</td>\n",
       "      <td>0.786996</td>\n",
       "    </tr>\n",
       "    <tr>\n",
       "      <th>19</th>\n",
       "      <td>RF</td>\n",
       "      <td>KF</td>\n",
       "      <td>0.822472</td>\n",
       "      <td>0.865169</td>\n",
       "      <td>0.797753</td>\n",
       "      <td>0.022917</td>\n",
       "      <td>0.807175</td>\n",
       "    </tr>\n",
       "    <tr>\n",
       "      <th>20</th>\n",
       "      <td>RF</td>\n",
       "      <td>ShS</td>\n",
       "      <td>0.803571</td>\n",
       "      <td>0.821429</td>\n",
       "      <td>0.785714</td>\n",
       "      <td>0.014940</td>\n",
       "      <td>0.820628</td>\n",
       "    </tr>\n",
       "    <tr>\n",
       "      <th>21</th>\n",
       "      <td>GB</td>\n",
       "      <td>SKF</td>\n",
       "      <td>0.797753</td>\n",
       "      <td>0.865169</td>\n",
       "      <td>0.741573</td>\n",
       "      <td>0.044944</td>\n",
       "      <td>0.831839</td>\n",
       "    </tr>\n",
       "    <tr>\n",
       "      <th>22</th>\n",
       "      <td>GB</td>\n",
       "      <td>KF</td>\n",
       "      <td>0.829213</td>\n",
       "      <td>0.887640</td>\n",
       "      <td>0.797753</td>\n",
       "      <td>0.031300</td>\n",
       "      <td>0.827354</td>\n",
       "    </tr>\n",
       "    <tr>\n",
       "      <th>23</th>\n",
       "      <td>GB</td>\n",
       "      <td>ShS</td>\n",
       "      <td>0.808929</td>\n",
       "      <td>0.830357</td>\n",
       "      <td>0.776786</td>\n",
       "      <td>0.018385</td>\n",
       "      <td>0.827354</td>\n",
       "    </tr>\n",
       "    <tr>\n",
       "      <th>24</th>\n",
       "      <td>BG</td>\n",
       "      <td>SKF</td>\n",
       "      <td>0.791011</td>\n",
       "      <td>0.820225</td>\n",
       "      <td>0.719101</td>\n",
       "      <td>0.038003</td>\n",
       "      <td>0.793722</td>\n",
       "    </tr>\n",
       "    <tr>\n",
       "      <th>25</th>\n",
       "      <td>BG</td>\n",
       "      <td>KF</td>\n",
       "      <td>0.811236</td>\n",
       "      <td>0.876404</td>\n",
       "      <td>0.775281</td>\n",
       "      <td>0.035814</td>\n",
       "      <td>0.807175</td>\n",
       "    </tr>\n",
       "    <tr>\n",
       "      <th>26</th>\n",
       "      <td>BG</td>\n",
       "      <td>ShS</td>\n",
       "      <td>0.796429</td>\n",
       "      <td>0.812500</td>\n",
       "      <td>0.767857</td>\n",
       "      <td>0.017313</td>\n",
       "      <td>0.816143</td>\n",
       "    </tr>\n",
       "    <tr>\n",
       "      <th>27</th>\n",
       "      <td>NB</td>\n",
       "      <td>SKF</td>\n",
       "      <td>0.743820</td>\n",
       "      <td>0.887640</td>\n",
       "      <td>0.674157</td>\n",
       "      <td>0.075340</td>\n",
       "      <td>0.697309</td>\n",
       "    </tr>\n",
       "    <tr>\n",
       "      <th>28</th>\n",
       "      <td>NB</td>\n",
       "      <td>KF</td>\n",
       "      <td>0.730337</td>\n",
       "      <td>0.797753</td>\n",
       "      <td>0.674157</td>\n",
       "      <td>0.044944</td>\n",
       "      <td>0.697309</td>\n",
       "    </tr>\n",
       "    <tr>\n",
       "      <th>29</th>\n",
       "      <td>NB</td>\n",
       "      <td>ShS</td>\n",
       "      <td>0.648214</td>\n",
       "      <td>0.785714</td>\n",
       "      <td>0.410714</td>\n",
       "      <td>0.147102</td>\n",
       "      <td>0.697309</td>\n",
       "    </tr>\n",
       "  </tbody>\n",
       "</table>\n",
       "</div>"
      ],
      "text/plain": [
       "       clf   cv      mean       max       min       std  test_acc\n",
       "0      RiC  SKF  0.815730  0.887640  0.741573  0.051539  0.820628\n",
       "1      RiC   KF  0.817978  0.853933  0.764045  0.031300  0.820628\n",
       "2      RiC  ShS  0.816071  0.839286  0.803571  0.012111  0.820628\n",
       "3      SVC  SKF  0.824719  0.876404  0.741573  0.049540  0.834081\n",
       "4      SVC   KF  0.835955  0.865169  0.786517  0.028953  0.834081\n",
       "5      SVC  ShS  0.819643  0.830357  0.803571  0.010412  0.834081\n",
       "6      SGD  SKF  0.779775  0.831461  0.741573  0.034522  0.811659\n",
       "7      SGD   KF  0.802247  0.876404  0.707865  0.055774  0.782511\n",
       "8      SGD  ShS  0.787500  0.839286  0.732143  0.042783  0.757848\n",
       "9       LR  SKF  0.817978  0.865169  0.775281  0.036513  0.816143\n",
       "10      LR   KF  0.835955  0.865169  0.797753  0.024203  0.816143\n",
       "11      LR  ShS  0.825000  0.857143  0.776786  0.026845  0.816143\n",
       "12     KNC  SKF  0.791011  0.853933  0.719101  0.056225  0.820628\n",
       "13     KNC   KF  0.800000  0.853933  0.764045  0.035814  0.820628\n",
       "14     KNC  ShS  0.803571  0.821429  0.767857  0.020360  0.820628\n",
       "15  DeTree  SKF  0.737079  0.764045  0.696629  0.023136  0.773543\n",
       "16  DeTree   KF  0.757303  0.820225  0.685393  0.042991  0.771300\n",
       "17  DeTree  ShS  0.780357  0.812500  0.750000  0.020825  0.778027\n",
       "18      RF  SKF  0.806742  0.831461  0.764045  0.026966  0.786996\n",
       "19      RF   KF  0.822472  0.865169  0.797753  0.022917  0.807175\n",
       "20      RF  ShS  0.803571  0.821429  0.785714  0.014940  0.820628\n",
       "21      GB  SKF  0.797753  0.865169  0.741573  0.044944  0.831839\n",
       "22      GB   KF  0.829213  0.887640  0.797753  0.031300  0.827354\n",
       "23      GB  ShS  0.808929  0.830357  0.776786  0.018385  0.827354\n",
       "24      BG  SKF  0.791011  0.820225  0.719101  0.038003  0.793722\n",
       "25      BG   KF  0.811236  0.876404  0.775281  0.035814  0.807175\n",
       "26      BG  ShS  0.796429  0.812500  0.767857  0.017313  0.816143\n",
       "27      NB  SKF  0.743820  0.887640  0.674157  0.075340  0.697309\n",
       "28      NB   KF  0.730337  0.797753  0.674157  0.044944  0.697309\n",
       "29      NB  ShS  0.648214  0.785714  0.410714  0.147102  0.697309"
      ]
     },
     "execution_count": 29,
     "metadata": {},
     "output_type": "execute_result"
    }
   ],
   "source": [
    "pd.DataFrame({'clf':clf_res_list, 'cv':cv_res_list,'mean':mean_res_list,'max':max_res_list,'min':min_res_list,'std':std_res_list,'test_acc':test_acc})"
   ]
  },
  {
   "cell_type": "markdown",
   "metadata": {},
   "source": [
    "### Подбор пареметров для RidgeClassifier"
   ]
  },
  {
   "cell_type": "code",
   "execution_count": 30,
   "metadata": {},
   "outputs": [],
   "source": [
    "#SGD\n",
    "#RidgeClassifier\n",
    "\n",
    "parameters_grid = {\n",
    "    'model_fitting__alpha' : [1e-3, 1e-2, 1e-1, 1,1e1,1e2], #RC\n",
    "    #'model_fitting__kernel' : ['linear', 'poly', 'rbf', 'sigmoid'], #GB\n",
    "    #'model_fitting__class_weight' : [None,'balanced'],\n",
    "    #'model_fitting__learning_rate': [0.01, 0.025, 0.05, 0.075, 0.1, 0.15, 0.2],\n",
    "    #'model_fitting__learning_rate': [0.2],\n",
    "    #'model_fitting__min_samples_split': np.linspace(0.1, 0.5, 12),\n",
    "    #'model_fitting__min_samples_leaf': np.linspace(0.1, 0.5, 12),\n",
    "    #'model_fitting__max_features':[\"log2\",\"sqrt\"],\n",
    "    #'model_fitting__criterion': [\"friedman_mse\",  \"mae\"],\n",
    "    #\"model_fitting__subsample\":[0.5, 0.618, 0.8, 0.85, 0.9, 0.95, 1.0],\n",
    "    #'model_fitting__subsample':[0.85]\n",
    "}"
   ]
  },
  {
   "cell_type": "code",
   "execution_count": 31,
   "metadata": {},
   "outputs": [],
   "source": [
    "clf=create_estimator(numeric_data_indices,categorical_data_indices,linear_model.RidgeClassifier(fit_intercept=False))\n",
    "cv = model_selection.StratifiedKFold(n_splits = 3, shuffle = True, random_state = 0)"
   ]
  },
  {
   "cell_type": "code",
   "execution_count": 32,
   "metadata": {},
   "outputs": [],
   "source": [
    "grid_cv = GridSearchCV(clf, parameters_grid, cv = cv)"
   ]
  },
  {
   "cell_type": "code",
   "execution_count": 33,
   "metadata": {},
   "outputs": [],
   "source": [
    "grid_cv = RandomizedSearchCV(clf, parameters_grid, cv = cv,n_iter=40)"
   ]
  },
  {
   "cell_type": "code",
   "execution_count": 34,
   "metadata": {},
   "outputs": [
    {
     "name": "stdout",
     "output_type": "stream",
     "text": [
      "0.8247173347844489\n",
      "{'model_fitting__alpha': 10.0}\n",
      "Wall time: 209 ms\n"
     ]
    },
    {
     "name": "stderr",
     "output_type": "stream",
     "text": [
      "c:\\users\\guric\\appdata\\local\\programs\\python\\python36\\lib\\site-packages\\sklearn\\model_selection\\_search.py:281: UserWarning: The total space of parameters 6 is smaller than n_iter=40. Running 6 iterations. For exhaustive searches, use GridSearchCV.\n",
      "  % (grid_size, self.n_iter, grid_size), UserWarning)\n"
     ]
    }
   ],
   "source": [
    "%%time\n",
    "#grid_cv.fit(train_data.values, train_labels)\n",
    "grid_cv.fit(X_train, y_train)\n",
    "\n",
    "print (grid_cv.best_score_)\n",
    "print (grid_cv.best_params_)"
   ]
  },
  {
   "cell_type": "code",
   "execution_count": 35,
   "metadata": {},
   "outputs": [
    {
     "data": {
      "text/plain": [
       "0.8228699551569507"
      ]
     },
     "execution_count": 35,
     "metadata": {},
     "output_type": "execute_result"
    }
   ],
   "source": [
    "y_pred=grid_cv.predict(X_test)\n",
    "accuracy_score(y_test, y_pred)"
   ]
  },
  {
   "cell_type": "code",
   "execution_count": 36,
   "metadata": {},
   "outputs": [
    {
     "data": {
      "text/plain": [
       "[(0.2582363063893513, 'x3_LargeFamily'),\n",
       " (0.24840615806142644, 'x4_Mr'),\n",
       " (0.24840615806142485, 'x7_man'),\n",
       " (0.24148524608674904, 'x7_boy'),\n",
       " (0.2414852460867488, 'x4_Master'),\n",
       " (0.2218973231953923, 'x1_female'),\n",
       " (0.2072320927681537, 'x1_male'),\n",
       " (0.20031118079347357, 'x7_officer'),\n",
       " (0.18618005060136625, 'x3_Single'),\n",
       " (0.17259604943876752, 'x7_married'),\n",
       " (0.15836422711001155, 'isCabin'),\n",
       " (0.15616263213713802, 'x0_2'),\n",
       " (0.15303209685186153, 'x4_Rev'),\n",
       " (0.1490378068803835, 'x4_Mrs'),\n",
       " (0.14389176403891576, 'x5_(60, 70]'),\n",
       " (0.1368419863019418, 'x0_3'),\n",
       " (0.13021817792419543, 'x6_Upper_High'),\n",
       " (0.12789985153437974, 'x2_S'),\n",
       " (0.12570428102171627, 'x5_(70, 80]'),\n",
       " (0.1254066005502991, 'x6_High_Mid'),\n",
       " (0.11490841574071402, 'x2_C'),\n",
       " (0.10614533432562143, 'Fare'),\n",
       " (0.08672148621522388, 'x3_SmallFamily'),\n",
       " (0.08310409621122009, 'Age'),\n",
       " (0.07774633402595268, 'x5_(10, 20]'),\n",
       " (0.0754592026943844, 'x4_Col'),\n",
       " (0.07530606267765833, 'x4_Dr'),\n",
       " (0.07336582276728462, 'SibSp'),\n",
       " (0.06966242417679785, 'x6_High'),\n",
       " (0.060500511768778305, 'x5_(30, 40]'),\n",
       " (0.05241989612092913, 'Family'),\n",
       " (0.047432223958338196, 'x4_Capt'),\n",
       " (0.04344281831952488, 'x4_Ms'),\n",
       " (0.03766334122554255, 'x5_(40, 50]'),\n",
       " (0.03733001926655904, 'x7_snob'),\n",
       " (0.03628234854146014, 'x6_Mid'),\n",
       " (0.02765666622090253, 'x2_Q'),\n",
       " (0.026498912421241992, 'x5_(50, 60]'),\n",
       " (0.025360197250823932, 'x4_Lady'),\n",
       " (0.022360545120515555, 'x5_(0, 10]'),\n",
       " (0.019884575761140805, 'x4_Mme'),\n",
       " (0.017253576164960024, 'x4_Miss'),\n",
       " (0.013903267834201052, 'x6_Low'),\n",
       " (0.011971254490063988, 'x7_single'),\n",
       " (0.011969822015735073, 'x4_the Countess'),\n",
       " (0.00829682717534611, 'x5_(20, 30]'),\n",
       " (0.005282321674895063, 'x4_Mlle'),\n",
       " (0.0046554154079544215, 'x0_1'),\n",
       " (0.0005492564981960578, 'Parch')]"
      ]
     },
     "execution_count": 36,
     "metadata": {},
     "output_type": "execute_result"
    }
   ],
   "source": [
    "#Коэфициенты модели\n",
    "#grid_cv.best_estimator_.steps[0][1].transformer_list[1][1].steps[0][1].fit_transform(X_train)[:2]\n",
    "#one_hot_cat_col=grid_cv.best_estimator_.steps[0][1].transformer_list[1][1][1].get_feature_names(categorical_data_columns)\n",
    "#grid_cv.best_estimator_.steps[0][1].transformer_list[1][1].steps[1][1].categories_\n",
    "all_column=numeric_data_columns+list(grid_cv.best_estimator_.steps[0][1].transformer_list[1][1].steps[1][1].get_feature_names())\n",
    "coef=grid_cv.best_estimator_.steps[1][1].coef_[0]\n",
    "sorted(zip(np.abs(coef),all_column),reverse=True)"
   ]
  },
  {
   "cell_type": "markdown",
   "metadata": {},
   "source": [
    "### Подбор пареметров для SVC"
   ]
  },
  {
   "cell_type": "code",
   "execution_count": null,
   "metadata": {},
   "outputs": [],
   "source": [
    "#SVC\n",
    "\n",
    "parameters_grid = {\n",
    "    #'model_fitting__C' : [0.01,0.1, 1, 10, 100,], \n",
    "    'model_fitting__C' : [0.8, 0.85, 0.9],\n",
    "    'model_fitting__kernel' : ['linear','rbf', 'sigmoid'], \n",
    "    'model_fitting__class_weight' : [None,'balanced'],\n",
    "    'model_fitting__decision_function_shape':['ovo', 'ovr'],\n",
    "    #'model_fitting__learning_rate': [0.01, 0.025, 0.05, 0.075, 0.1, 0.15, 0.2],\n",
    "    #'model_fitting__learning_rate': [0.2],\n",
    "    #'model_fitting__min_samples_split': np.linspace(0.1, 0.5, 12),\n",
    "    #'model_fitting__min_samples_leaf': np.linspace(0.1, 0.5, 12),\n",
    "    #'model_fitting__max_features':[\"log2\",\"sqrt\"],\n",
    "    #'model_fitting__criterion': [\"friedman_mse\",  \"mae\"],\n",
    "    #\"model_fitting__subsample\":[0.5, 0.618, 0.8, 0.85, 0.9, 0.95, 1.0],\n",
    "    #'model_fitting__subsample':[0.85]\n",
    "}"
   ]
  },
  {
   "cell_type": "code",
   "execution_count": null,
   "metadata": {},
   "outputs": [],
   "source": [
    "clf=create_estimator(numeric_data_indices,categorical_data_indices,svm.SVC(gamma='auto'))\n",
    "cv = model_selection.StratifiedKFold(n_splits = 3, shuffle = True, random_state = 0)"
   ]
  },
  {
   "cell_type": "code",
   "execution_count": null,
   "metadata": {},
   "outputs": [],
   "source": [
    "#clf.get_params().keys()"
   ]
  },
  {
   "cell_type": "code",
   "execution_count": null,
   "metadata": {},
   "outputs": [],
   "source": [
    "grid_cv = GridSearchCV(clf, parameters_grid, cv = cv)"
   ]
  },
  {
   "cell_type": "code",
   "execution_count": null,
   "metadata": {},
   "outputs": [],
   "source": [
    "grid_cv = RandomizedSearchCV(clf, parameters_grid, cv = cv,n_iter=40)"
   ]
  },
  {
   "cell_type": "code",
   "execution_count": null,
   "metadata": {},
   "outputs": [],
   "source": [
    "%%time\n",
    "grid_cv.fit(X_train, y_train)\n",
    "print (grid_cv.best_score_)\n",
    "print (grid_cv.best_params_)"
   ]
  },
  {
   "cell_type": "raw",
   "metadata": {},
   "source": [
    "0.8368263473053892\n",
    "{'model_fitting__C': 1, 'model_fitting__class_weight': None, 'model_fitting__decision_function_shape': 'ovo', 'model_fitting__kernel': 'rbf'}\n",
    "CPU times: user 18.8 s, sys: 39.8 ms, total: 18.9 s\n",
    "Wall time: 18.9 s"
   ]
  },
  {
   "cell_type": "raw",
   "metadata": {},
   "source": [
    "0.8368263473053892\n",
    "{'model_fitting__C': 1, 'model_fitting__class_weight': None, 'model_fitting__kernel': 'rbf'}\n",
    "CPU times: user 1min 40s, sys: 2.51 ms, total: 1min 40s\n",
    "Wall time: 1min 40s"
   ]
  },
  {
   "cell_type": "raw",
   "metadata": {},
   "source": [
    "0.8327721661054994\n",
    "{'model_fitting__C': 1, 'model_fitting__class_weight': None, 'model_fitting__kernel': 'rbf'}\n",
    "CPU times: user 40.1 s, sys: 0 ns, total: 40.1 s\n",
    "Wall time: 40.1 s"
   ]
  },
  {
   "cell_type": "code",
   "execution_count": null,
   "metadata": {},
   "outputs": [],
   "source": [
    "y_pred=grid_cv.predict(X_test)\n",
    "accuracy_score(y_test, y_pred)"
   ]
  },
  {
   "cell_type": "code",
   "execution_count": null,
   "metadata": {},
   "outputs": [],
   "source": []
  },
  {
   "cell_type": "markdown",
   "metadata": {},
   "source": [
    "### Подбор пареметров для GB"
   ]
  },
  {
   "cell_type": "code",
   "execution_count": null,
   "metadata": {},
   "outputs": [],
   "source": [
    "#GradientBoosting\n",
    "\n",
    "parameters_grid = {\n",
    "    'model_fitting__n_estimators' : [3,4, 8, 16, 32, 64, 100], #GB\n",
    "    'model_fitting__max_depth' : [3,5,7], #GB\n",
    "    #'model_fitting__loss' : [\"deviance\",'exponential'],\n",
    "    'model_fitting__learning_rate': [1, 0.5, 0.25, 0.1, 0.05, 0.01],\n",
    "    #'model_fitting__learning_rate': [0.2],\n",
    "    #'model_fitting__min_samples_split': np.linspace(0.1, 1, 5),\n",
    "    #'model_fitting__min_samples_leaf': np.linspace(0.1, 0.5, 5),\n",
    "    'model_fitting__max_features':['auto',\"log2\",\"sqrt\",None],\n",
    "    #'model_fitting__criterion': [\"friedman_mse\",  \"mae\"],\n",
    "    #\"model_fitting__subsample\":[0.5, 0.618, 0.8, 0.85, 0.9, 0.95, 1.0],\n",
    "    #'model_fitting__subsample':[0.85]\n",
    "}"
   ]
  },
  {
   "cell_type": "code",
   "execution_count": null,
   "metadata": {},
   "outputs": [],
   "source": [
    "clf=create_estimator(numeric_data_indices,categorical_data_indices,ensemble.GradientBoostingClassifier())\n",
    "cv = model_selection.StratifiedKFold(n_splits = 3, shuffle = True, random_state = 0)"
   ]
  },
  {
   "cell_type": "code",
   "execution_count": null,
   "metadata": {},
   "outputs": [],
   "source": [
    "#clf.get_params().keys()"
   ]
  },
  {
   "cell_type": "code",
   "execution_count": null,
   "metadata": {},
   "outputs": [],
   "source": [
    "grid_cv = GridSearchCV(clf, parameters_grid, cv = cv)"
   ]
  },
  {
   "cell_type": "code",
   "execution_count": null,
   "metadata": {},
   "outputs": [],
   "source": [
    "grid_cv = RandomizedSearchCV(clf, parameters_grid, cv = cv,n_iter=100)"
   ]
  },
  {
   "cell_type": "code",
   "execution_count": null,
   "metadata": {},
   "outputs": [],
   "source": [
    "%%time\n",
    "grid_cv.fit(X_train, y_train)\n",
    "print (grid_cv.best_score_)\n",
    "print (grid_cv.best_params_)"
   ]
  },
  {
   "cell_type": "raw",
   "metadata": {},
   "source": [
    "0.8417508417508418\n",
    "{'model_fitting__learning_rate': 0.1, 'model_fitting__max_depth': 5, 'model_fitting__max_features': 'auto', 'model_fitting__n_estimators': 64}\n",
    "CPU times: user 1min 30s, sys: 0 ns, total: 1min 30s\n",
    "Wall time: 1min 30s"
   ]
  },
  {
   "cell_type": "raw",
   "metadata": {},
   "source": [
    "0.8451178451178452\n",
    "{'model_fitting__learning_rate': 0.25, 'model_fitting__max_depth': 5, 'model_fitting__min_samples_leaf': 0.1, 'model_fitting__min_samples_split': 0.325, 'model_fitting__n_estimators': 100}\n",
    "CPU times: user 2min 22s, sys: 320 ms, total: 2min 22s\n",
    "Wall time: 2min 22s"
   ]
  },
  {
   "cell_type": "code",
   "execution_count": null,
   "metadata": {},
   "outputs": [],
   "source": [
    "y_pred=grid_cv.predict(X_test)\n",
    "accuracy_score(y_test, y_pred)"
   ]
  },
  {
   "cell_type": "code",
   "execution_count": null,
   "metadata": {},
   "outputs": [],
   "source": [
    "#y_pred=grid_cv.predict(X_test)"
   ]
  },
  {
   "cell_type": "code",
   "execution_count": null,
   "metadata": {},
   "outputs": [],
   "source": [
    "#accuracy_score(y_test, y_pred)"
   ]
  },
  {
   "cell_type": "markdown",
   "metadata": {},
   "source": [
    "### Подбор пареметров для LR"
   ]
  },
  {
   "cell_type": "code",
   "execution_count": null,
   "metadata": {},
   "outputs": [],
   "source": [
    "#LR\n",
    "\n",
    "parameters_grid = {\n",
    "    'model_fitting__C' : [0.001,0.01,0.1,1,10,100], #GB\n",
    "    #'model_fitting__penalty' : ['l2','l1','none'],\n",
    "    'model_fitting__solver' : ['newton-cg', 'lbfgs', 'liblinear']\n",
    "    \n",
    "}"
   ]
  },
  {
   "cell_type": "code",
   "execution_count": null,
   "metadata": {},
   "outputs": [],
   "source": [
    "clf=create_estimator(numeric_data_indices,categorical_data_indices,linear_model.LogisticRegression(max_iter=1000))\n",
    "cv = model_selection.StratifiedKFold(n_splits = 3, shuffle = True, random_state = 0)"
   ]
  },
  {
   "cell_type": "code",
   "execution_count": null,
   "metadata": {},
   "outputs": [],
   "source": [
    "grid_cv = GridSearchCV(clf, parameters_grid, cv = cv)"
   ]
  },
  {
   "cell_type": "code",
   "execution_count": null,
   "metadata": {},
   "outputs": [],
   "source": [
    "grid_cv = RandomizedSearchCV(clf, parameters_grid, cv = cv,n_iter=100)"
   ]
  },
  {
   "cell_type": "code",
   "execution_count": null,
   "metadata": {},
   "outputs": [],
   "source": [
    "%%time\n",
    "grid_cv.fit(X_train, y_train)\n",
    "print (grid_cv.best_score_)\n",
    "print (grid_cv.best_params_)"
   ]
  },
  {
   "cell_type": "code",
   "execution_count": null,
   "metadata": {},
   "outputs": [],
   "source": [
    "y_pred=grid_cv.predict(X_test)\n",
    "accuracy_score(y_test, y_pred)"
   ]
  },
  {
   "cell_type": "raw",
   "metadata": {},
   "source": [
    "0.8260381593714927\n",
    "{'model_fitting__C': 10}\n",
    "CPU times: user 928 ms, sys: 16 ms, total: 944 ms\n",
    "Wall time: 478 ms\n",
    "solver='lbfgs',penalty = 'l2'"
   ]
  },
  {
   "cell_type": "markdown",
   "metadata": {},
   "source": [
    "### Подбор пареметров для RF"
   ]
  },
  {
   "cell_type": "code",
   "execution_count": null,
   "metadata": {},
   "outputs": [],
   "source": [
    "#RandomForestClassifier(n_estimators=10)\n",
    "\n",
    "parameters_grid = {\n",
    "    'model_fitting__n_estimators' : [1, 2, 4, 8, 16, 32, 64, 100, 200,500], #GB\n",
    "    #'model_fitting__max_depth' : np.linspace(1, 32, 32, endpoint=True), #GB\n",
    "    #'model_fitting__loss' : [\"deviance\",'exponential'],\n",
    "    #'model_fitting__learning_rate': [0.01, 0.025, 0.05, 0.075, 0.1, 0.15, 0.2],\n",
    "    #'model_fitting__learning_rate': [0.2],\n",
    "    'model_fitting__min_samples_split': [2,5,7,10],\n",
    "    'model_fitting__min_samples_leaf': np.linspace(0.1, 0.5, 5, endpoint=True),\n",
    "    #'model_fitting__max_features':[\"log2\",\"sqrt\",'auto'],\n",
    "    #'model_fitting__criterion': [\"friedman_mse\",  \"mae\"],\n",
    "    #\"model_fitting__subsample\":[0.5, 0.618, 0.8, 0.85, 0.9, 0.95, 1.0],\n",
    "    #'model_fitting__subsample':[0.85]\n",
    "    #'model_fitting__class_weight' : ['balanced',None]\n",
    "}"
   ]
  },
  {
   "cell_type": "code",
   "execution_count": null,
   "metadata": {},
   "outputs": [],
   "source": [
    "clf=create_estimator(numeric_data_indices,categorical_data_indices,ensemble.RandomForestClassifier(class_weight='balanced'))\n",
    "cv = model_selection.StratifiedKFold(n_splits = 3, shuffle = True, random_state = 0)"
   ]
  },
  {
   "cell_type": "code",
   "execution_count": null,
   "metadata": {},
   "outputs": [],
   "source": [
    "grid_cv = GridSearchCV(clf, parameters_grid, cv = cv)"
   ]
  },
  {
   "cell_type": "code",
   "execution_count": null,
   "metadata": {},
   "outputs": [],
   "source": [
    "grid_cv = RandomizedSearchCV(clf, parameters_grid, cv = cv,n_iter=100)"
   ]
  },
  {
   "cell_type": "code",
   "execution_count": null,
   "metadata": {},
   "outputs": [],
   "source": [
    "%%time\n",
    "grid_cv.fit(X_train, y_train)\n",
    "print (grid_cv.best_score_)\n",
    "print (grid_cv.best_params_)"
   ]
  },
  {
   "cell_type": "code",
   "execution_count": null,
   "metadata": {},
   "outputs": [],
   "source": [
    "y_pred=grid_cv.predict(X_test)\n",
    "accuracy_score(y_test, y_pred)"
   ]
  },
  {
   "cell_type": "raw",
   "metadata": {},
   "source": [
    "0.7957351290684624\n",
    "{'model_fitting__n_estimators': 64, 'model_fitting__min_samples_split': 0.2, 'model_fitting__min_samples_leaf': 0.1, 'model_fitting__max_features': 'sqrt', 'model_fitting__max_depth': 2.0}\n",
    "CPU times: user 15.4 s, sys: 136 ms, total: 15.6 s\n",
    "Wall time: 15.6 s"
   ]
  },
  {
   "cell_type": "markdown",
   "metadata": {},
   "source": [
    "## Обучение финального классификатора ALL_TRAIN"
   ]
  },
  {
   "cell_type": "code",
   "execution_count": null,
   "metadata": {},
   "outputs": [],
   "source": [
    "#SVC\n",
    "\n",
    "parameters_grid = {\n",
    "    'model_fitting__gamma' : ['auto',0.0001,0.001,0.01,0.1,1,10], \n",
    "    'model_fitting__C' : [0.01,0.1, 1, 10],\n",
    "    'model_fitting__kernel' : ['linear','rbf', 'sigmoid'], #GB\n",
    "    'model_fitting__class_weight' : [None,'balanced'],\n",
    "    'model_fitting__decision_function_shape':['ovo', 'ovr'],\n",
    "    #'model_fitting__learning_rate': [0.01, 0.025, 0.05, 0.075, 0.1, 0.15, 0.2],\n",
    "    #'model_fitting__learning_rate': [0.2],\n",
    "    #'model_fitting__min_samples_split': np.linspace(0.1, 0.5, 12),\n",
    "    #'model_fitting__min_samples_leaf': np.linspace(0.1, 0.5, 12),\n",
    "    #'model_fitting__max_features':[\"log2\",\"sqrt\"],\n",
    "    #'model_fitting__criterion': [\"friedman_mse\",  \"mae\"],\n",
    "    #\"model_fitting__subsample\":[0.5, 0.618, 0.8, 0.85, 0.9, 0.95, 1.0],\n",
    "    #'model_fitting__subsample':[0.85]\n",
    "}"
   ]
  },
  {
   "cell_type": "code",
   "execution_count": null,
   "metadata": {},
   "outputs": [],
   "source": [
    "clf=create_estimator(numeric_data_indices,categorical_data_indices,svm.SVC(gamma='auto'))\n",
    "cv = model_selection.StratifiedKFold(n_splits = 3, shuffle = True, random_state = 0)"
   ]
  },
  {
   "cell_type": "code",
   "execution_count": null,
   "metadata": {},
   "outputs": [],
   "source": [
    "grid_cv = GridSearchCV(clf, parameters_grid, cv = cv)"
   ]
  },
  {
   "cell_type": "code",
   "execution_count": null,
   "metadata": {},
   "outputs": [],
   "source": [
    "grid_cv = RandomizedSearchCV(clf, parameters_grid, cv = cv,n_iter=40)"
   ]
  },
  {
   "cell_type": "code",
   "execution_count": null,
   "metadata": {},
   "outputs": [],
   "source": [
    "%%time\n",
    "grid_cv.fit(train_data.values, train_labels)\n",
    "print (grid_cv.best_score_)\n",
    "print (grid_cv.best_params_)"
   ]
  },
  {
   "cell_type": "raw",
   "metadata": {},
   "source": [
    "0.8305274971941639\n",
    "{'model_fitting__kernel': 'rbf', 'model_fitting__gamma': 'auto', 'model_fitting__decision_function_shape': 'ovo', 'model_fitting__class_weight': None, 'model_fitting__C': 1}\n",
    "CPU times: user 5.11 s, sys: 0 ns, total: 5.11 s\n",
    "Wall time: 5.11 s"
   ]
  },
  {
   "cell_type": "markdown",
   "metadata": {},
   "source": [
    "### формирование файла Kaggle"
   ]
  },
  {
   "cell_type": "code",
   "execution_count": null,
   "metadata": {},
   "outputs": [],
   "source": [
    "result = grid_cv.predict(test_data.values)\n",
    "submission = pd.DataFrame({'PassengerId':raw_test_data.PassengerId,'Survived':result})\n",
    "submission.Survived = submission.Survived.astype(int)\n",
    "print(submission.shape)\n"
   ]
  },
  {
   "cell_type": "code",
   "execution_count": null,
   "metadata": {},
   "outputs": [],
   "source": [
    "filename = 'titanic13_SVC.csv'\n",
    "submission.to_csv(filename,index=False)\n",
    "print('Saved file: ' + filename)"
   ]
  },
  {
   "cell_type": "code",
   "execution_count": null,
   "metadata": {},
   "outputs": [],
   "source": [
    "#Преобразование категориальных признаков в отдельном df\n",
    "#dummy_data=pd.get_dummies(data=raw_test_data, columns=categorical_data_columns)\n",
    "#dummy_index=dummy_data.columns.str.contains('|'.join(categorical_data_columns))\n",
    "#dummy_data=dummy_data.loc[:,dummy_index]\n",
    "#Числовые данные в отдельном df\n",
    "#numeric_data=raw_test_data[numeric_data_columns]\n",
    "#создаем стандартный scaler\n",
    "#scaler = StandardScaler()\n",
    "#scaled_test_data=scaler.transform(numeric_data)\n",
    "#scaled_test_data = scaler.transform(test_data)\n",
    "#all_test_data=np.hstack((scaled_test_data,dummy_data.values))"
   ]
  },
  {
   "cell_type": "raw",
   "metadata": {},
   "source": [
    "# найти все признаки, в которых первое значение - строка\n",
    "def find_cat(data):\n",
    "    for name in data.columns:\n",
    "        s = ''\n",
    "        s += name\n",
    "        if (type(data[name][0]) == str):\n",
    "            s += ' строка,'\n",
    "        if (data[name].nunique()<=3):\n",
    "            s += ' мало уникальных'\n",
    "        if (s!=name):\n",
    "            print (s)\n",
    "            \n",
    "find_cat(train_data)"
   ]
  },
  {
   "cell_type": "markdown",
   "metadata": {},
   "source": [
    "### Стекинг для валидации"
   ]
  },
  {
   "cell_type": "code",
   "execution_count": 80,
   "metadata": {},
   "outputs": [],
   "source": [
    "X_train_st, X_test_st, y_train_st, y_test_st = train_test_split(train_data.values, train_labels.values, test_size=0.25, random_state=42)"
   ]
  },
  {
   "cell_type": "code",
   "execution_count": 82,
   "metadata": {},
   "outputs": [
    {
     "data": {
      "text/plain": [
       "((668, 17), (668,), (668,))"
      ]
     },
     "execution_count": 82,
     "metadata": {},
     "output_type": "execute_result"
    }
   ],
   "source": [
    "X_train_st.shape,y_train_st.shape,y_train_st.shape"
   ]
  },
  {
   "cell_type": "code",
   "execution_count": 83,
   "metadata": {},
   "outputs": [],
   "source": [
    "clfs = [create_estimator(numeric_data_indices,categorical_data_indices,svm.SVC(gamma='auto')),\n",
    "        create_estimator(numeric_data_indices,categorical_data_indices,linear_model.LogisticRegression(class_weight=None,tol=1e-05, n_jobs=-1, penalty='l2'))]"
   ]
  },
  {
   "cell_type": "code",
   "execution_count": 84,
   "metadata": {},
   "outputs": [],
   "source": [
    "dataset_blend_train = np.zeros((X_train_st.shape[0], len(clfs)))"
   ]
  },
  {
   "cell_type": "code",
   "execution_count": 85,
   "metadata": {},
   "outputs": [
    {
     "name": "stdout",
     "output_type": "stream",
     "text": [
      "0 SVC(C=1.0, break_ties=False, cache_size=200, class_weight=None, coef0=0.0,\n",
      "    decision_function_shape='ovr', degree=3, gamma='auto', kernel='rbf',\n",
      "    max_iter=-1, probability=False, random_state=None, shrinking=True,\n",
      "    tol=0.001, verbose=False)\n",
      "Fold 0\n",
      "------------------------ <class 'sklearn.svm._classes.SVC'>\n",
      "----------SVM-------\n",
      "Fold 1\n",
      "------------------------ <class 'sklearn.svm._classes.SVC'>\n",
      "----------SVM-------\n",
      "Fold 2\n",
      "------------------------ <class 'sklearn.svm._classes.SVC'>\n",
      "----------SVM-------\n",
      "Fold 3\n",
      "------------------------ <class 'sklearn.svm._classes.SVC'>\n",
      "----------SVM-------\n",
      "Fold 4\n",
      "------------------------ <class 'sklearn.svm._classes.SVC'>\n",
      "----------SVM-------\n",
      "1 LogisticRegression(C=1.0, class_weight=None, dual=False, fit_intercept=True,\n",
      "                   intercept_scaling=1, l1_ratio=None, max_iter=100,\n",
      "                   multi_class='auto', n_jobs=-1, penalty='l2',\n",
      "                   random_state=None, solver='lbfgs', tol=1e-05, verbose=0,\n",
      "                   warm_start=False)\n",
      "Fold 0\n",
      "------------------------ <class 'sklearn.linear_model._logistic.LogisticRegression'>\n",
      "----------Other-------\n",
      "Fold 1\n",
      "------------------------ <class 'sklearn.linear_model._logistic.LogisticRegression'>\n",
      "----------Other-------\n",
      "Fold 2\n",
      "------------------------ <class 'sklearn.linear_model._logistic.LogisticRegression'>\n",
      "----------Other-------\n",
      "Fold 3\n",
      "------------------------ <class 'sklearn.linear_model._logistic.LogisticRegression'>\n",
      "----------Other-------\n",
      "Fold 4\n",
      "------------------------ <class 'sklearn.linear_model._logistic.LogisticRegression'>\n",
      "----------Other-------\n"
     ]
    }
   ],
   "source": [
    "kf = model_selection.StratifiedKFold(n_splits=5,shuffle=False)\n",
    "for j, clf in enumerate(clfs):\n",
    "    print (j, clf[1])\n",
    "    for i, (train_, test_) in enumerate(kf.split(X_train_st, y_train_st)):\n",
    "        print (\"Fold\", i)\n",
    "        X_tr = X_train_st[train_]\n",
    "        y_tr = y_train_st[train_]\n",
    "        X_te = X_train_st[test_]\n",
    "        y_te = y_train_st[test_]\n",
    "        clf.fit(X_tr, y_tr)\n",
    "        print('------------------------',type(clf[1]))\n",
    "        if isinstance(clf[1],svm._classes.SVC):\n",
    "            print('----------SVM-------')\n",
    "            y_submission = clf.predict(X_te)\n",
    "        else:\n",
    "            print('----------Other-------')\n",
    "            y_submission = clf.predict_proba(X_te)[:, 1]\n",
    "        dataset_blend_train[test_, j] = y_submission"
   ]
  },
  {
   "cell_type": "code",
   "execution_count": 86,
   "metadata": {},
   "outputs": [
    {
     "data": {
      "text/plain": [
       "(668, 2)"
      ]
     },
     "execution_count": 86,
     "metadata": {},
     "output_type": "execute_result"
    }
   ],
   "source": [
    "dataset_blend_train.shape"
   ]
  },
  {
   "cell_type": "code",
   "execution_count": 87,
   "metadata": {},
   "outputs": [
    {
     "name": "stdout",
     "output_type": "stream",
     "text": [
      "[0.82089552 0.8880597  0.79850746 0.81954887 0.84210526]\n"
     ]
    },
    {
     "data": {
      "text/plain": [
       "0.8338233643811019"
      ]
     },
     "execution_count": 87,
     "metadata": {},
     "output_type": "execute_result"
    }
   ],
   "source": [
    "clf2 = linear_model.RidgeClassifier(class_weight=None,tol=1e-05, random_state=11)\n",
    "ls = cross_val_score(clf2, dataset_blend_train, y_train_st, cv=5, scoring='accuracy')\n",
    "print(ls)\n",
    "np.mean(ls)"
   ]
  },
  {
   "cell_type": "code",
   "execution_count": 88,
   "metadata": {},
   "outputs": [
    {
     "data": {
      "text/plain": [
       "RidgeClassifier(alpha=1.0, class_weight=None, copy_X=True, fit_intercept=True,\n",
       "                max_iter=None, normalize=False, random_state=11, solver='auto',\n",
       "                tol=1e-05)"
      ]
     },
     "execution_count": 88,
     "metadata": {},
     "output_type": "execute_result"
    }
   ],
   "source": [
    "clf2.fit(dataset_blend_train, y_train_st)"
   ]
  },
  {
   "cell_type": "code",
   "execution_count": 91,
   "metadata": {},
   "outputs": [],
   "source": [
    "#clf2.predict()"
   ]
  },
  {
   "cell_type": "markdown",
   "metadata": {},
   "source": [
    "### Тест для стекинга"
   ]
  },
  {
   "cell_type": "code",
   "execution_count": 93,
   "metadata": {},
   "outputs": [
    {
     "name": "stdout",
     "output_type": "stream",
     "text": [
      "0 SVC(C=1.0, break_ties=False, cache_size=200, class_weight=None, coef0=0.0,\n",
      "    decision_function_shape='ovr', degree=3, gamma='auto', kernel='rbf',\n",
      "    max_iter=-1, probability=False, random_state=None, shrinking=True,\n",
      "    tol=0.001, verbose=False)\n",
      "------------------------ <class 'sklearn.svm._classes.SVC'>\n",
      "----------SVM-------\n",
      "1 LogisticRegression(C=1.0, class_weight=None, dual=False, fit_intercept=True,\n",
      "                   intercept_scaling=1, l1_ratio=None, max_iter=100,\n",
      "                   multi_class='auto', n_jobs=-1, penalty='l2',\n",
      "                   random_state=None, solver='lbfgs', tol=1e-05, verbose=0,\n",
      "                   warm_start=False)\n",
      "------------------------ <class 'sklearn.linear_model._logistic.LogisticRegression'>\n",
      "----------Other-------\n"
     ]
    }
   ],
   "source": [
    "#kf = model_selection.StratifiedKFold(n_splits=5,shuffle=False)\n",
    "X_meta = np.zeros((X_test_st.shape[0],len(clfs)))\n",
    "for j, clf in enumerate(clfs):\n",
    "    print (j, clf[1])\n",
    "    #for i, (train_, test_) in enumerate(kf.split(train_data, train_labels)):\n",
    "    #    print (\"Fold\", i)\n",
    "    #    X_tr = train_data.values[train_]\n",
    "    #    y_tr = train_labels[train_]\n",
    "    #    X_te = train_data.values[test_]\n",
    "    #    y_te = train_labels[test_]\n",
    "    #    clf_pipeline=create_estimator(numeric_data_indices,categorical_data_indices,clf)\n",
    "    #    clf_pipeline.fit(X_tr, y_tr)\n",
    "    print('------------------------',type(clf[1]))\n",
    "    if isinstance(clf[1],svm._classes.SVC):\n",
    "        print('----------SVM-------')\n",
    "        #y_submission = clf_.predict(X_te)\n",
    "        X_meta[:, j] = clf.predict(X_test_st)\n",
    "    else:\n",
    "        print('----------Other-------')\n",
    "        #y_submission = clf_pipeline.predict_proba(X_te)[:, 1]\n",
    "        X_meta[:, j] = clf.predict_proba(X_test_st)[:, 1]\n",
    "    #dataset_blend_train[test_, j] = y_submission"
   ]
  },
  {
   "cell_type": "code",
   "execution_count": 94,
   "metadata": {},
   "outputs": [
    {
     "data": {
      "text/plain": [
       "((446, 17), (223, 2))"
      ]
     },
     "execution_count": 94,
     "metadata": {},
     "output_type": "execute_result"
    }
   ],
   "source": [
    "X_test.shape,X_meta.shape"
   ]
  },
  {
   "cell_type": "code",
   "execution_count": 95,
   "metadata": {},
   "outputs": [],
   "source": [
    "pred_meta=clf2.predict(X_meta)"
   ]
  },
  {
   "cell_type": "code",
   "execution_count": 96,
   "metadata": {},
   "outputs": [
    {
     "data": {
      "text/plain": [
       "0.8251121076233184"
      ]
     },
     "execution_count": 96,
     "metadata": {},
     "output_type": "execute_result"
    }
   ],
   "source": [
    "accuracy_score(y_test_st, pred_meta)"
   ]
  },
  {
   "cell_type": "markdown",
   "metadata": {},
   "source": [
    "## Стекинг для ответа kaggle"
   ]
  },
  {
   "cell_type": "code",
   "execution_count": 112,
   "metadata": {},
   "outputs": [],
   "source": [
    "clfs = [create_estimator(numeric_data_indices,categorical_data_indices,svm.SVC(gamma='auto')),\n",
    "        create_estimator(numeric_data_indices,categorical_data_indices,linear_model.LogisticRegression(class_weight=None,tol=1e-05, n_jobs=-1, penalty='l2'))]"
   ]
  },
  {
   "cell_type": "code",
   "execution_count": 113,
   "metadata": {},
   "outputs": [],
   "source": [
    "X_train_st_kaggle=train_data.values\n",
    "y_train_st_kaggle=train_labels.values"
   ]
  },
  {
   "cell_type": "code",
   "execution_count": 114,
   "metadata": {},
   "outputs": [],
   "source": [
    "dataset_blend_train = np.zeros((X_train_st_kaggle.shape[0], len(clfs)))"
   ]
  },
  {
   "cell_type": "code",
   "execution_count": 115,
   "metadata": {},
   "outputs": [
    {
     "name": "stdout",
     "output_type": "stream",
     "text": [
      "0 SVC(C=1.0, break_ties=False, cache_size=200, class_weight=None, coef0=0.0,\n",
      "    decision_function_shape='ovr', degree=3, gamma='auto', kernel='rbf',\n",
      "    max_iter=-1, probability=False, random_state=None, shrinking=True,\n",
      "    tol=0.001, verbose=False)\n",
      "Fold 0\n",
      "------------------------ <class 'sklearn.svm._classes.SVC'>\n",
      "----------SVM-------\n",
      "Fold 1\n",
      "------------------------ <class 'sklearn.svm._classes.SVC'>\n",
      "----------SVM-------\n",
      "Fold 2\n",
      "------------------------ <class 'sklearn.svm._classes.SVC'>\n",
      "----------SVM-------\n",
      "Fold 3\n",
      "------------------------ <class 'sklearn.svm._classes.SVC'>\n",
      "----------SVM-------\n",
      "Fold 4\n",
      "------------------------ <class 'sklearn.svm._classes.SVC'>\n",
      "----------SVM-------\n",
      "1 LogisticRegression(C=1.0, class_weight=None, dual=False, fit_intercept=True,\n",
      "                   intercept_scaling=1, l1_ratio=None, max_iter=100,\n",
      "                   multi_class='auto', n_jobs=-1, penalty='l2',\n",
      "                   random_state=None, solver='lbfgs', tol=1e-05, verbose=0,\n",
      "                   warm_start=False)\n",
      "Fold 0\n",
      "------------------------ <class 'sklearn.linear_model._logistic.LogisticRegression'>\n",
      "----------Other-------\n",
      "Fold 1\n",
      "------------------------ <class 'sklearn.linear_model._logistic.LogisticRegression'>\n",
      "----------Other-------\n",
      "Fold 2\n",
      "------------------------ <class 'sklearn.linear_model._logistic.LogisticRegression'>\n",
      "----------Other-------\n",
      "Fold 3\n",
      "------------------------ <class 'sklearn.linear_model._logistic.LogisticRegression'>\n",
      "----------Other-------\n",
      "Fold 4\n",
      "------------------------ <class 'sklearn.linear_model._logistic.LogisticRegression'>\n",
      "----------Other-------\n"
     ]
    }
   ],
   "source": [
    "kf = model_selection.StratifiedKFold(n_splits=5,shuffle=False)\n",
    "for j, clf in enumerate(clfs):\n",
    "    print (j, clf[1])\n",
    "    for i, (train_, test_) in enumerate(kf.split(X_train_st_kaggle, y_train_st_kaggle)):\n",
    "        print (\"Fold\", i)\n",
    "        X_tr = X_train_st_kaggle[train_]\n",
    "        y_tr = y_train_st_kaggle[train_]\n",
    "        X_te = X_train_st_kaggle[test_]\n",
    "        y_te = y_train_st_kaggle[test_]\n",
    "        clf.fit(X_tr, y_tr)\n",
    "        print('------------------------',type(clf[1]))\n",
    "        if isinstance(clf[1],svm._classes.SVC):\n",
    "            print('----------SVM-------')\n",
    "            y_submission = clf.predict(X_te)\n",
    "        else:\n",
    "            print('----------Other-------')\n",
    "            y_submission = clf.predict_proba(X_te)[:, 1]\n",
    "        dataset_blend_train[test_, j] = y_submission"
   ]
  },
  {
   "cell_type": "code",
   "execution_count": 116,
   "metadata": {},
   "outputs": [
    {
     "data": {
      "text/plain": [
       "RidgeClassifier(alpha=1.0, class_weight=None, copy_X=True, fit_intercept=True,\n",
       "                max_iter=None, normalize=False, random_state=11, solver='auto',\n",
       "                tol=1e-05)"
      ]
     },
     "execution_count": 116,
     "metadata": {},
     "output_type": "execute_result"
    }
   ],
   "source": [
    "clf_meta_kaggle = linear_model.RidgeClassifier(class_weight=None,tol=1e-05, random_state=11)\n",
    "clf_meta_kaggle.fit(dataset_blend_train, y_train_st_kaggle)"
   ]
  },
  {
   "cell_type": "markdown",
   "metadata": {},
   "source": [
    "### Стекинг test для kaggle"
   ]
  },
  {
   "cell_type": "code",
   "execution_count": 108,
   "metadata": {},
   "outputs": [],
   "source": [
    "X_test_st_kaggle=test_data.values"
   ]
  },
  {
   "cell_type": "code",
   "execution_count": 109,
   "metadata": {},
   "outputs": [
    {
     "name": "stdout",
     "output_type": "stream",
     "text": [
      "0 SVC(C=1.0, break_ties=False, cache_size=200, class_weight=None, coef0=0.0,\n",
      "    decision_function_shape='ovr', degree=3, gamma='auto', kernel='rbf',\n",
      "    max_iter=-1, probability=False, random_state=None, shrinking=True,\n",
      "    tol=0.001, verbose=False)\n",
      "------------------------ <class 'sklearn.svm._classes.SVC'>\n",
      "----------SVM-------\n",
      "1 LogisticRegression(C=1.0, class_weight=None, dual=False, fit_intercept=True,\n",
      "                   intercept_scaling=1, l1_ratio=None, max_iter=100,\n",
      "                   multi_class='auto', n_jobs=-1, penalty='l2',\n",
      "                   random_state=None, solver='lbfgs', tol=1e-05, verbose=0,\n",
      "                   warm_start=False)\n",
      "------------------------ <class 'sklearn.linear_model._logistic.LogisticRegression'>\n",
      "----------Other-------\n"
     ]
    }
   ],
   "source": [
    "#kf = model_selection.StratifiedKFold(n_splits=5,shuffle=False)\n",
    "X_meta = np.zeros((X_test_st_kaggle.shape[0],len(clfs)))\n",
    "for j, clf in enumerate(clfs):\n",
    "    print (j, clf[1])\n",
    "    #for i, (train_, test_) in enumerate(kf.split(train_data, train_labels)):\n",
    "    #    print (\"Fold\", i)\n",
    "    #    X_tr = train_data.values[train_]\n",
    "    #    y_tr = train_labels[train_]\n",
    "    #    X_te = train_data.values[test_]\n",
    "    #    y_te = train_labels[test_]\n",
    "    #    clf_pipeline=create_estimator(numeric_data_indices,categorical_data_indices,clf)\n",
    "    #    clf_pipeline.fit(X_tr, y_tr)\n",
    "    print('------------------------',type(clf[1]))\n",
    "    if isinstance(clf[1],svm._classes.SVC):\n",
    "        print('----------SVM-------')\n",
    "        #y_submission = clf_.predict(X_te)\n",
    "        X_meta[:, j] = clf.predict(X_test_st_kaggle)\n",
    "    else:\n",
    "        print('----------Other-------')\n",
    "        #y_submission = clf_pipeline.predict_proba(X_te)[:, 1]\n",
    "        X_meta[:, j] = clf.predict_proba(X_test_st_kaggle)[:, 1]\n",
    "    #dataset_blend_train[test_, j] = y_submission"
   ]
  },
  {
   "cell_type": "code",
   "execution_count": 111,
   "metadata": {},
   "outputs": [
    {
     "data": {
      "text/plain": [
       "(418, 2)"
      ]
     },
     "execution_count": 111,
     "metadata": {},
     "output_type": "execute_result"
    }
   ],
   "source": [
    "X_meta.shape"
   ]
  },
  {
   "cell_type": "code",
   "execution_count": 117,
   "metadata": {},
   "outputs": [
    {
     "name": "stdout",
     "output_type": "stream",
     "text": [
      "(418, 2)\n"
     ]
    }
   ],
   "source": [
    "result=clf_meta_kaggle.predict(X_meta)\n",
    "submission = pd.DataFrame({'PassengerId':raw_test_data.PassengerId,'Survived':result})\n",
    "submission.Survived = submission.Survived.astype(int)\n",
    "print(submission.shape)"
   ]
  },
  {
   "cell_type": "code",
   "execution_count": 119,
   "metadata": {},
   "outputs": [
    {
     "name": "stdout",
     "output_type": "stream",
     "text": [
      "Saved file: titanic14_stack.csv\n"
     ]
    }
   ],
   "source": [
    "filename = 'titanic14_stack.csv'\n",
    "submission.to_csv(filename,index=False)\n",
    "print('Saved file: ' + filename)"
   ]
  },
  {
   "cell_type": "code",
   "execution_count": null,
   "metadata": {},
   "outputs": [],
   "source": []
  }
 ],
 "metadata": {
  "kernelspec": {
   "display_name": "Python 3",
   "language": "python",
   "name": "python3"
  },
  "language_info": {
   "codemirror_mode": {
    "name": "ipython",
    "version": 3
   },
   "file_extension": ".py",
   "mimetype": "text/x-python",
   "name": "python",
   "nbconvert_exporter": "python",
   "pygments_lexer": "ipython3",
   "version": "3.6.4"
  }
 },
 "nbformat": 4,
 "nbformat_minor": 2
}
