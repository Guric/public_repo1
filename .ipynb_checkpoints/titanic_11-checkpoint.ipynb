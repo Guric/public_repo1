{
 "cells": [
  {
   "cell_type": "code",
   "execution_count": 1,
   "metadata": {},
   "outputs": [],
   "source": [
    "from sklearn import model_selection , linear_model, metrics, pipeline,tree, preprocessing,neighbors,ensemble,svm,naive_bayes\n",
    "from sklearn.model_selection import GridSearchCV,cross_val_score,train_test_split,RandomizedSearchCV,cross_val_predict\n",
    "from sklearn.metrics import confusion_matrix,accuracy_score\n",
    "from sklearn.preprocessing import StandardScaler\n",
    "\n",
    "#from sklearn import model_selection import grid_search\n",
    "import numpy as np\n",
    "import pandas as pd\n",
    "import seaborn as sns\n",
    "import matplotlib\n",
    "#from sklearn.linear_model import LogisticRegression\n",
    "#from sklearn.preprocessing import LabelEncoder\n",
    "from matplotlib import pyplot as plt\n",
    "matplotlib.style.use('ggplot')\n",
    "%matplotlib inline"
   ]
  },
  {
   "cell_type": "code",
   "execution_count": 30,
   "metadata": {},
   "outputs": [],
   "source": [
    "raw_train_data = pd.read_csv('./data/train.csv')\n",
    "raw_test_data = pd.read_csv('./data/test.csv')"
   ]
  },
  {
   "cell_type": "code",
   "execution_count": 31,
   "metadata": {},
   "outputs": [
    {
     "data": {
      "text/plain": [
       "((891, 12), (418, 11), 1309)"
      ]
     },
     "execution_count": 31,
     "metadata": {},
     "output_type": "execute_result"
    }
   ],
   "source": [
    "raw_train_data.shape,raw_test_data.shape,891+418\n",
    "#raw_train_data_shuffled = raw_train_data.reindex(np.random.permutation(raw_train_data.index))"
   ]
  },
  {
   "cell_type": "code",
   "execution_count": 32,
   "metadata": {},
   "outputs": [],
   "source": [
    "#raw_train_data.info()"
   ]
  },
  {
   "cell_type": "code",
   "execution_count": 33,
   "metadata": {},
   "outputs": [],
   "source": [
    "original_train_data=raw_train_data.copy()"
   ]
  },
  {
   "cell_type": "markdown",
   "metadata": {},
   "source": [
    "### Train"
   ]
  },
  {
   "cell_type": "code",
   "execution_count": 34,
   "metadata": {},
   "outputs": [
    {
     "data": {
      "text/html": [
       "<div>\n",
       "<style scoped>\n",
       "    .dataframe tbody tr th:only-of-type {\n",
       "        vertical-align: middle;\n",
       "    }\n",
       "\n",
       "    .dataframe tbody tr th {\n",
       "        vertical-align: top;\n",
       "    }\n",
       "\n",
       "    .dataframe thead th {\n",
       "        text-align: right;\n",
       "    }\n",
       "</style>\n",
       "<table border=\"1\" class=\"dataframe\">\n",
       "  <thead>\n",
       "    <tr style=\"text-align: right;\">\n",
       "      <th></th>\n",
       "      <th>data</th>\n",
       "    </tr>\n",
       "  </thead>\n",
       "  <tbody>\n",
       "    <tr>\n",
       "      <td>Age</td>\n",
       "      <td>177</td>\n",
       "    </tr>\n",
       "    <tr>\n",
       "      <td>Cabin</td>\n",
       "      <td>687</td>\n",
       "    </tr>\n",
       "    <tr>\n",
       "      <td>Embarked</td>\n",
       "      <td>2</td>\n",
       "    </tr>\n",
       "  </tbody>\n",
       "</table>\n",
       "</div>"
      ],
      "text/plain": [
       "          data\n",
       "Age        177\n",
       "Cabin      687\n",
       "Embarked     2"
      ]
     },
     "execution_count": 34,
     "metadata": {},
     "output_type": "execute_result"
    }
   ],
   "source": [
    "#Проверка пропусков\n",
    "NAs = pd.concat([raw_train_data.isnull().sum()], axis=1, keys=['data'])\n",
    "NAs[NAs.sum(axis=1) > 0]"
   ]
  },
  {
   "cell_type": "code",
   "execution_count": 35,
   "metadata": {},
   "outputs": [],
   "source": [
    "def prepare_data(raw_data,exclude_columns=[]):\n",
    "    #Обработка пропусков\n",
    "    #Заполняем медианой\n",
    "    #raw_data.Age = raw_data.Age.fillna(raw_data.Age.median())\n",
    "    #Заполняем медианой c группировкой\n",
    "    grp = raw_data.groupby(['Sex', 'Pclass'])  \n",
    "    raw_data.Age = grp.Age.apply(lambda x: x.fillna(x.median()))\n",
    "    #Заполняем модой\n",
    "    #raw_data.Embarked = raw_data.Embarked.fillna(raw_data.Embarked.value_counts().idxmax())\n",
    "    raw_data.Embarked.fillna(raw_data.Embarked.mode()[0], inplace = True)\n",
    "    raw_data.Fare.fillna(raw_data.Fare.mode()[0],inplace = True)\n",
    "    #Заполняем 'N'\n",
    "    raw_data.Cabin = raw_data.Cabin.fillna('NA')\n",
    "\n",
    "    #raw_data.Embarked.value_counts()\n",
    "    #добавим новые признаки\n",
    "    raw_data['Family'] = raw_data.Parch + raw_data.SibSp+1\n",
    "    raw_data['Family_Size'] = pd.cut(raw_data.Family, [0,1.5,4.5,15],labels=['Single','SmallFamily','LargeFamily'])\n",
    "    #raw_data['Is_Alone'] = (raw_data.Family == 0).astype(int)\n",
    "    raw_data['Salutation'] = raw_data.Name.apply(lambda name: name.split(',')[1].split('.')[0].strip()) \n",
    "    raw_data['Age_Range'] = pd.cut(raw_data.Age, [0, 10, 20, 30, 40, 50, 60,70,80])\n",
    "    raw_data['Fare_Category'] = pd.cut(raw_data.Fare, bins=[0,7.90,14.45,31.28,120.0,513.0],include_lowest = True, labels=['Low','Mid','High_Mid','High','Upper_High'])\n",
    "    raw_data['isCabin']=raw_data.Cabin.apply(lambda x: 1 if x != 'NA' else 0)\n",
    "    np.seterr(divide = 'ignore')\n",
    "    raw_data['Log_Fare']=np.log10(raw_data.Fare).replace(-np.inf, 0)\n",
    "    #raw_train_data.iloc[np.where(raw_train_data.Log_Fare.values<np.finfo(np.float64).min)]\n",
    "    #raw_data['Fare_Category'] = pd.cut(raw_data['Fare'], bins=[0,7.90,14.45,31.28,120.0], labels=['Low','Mid','High_Mid','High'])\n",
    "    #raw_data['Fare_Category'] = pd.cut(raw_data['Fare'], [0,7.90,14.45,31.28,120.0,513.0],include_lowest = True)\n",
    "    #raw_data.Salutation.nunique()\n",
    "    #####################New features#####################\n",
    "    name_dict = {\"Capt\":       \"officer\",\n",
    "                 \"Col\":        \"officer\",\n",
    "                 \"Major\":      \"officer\",\n",
    "                 \"Dr\":         \"officer\",\n",
    "                 \"Rev\":        \"officer\",\n",
    "                 \"Jonkheer\":   \"snob\",\n",
    "                 \"Don\":        \"snob\",\n",
    "                 \"Sir\" :       \"snob\",\n",
    "                 \"the Countess\":\"snob\",\n",
    "                 \"Dona\":       \"snob\",\n",
    "                 \"Lady\" :      \"snob\",\n",
    "                 \"Mme\":        \"married\",\n",
    "                 \"Ms\":         \"married\",\n",
    "                 \"Mrs\" :       \"married\",\n",
    "                 \"Miss\" :      \"single\",\n",
    "                 \"Mlle\":       \"single\",\n",
    "                 \"Mr\" :        \"man\",\n",
    "                 \"Master\" :    \"boy\"\n",
    "                }\n",
    "    raw_data['Salutation_type'] = raw_data['Salutation'].map(name_dict)\n",
    "    raw_data.drop(exclude_columns, axis = 1, inplace = True)\n",
    "    \n",
    "    return 0\n"
   ]
  },
  {
   "cell_type": "code",
   "execution_count": 36,
   "metadata": {},
   "outputs": [
    {
     "data": {
      "text/plain": [
       "0"
      ]
     },
     "execution_count": 36,
     "metadata": {},
     "output_type": "execute_result"
    }
   ],
   "source": [
    "prepare_data(raw_train_data,['Age','Fare','Name','Sex'])"
   ]
  },
  {
   "cell_type": "code",
   "execution_count": 39,
   "metadata": {},
   "outputs": [
    {
     "data": {
      "text/html": [
       "<div>\n",
       "<style scoped>\n",
       "    .dataframe tbody tr th:only-of-type {\n",
       "        vertical-align: middle;\n",
       "    }\n",
       "\n",
       "    .dataframe tbody tr th {\n",
       "        vertical-align: top;\n",
       "    }\n",
       "\n",
       "    .dataframe thead th {\n",
       "        text-align: right;\n",
       "    }\n",
       "</style>\n",
       "<table border=\"1\" class=\"dataframe\">\n",
       "  <thead>\n",
       "    <tr style=\"text-align: right;\">\n",
       "      <th></th>\n",
       "      <th>PassengerId</th>\n",
       "      <th>Survived</th>\n",
       "      <th>Pclass</th>\n",
       "      <th>SibSp</th>\n",
       "      <th>Parch</th>\n",
       "      <th>Ticket</th>\n",
       "      <th>Cabin</th>\n",
       "      <th>Embarked</th>\n",
       "      <th>Family</th>\n",
       "      <th>Family_Size</th>\n",
       "      <th>Salutation</th>\n",
       "      <th>Age_Range</th>\n",
       "      <th>Fare_Category</th>\n",
       "      <th>isCabin</th>\n",
       "      <th>Log_Fare</th>\n",
       "      <th>Salutation_type</th>\n",
       "    </tr>\n",
       "  </thead>\n",
       "  <tbody>\n",
       "    <tr>\n",
       "      <td>0</td>\n",
       "      <td>1</td>\n",
       "      <td>0</td>\n",
       "      <td>3</td>\n",
       "      <td>1</td>\n",
       "      <td>0</td>\n",
       "      <td>A/5 21171</td>\n",
       "      <td>NA</td>\n",
       "      <td>S</td>\n",
       "      <td>2</td>\n",
       "      <td>SmallFamily</td>\n",
       "      <td>Mr</td>\n",
       "      <td>(20, 30]</td>\n",
       "      <td>Low</td>\n",
       "      <td>0</td>\n",
       "      <td>0.860338</td>\n",
       "      <td>man</td>\n",
       "    </tr>\n",
       "    <tr>\n",
       "      <td>1</td>\n",
       "      <td>2</td>\n",
       "      <td>1</td>\n",
       "      <td>1</td>\n",
       "      <td>1</td>\n",
       "      <td>0</td>\n",
       "      <td>PC 17599</td>\n",
       "      <td>C85</td>\n",
       "      <td>C</td>\n",
       "      <td>2</td>\n",
       "      <td>SmallFamily</td>\n",
       "      <td>Mrs</td>\n",
       "      <td>(30, 40]</td>\n",
       "      <td>High</td>\n",
       "      <td>1</td>\n",
       "      <td>1.852988</td>\n",
       "      <td>married</td>\n",
       "    </tr>\n",
       "    <tr>\n",
       "      <td>2</td>\n",
       "      <td>3</td>\n",
       "      <td>1</td>\n",
       "      <td>3</td>\n",
       "      <td>0</td>\n",
       "      <td>0</td>\n",
       "      <td>STON/O2. 3101282</td>\n",
       "      <td>NA</td>\n",
       "      <td>S</td>\n",
       "      <td>1</td>\n",
       "      <td>Single</td>\n",
       "      <td>Miss</td>\n",
       "      <td>(20, 30]</td>\n",
       "      <td>Mid</td>\n",
       "      <td>0</td>\n",
       "      <td>0.898999</td>\n",
       "      <td>single</td>\n",
       "    </tr>\n",
       "    <tr>\n",
       "      <td>3</td>\n",
       "      <td>4</td>\n",
       "      <td>1</td>\n",
       "      <td>1</td>\n",
       "      <td>1</td>\n",
       "      <td>0</td>\n",
       "      <td>113803</td>\n",
       "      <td>C123</td>\n",
       "      <td>S</td>\n",
       "      <td>2</td>\n",
       "      <td>SmallFamily</td>\n",
       "      <td>Mrs</td>\n",
       "      <td>(30, 40]</td>\n",
       "      <td>High</td>\n",
       "      <td>1</td>\n",
       "      <td>1.725095</td>\n",
       "      <td>married</td>\n",
       "    </tr>\n",
       "    <tr>\n",
       "      <td>4</td>\n",
       "      <td>5</td>\n",
       "      <td>0</td>\n",
       "      <td>3</td>\n",
       "      <td>0</td>\n",
       "      <td>0</td>\n",
       "      <td>373450</td>\n",
       "      <td>NA</td>\n",
       "      <td>S</td>\n",
       "      <td>1</td>\n",
       "      <td>Single</td>\n",
       "      <td>Mr</td>\n",
       "      <td>(30, 40]</td>\n",
       "      <td>Mid</td>\n",
       "      <td>0</td>\n",
       "      <td>0.905796</td>\n",
       "      <td>man</td>\n",
       "    </tr>\n",
       "  </tbody>\n",
       "</table>\n",
       "</div>"
      ],
      "text/plain": [
       "   PassengerId  Survived  Pclass  SibSp  Parch            Ticket Cabin  \\\n",
       "0            1         0       3      1      0         A/5 21171    NA   \n",
       "1            2         1       1      1      0          PC 17599   C85   \n",
       "2            3         1       3      0      0  STON/O2. 3101282    NA   \n",
       "3            4         1       1      1      0            113803  C123   \n",
       "4            5         0       3      0      0            373450    NA   \n",
       "\n",
       "  Embarked  Family  Family_Size Salutation Age_Range Fare_Category  isCabin  \\\n",
       "0        S       2  SmallFamily         Mr  (20, 30]           Low        0   \n",
       "1        C       2  SmallFamily        Mrs  (30, 40]          High        1   \n",
       "2        S       1       Single       Miss  (20, 30]           Mid        0   \n",
       "3        S       2  SmallFamily        Mrs  (30, 40]          High        1   \n",
       "4        S       1       Single         Mr  (30, 40]           Mid        0   \n",
       "\n",
       "   Log_Fare Salutation_type  \n",
       "0  0.860338             man  \n",
       "1  1.852988         married  \n",
       "2  0.898999          single  \n",
       "3  1.725095         married  \n",
       "4  0.905796             man  "
      ]
     },
     "execution_count": 39,
     "metadata": {},
     "output_type": "execute_result"
    }
   ],
   "source": [
    "raw_train_data.head()\n",
    "#display_all(df.describe(include='all').T)"
   ]
  },
  {
   "cell_type": "code",
   "execution_count": 40,
   "metadata": {},
   "outputs": [
    {
     "data": {
      "text/html": [
       "<div>\n",
       "<style scoped>\n",
       "    .dataframe tbody tr th:only-of-type {\n",
       "        vertical-align: middle;\n",
       "    }\n",
       "\n",
       "    .dataframe tbody tr th {\n",
       "        vertical-align: top;\n",
       "    }\n",
       "\n",
       "    .dataframe thead th {\n",
       "        text-align: right;\n",
       "    }\n",
       "</style>\n",
       "<table border=\"1\" class=\"dataframe\">\n",
       "  <thead>\n",
       "    <tr style=\"text-align: right;\">\n",
       "      <th></th>\n",
       "      <th>data</th>\n",
       "    </tr>\n",
       "  </thead>\n",
       "  <tbody>\n",
       "  </tbody>\n",
       "</table>\n",
       "</div>"
      ],
      "text/plain": [
       "Empty DataFrame\n",
       "Columns: [data]\n",
       "Index: []"
      ]
     },
     "execution_count": 40,
     "metadata": {},
     "output_type": "execute_result"
    }
   ],
   "source": [
    "#Проверка пропусков\n",
    "NAs = pd.concat([raw_train_data.isnull().sum()], axis=1, keys=['data'])\n",
    "NAs[NAs.sum(axis=1) > 0]"
   ]
  },
  {
   "cell_type": "code",
   "execution_count": 41,
   "metadata": {},
   "outputs": [],
   "source": [
    "#raw_train_data['Singleton']=raw_train_data['Family'].apply(lambda x: 1 if x == 1 else 0)\n",
    "#raw_train_data['SmallFamily']=raw_train_data['Family'].apply(lambda x: 1 if 2<=x <= 4 else 0)\n",
    "#raw_train_data['LargeFamily']=raw_train_data['Family'].apply(lambda x: 1 if 5<=x  else 0)\n",
    "#Удалим исходные, которые были базой\n",
    "#raw_train_data.drop(['SibSp','Parch','Age','Fare'], axis = 1, inplace = True)\n",
    "#raw_train_data.isnull().any()"
   ]
  },
  {
   "cell_type": "code",
   "execution_count": 42,
   "metadata": {},
   "outputs": [],
   "source": [
    "train_labels = raw_train_data['Survived']\n",
    "train_data = raw_train_data.drop(['PassengerId', 'Survived'], axis = 1)"
   ]
  },
  {
   "cell_type": "code",
   "execution_count": 43,
   "metadata": {},
   "outputs": [],
   "source": [
    "string_data_columns = ['Name','Ticket','Cabin']\n",
    "categorical_data_columns = ['Pclass','Sex','Embarked','Salutation','Age_Range', 'Fare_Category','Family_Size','Salutation_type']\n",
    "numeric_data_columns = ['Age', 'SibSp', 'Parch', 'Fare','Family','isCabin','Log_Fare']\n",
    "#numeric_data_columns = ['Family']"
   ]
  },
  {
   "cell_type": "code",
   "execution_count": 44,
   "metadata": {},
   "outputs": [
    {
     "data": {
      "text/plain": [
       "False"
      ]
     },
     "execution_count": 44,
     "metadata": {},
     "output_type": "execute_result"
    }
   ],
   "source": [
    "set(list(train_data.columns))==set(string_data_columns+categorical_data_columns+numeric_data_columns)"
   ]
  },
  {
   "cell_type": "code",
   "execution_count": 45,
   "metadata": {},
   "outputs": [
    {
     "data": {
      "text/plain": [
       "set()"
      ]
     },
     "execution_count": 45,
     "metadata": {},
     "output_type": "execute_result"
    }
   ],
   "source": [
    "#Оставшиеся колонки\n",
    "set(train_data.columns) - set(numeric_data_columns)-set(string_data_columns)-set(categorical_data_columns)"
   ]
  },
  {
   "cell_type": "code",
   "execution_count": 46,
   "metadata": {},
   "outputs": [],
   "source": [
    "categorical_data_indices = np.array([(column in categorical_data_columns) for column in train_data.columns], dtype = bool)\n",
    "numeric_data_indices = np.array([(column in numeric_data_columns) for column in train_data.columns], dtype = bool)"
   ]
  },
  {
   "cell_type": "code",
   "execution_count": 49,
   "metadata": {},
   "outputs": [
    {
     "data": {
      "text/html": [
       "<div>\n",
       "<style scoped>\n",
       "    .dataframe tbody tr th:only-of-type {\n",
       "        vertical-align: middle;\n",
       "    }\n",
       "\n",
       "    .dataframe tbody tr th {\n",
       "        vertical-align: top;\n",
       "    }\n",
       "\n",
       "    .dataframe thead th {\n",
       "        text-align: right;\n",
       "    }\n",
       "</style>\n",
       "<table border=\"1\" class=\"dataframe\">\n",
       "  <thead>\n",
       "    <tr style=\"text-align: right;\">\n",
       "      <th></th>\n",
       "      <th>Pclass</th>\n",
       "      <th>SibSp</th>\n",
       "      <th>Parch</th>\n",
       "      <th>Ticket</th>\n",
       "      <th>Cabin</th>\n",
       "      <th>Embarked</th>\n",
       "      <th>Family</th>\n",
       "      <th>Family_Size</th>\n",
       "      <th>Salutation</th>\n",
       "      <th>Age_Range</th>\n",
       "      <th>Fare_Category</th>\n",
       "      <th>isCabin</th>\n",
       "      <th>Log_Fare</th>\n",
       "      <th>Salutation_type</th>\n",
       "    </tr>\n",
       "  </thead>\n",
       "  <tbody>\n",
       "    <tr>\n",
       "      <td>0</td>\n",
       "      <td>3</td>\n",
       "      <td>1</td>\n",
       "      <td>0</td>\n",
       "      <td>A/5 21171</td>\n",
       "      <td>NA</td>\n",
       "      <td>S</td>\n",
       "      <td>2</td>\n",
       "      <td>SmallFamily</td>\n",
       "      <td>Mr</td>\n",
       "      <td>(20, 30]</td>\n",
       "      <td>Low</td>\n",
       "      <td>0</td>\n",
       "      <td>0.860338</td>\n",
       "      <td>man</td>\n",
       "    </tr>\n",
       "    <tr>\n",
       "      <td>1</td>\n",
       "      <td>1</td>\n",
       "      <td>1</td>\n",
       "      <td>0</td>\n",
       "      <td>PC 17599</td>\n",
       "      <td>C85</td>\n",
       "      <td>C</td>\n",
       "      <td>2</td>\n",
       "      <td>SmallFamily</td>\n",
       "      <td>Mrs</td>\n",
       "      <td>(30, 40]</td>\n",
       "      <td>High</td>\n",
       "      <td>1</td>\n",
       "      <td>1.852988</td>\n",
       "      <td>married</td>\n",
       "    </tr>\n",
       "    <tr>\n",
       "      <td>2</td>\n",
       "      <td>3</td>\n",
       "      <td>0</td>\n",
       "      <td>0</td>\n",
       "      <td>STON/O2. 3101282</td>\n",
       "      <td>NA</td>\n",
       "      <td>S</td>\n",
       "      <td>1</td>\n",
       "      <td>Single</td>\n",
       "      <td>Miss</td>\n",
       "      <td>(20, 30]</td>\n",
       "      <td>Mid</td>\n",
       "      <td>0</td>\n",
       "      <td>0.898999</td>\n",
       "      <td>single</td>\n",
       "    </tr>\n",
       "    <tr>\n",
       "      <td>3</td>\n",
       "      <td>1</td>\n",
       "      <td>1</td>\n",
       "      <td>0</td>\n",
       "      <td>113803</td>\n",
       "      <td>C123</td>\n",
       "      <td>S</td>\n",
       "      <td>2</td>\n",
       "      <td>SmallFamily</td>\n",
       "      <td>Mrs</td>\n",
       "      <td>(30, 40]</td>\n",
       "      <td>High</td>\n",
       "      <td>1</td>\n",
       "      <td>1.725095</td>\n",
       "      <td>married</td>\n",
       "    </tr>\n",
       "    <tr>\n",
       "      <td>4</td>\n",
       "      <td>3</td>\n",
       "      <td>0</td>\n",
       "      <td>0</td>\n",
       "      <td>373450</td>\n",
       "      <td>NA</td>\n",
       "      <td>S</td>\n",
       "      <td>1</td>\n",
       "      <td>Single</td>\n",
       "      <td>Mr</td>\n",
       "      <td>(30, 40]</td>\n",
       "      <td>Mid</td>\n",
       "      <td>0</td>\n",
       "      <td>0.905796</td>\n",
       "      <td>man</td>\n",
       "    </tr>\n",
       "  </tbody>\n",
       "</table>\n",
       "</div>"
      ],
      "text/plain": [
       "   Pclass  SibSp  Parch            Ticket Cabin Embarked  Family  Family_Size  \\\n",
       "0       3      1      0         A/5 21171    NA        S       2  SmallFamily   \n",
       "1       1      1      0          PC 17599   C85        C       2  SmallFamily   \n",
       "2       3      0      0  STON/O2. 3101282    NA        S       1       Single   \n",
       "3       1      1      0            113803  C123        S       2  SmallFamily   \n",
       "4       3      0      0            373450    NA        S       1       Single   \n",
       "\n",
       "  Salutation Age_Range Fare_Category  isCabin  Log_Fare Salutation_type  \n",
       "0         Mr  (20, 30]           Low        0  0.860338             man  \n",
       "1        Mrs  (30, 40]          High        1  1.852988         married  \n",
       "2       Miss  (20, 30]           Mid        0  0.898999          single  \n",
       "3        Mrs  (30, 40]          High        1  1.725095         married  \n",
       "4         Mr  (30, 40]           Mid        0  0.905796             man  "
      ]
     },
     "execution_count": 49,
     "metadata": {},
     "output_type": "execute_result"
    }
   ],
   "source": [
    "train_data.head()"
   ]
  },
  {
   "cell_type": "markdown",
   "metadata": {},
   "source": [
    "### Test "
   ]
  },
  {
   "cell_type": "code",
   "execution_count": 60,
   "metadata": {},
   "outputs": [
    {
     "data": {
      "text/html": [
       "<div>\n",
       "<style scoped>\n",
       "    .dataframe tbody tr th:only-of-type {\n",
       "        vertical-align: middle;\n",
       "    }\n",
       "\n",
       "    .dataframe tbody tr th {\n",
       "        vertical-align: top;\n",
       "    }\n",
       "\n",
       "    .dataframe thead th {\n",
       "        text-align: right;\n",
       "    }\n",
       "</style>\n",
       "<table border=\"1\" class=\"dataframe\">\n",
       "  <thead>\n",
       "    <tr style=\"text-align: right;\">\n",
       "      <th></th>\n",
       "      <th>data</th>\n",
       "    </tr>\n",
       "  </thead>\n",
       "  <tbody>\n",
       "    <tr>\n",
       "      <td>Age</td>\n",
       "      <td>86</td>\n",
       "    </tr>\n",
       "    <tr>\n",
       "      <td>Fare</td>\n",
       "      <td>1</td>\n",
       "    </tr>\n",
       "    <tr>\n",
       "      <td>Cabin</td>\n",
       "      <td>327</td>\n",
       "    </tr>\n",
       "  </tbody>\n",
       "</table>\n",
       "</div>"
      ],
      "text/plain": [
       "       data\n",
       "Age      86\n",
       "Fare      1\n",
       "Cabin   327"
      ]
     },
     "execution_count": 60,
     "metadata": {},
     "output_type": "execute_result"
    }
   ],
   "source": [
    "#Проверка пропусков\n",
    "NAs = pd.concat([raw_test_data.isnull().sum()], axis=1, keys=['data'])\n",
    "NAs[NAs.sum(axis=1) > 0]\n"
   ]
  },
  {
   "cell_type": "code",
   "execution_count": 61,
   "metadata": {},
   "outputs": [
    {
     "data": {
      "text/plain": [
       "0"
      ]
     },
     "execution_count": 61,
     "metadata": {},
     "output_type": "execute_result"
    }
   ],
   "source": [
    "prepare_data(raw_test_data)"
   ]
  },
  {
   "cell_type": "code",
   "execution_count": 62,
   "metadata": {},
   "outputs": [
    {
     "data": {
      "text/html": [
       "<div>\n",
       "<style scoped>\n",
       "    .dataframe tbody tr th:only-of-type {\n",
       "        vertical-align: middle;\n",
       "    }\n",
       "\n",
       "    .dataframe tbody tr th {\n",
       "        vertical-align: top;\n",
       "    }\n",
       "\n",
       "    .dataframe thead th {\n",
       "        text-align: right;\n",
       "    }\n",
       "</style>\n",
       "<table border=\"1\" class=\"dataframe\">\n",
       "  <thead>\n",
       "    <tr style=\"text-align: right;\">\n",
       "      <th></th>\n",
       "      <th>data</th>\n",
       "    </tr>\n",
       "  </thead>\n",
       "  <tbody>\n",
       "  </tbody>\n",
       "</table>\n",
       "</div>"
      ],
      "text/plain": [
       "Empty DataFrame\n",
       "Columns: [data]\n",
       "Index: []"
      ]
     },
     "execution_count": 62,
     "metadata": {},
     "output_type": "execute_result"
    }
   ],
   "source": [
    "#Проверка пропусков\n",
    "NAs = pd.concat([raw_test_data.isnull().sum()], axis=1, keys=['data'])\n",
    "NAs[NAs.sum(axis=1) > 0]"
   ]
  },
  {
   "cell_type": "code",
   "execution_count": 63,
   "metadata": {},
   "outputs": [
    {
     "data": {
      "text/plain": [
       "set()"
      ]
     },
     "execution_count": 63,
     "metadata": {},
     "output_type": "execute_result"
    }
   ],
   "source": [
    "test_data = raw_test_data.drop(['PassengerId'], axis = 1)\n",
    "#Оставшиеся колонки\n",
    "set(test_data.columns) - set(numeric_data_columns)-set(string_data_columns)-set(categorical_data_columns)"
   ]
  },
  {
   "cell_type": "code",
   "execution_count": 64,
   "metadata": {},
   "outputs": [],
   "source": [
    "#test_data.isnull().any()"
   ]
  },
  {
   "cell_type": "markdown",
   "metadata": {},
   "source": [
    "## Все колонки (лин завис)"
   ]
  },
  {
   "cell_type": "code",
   "execution_count": 65,
   "metadata": {},
   "outputs": [],
   "source": [
    "#classifier = linear_model.SGDClassifier(max_iter=1000, tol=1e-3)"
   ]
  },
  {
   "cell_type": "code",
   "execution_count": 66,
   "metadata": {},
   "outputs": [],
   "source": [
    "def create_estimator(numeric_data_indices,categorical_data_indices,classifier):\n",
    "    estimator = pipeline.Pipeline(steps = [       \n",
    "        (\n",
    "            'feature_processing', pipeline.FeatureUnion(transformer_list = [        \n",
    "                #binary\n",
    "                #('binary_variables_processing', preprocessing.FunctionTransformer(lambda data: data[:, binary_data_indices])), \n",
    "                        \n",
    "                #numeric\n",
    "                ('numeric_variables_processing', pipeline.Pipeline(steps = [\n",
    "                    ('selecting', preprocessing.FunctionTransformer(lambda data: data[:, numeric_data_indices],validate=False)),\n",
    "                    ('scaling', preprocessing.StandardScaler())            \n",
    "                            ])),\n",
    "        \n",
    "                #categorical\n",
    "                ('categorical_variables_processing', pipeline.Pipeline(steps = [\n",
    "                    ('selecting', preprocessing.FunctionTransformer(lambda data: data[:, categorical_data_indices],validate=False)),\n",
    "                    ('hot_encoding', preprocessing.OneHotEncoder(handle_unknown = 'ignore',sparse=False))            \n",
    "                            ])),\n",
    "            ])\n",
    "        ),\n",
    "        ('model_fitting', classifier)\n",
    "        ]\n",
    "    )\n",
    "    return estimator"
   ]
  },
  {
   "cell_type": "code",
   "execution_count": 67,
   "metadata": {},
   "outputs": [],
   "source": [
    "#cross_val_score(estimator, train_data.values, train_labels, scoring = 'accuracy', cv = 3)\n",
    "#estimator.fit(train_data.values, train_labels)\n",
    "#train_labels = raw_train_data['Survived']"
   ]
  },
  {
   "cell_type": "markdown",
   "metadata": {},
   "source": [
    "### Отбор признаков"
   ]
  },
  {
   "cell_type": "raw",
   "metadata": {},
   "source": [
    "classifier_dict = {'RiC':linear_model.RidgeClassifier(),'SVC':svm.SVC(gamma='auto'),'SGD':linear_model.SGDClassifier(),'LR':linear_model.LogisticRegression(solver='lbfgs'),\n",
    "                   'KNC':neighbors.KNeighborsClassifier(),'DeTree':tree.DecisionTreeClassifier(),\n",
    "                   'RF':ensemble.RandomForestClassifier(n_estimators=10),'GB':ensemble.GradientBoostingClassifier(),\n",
    "                   'BG':ensemble.BaggingClassifier(),'NB':naive_bayes.GaussianNB()}"
   ]
  },
  {
   "cell_type": "code",
   "execution_count": 163,
   "metadata": {},
   "outputs": [],
   "source": [
    "#classifier_dict = {'RiC':linear_model.RidgeClassifier(),'RF':ensemble.RandomForestClassifier(n_estimators=10),'GB':ensemble.GradientBoostingClassifier()}\n",
    "classifier_dict = {'RiC':linear_model.RidgeClassifier(),'SVC':svm.SVC(gamma='auto'),'DeTree':tree.DecisionTreeClassifier()}"
   ]
  },
  {
   "cell_type": "code",
   "execution_count": 164,
   "metadata": {},
   "outputs": [],
   "source": [
    "all_column=[[],\n",
    "    #По одной\n",
    "    ['Name'],['Ticket'],['Cabin'],['Pclass'],['Sex'],['Embarked'],['Salutation'],['Age_Range'], ['Fare_Category'],['Family_Size'],['Salutation_type'],\n",
    "            ['Age'], ['SibSp'], ['Parch'], ['Fare'],['Family'],['isCabin'],['Log_Fare'],\n",
    "    #Сочетания (основная с производной колонкой)\n",
    "    ['Age','Age_Range'],['Fare','Fare_Category'],['Fare','Fare_Category','Log_Fare'],['Cabin','isCabin'],\n",
    "           ]"
   ]
  },
  {
   "cell_type": "code",
   "execution_count": 165,
   "metadata": {},
   "outputs": [
    {
     "name": "stdout",
     "output_type": "stream",
     "text": [
      "[]\n",
      "***Classifier***** RiC\n",
      "***Classifier***** SVC\n",
      "***Classifier***** DeTree\n",
      "['Name']\n",
      "***Classifier***** RiC\n",
      "***Classifier***** SVC\n",
      "***Classifier***** DeTree\n",
      "['Ticket']\n",
      "***Classifier***** RiC\n",
      "***Classifier***** SVC\n",
      "***Classifier***** DeTree\n",
      "['Cabin']\n",
      "***Classifier***** RiC\n",
      "***Classifier***** SVC\n",
      "***Classifier***** DeTree\n",
      "['Pclass']\n",
      "***Classifier***** RiC\n",
      "***Classifier***** SVC\n",
      "***Classifier***** DeTree\n",
      "['Sex']\n",
      "***Classifier***** RiC\n",
      "***Classifier***** SVC\n",
      "***Classifier***** DeTree\n",
      "['Embarked']\n",
      "***Classifier***** RiC\n",
      "***Classifier***** SVC\n",
      "***Classifier***** DeTree\n",
      "['Salutation']\n",
      "***Classifier***** RiC\n",
      "***Classifier***** SVC\n",
      "***Classifier***** DeTree\n",
      "['Age_Range']\n",
      "***Classifier***** RiC\n",
      "***Classifier***** SVC\n",
      "***Classifier***** DeTree\n",
      "['Fare_Category']\n",
      "***Classifier***** RiC\n",
      "***Classifier***** SVC\n",
      "***Classifier***** DeTree\n",
      "['Family_Size']\n",
      "***Classifier***** RiC\n",
      "***Classifier***** SVC\n",
      "***Classifier***** DeTree\n",
      "['Salutation_type']\n",
      "***Classifier***** RiC\n",
      "***Classifier***** SVC\n",
      "***Classifier***** DeTree\n",
      "['Age']\n",
      "***Classifier***** RiC\n",
      "***Classifier***** SVC\n",
      "***Classifier***** DeTree\n",
      "['SibSp']\n",
      "***Classifier***** RiC\n",
      "***Classifier***** SVC\n",
      "***Classifier***** DeTree\n",
      "['Parch']\n",
      "***Classifier***** RiC\n",
      "***Classifier***** SVC\n",
      "***Classifier***** DeTree\n",
      "['Fare']\n",
      "***Classifier***** RiC\n",
      "***Classifier***** SVC\n",
      "***Classifier***** DeTree\n",
      "['Family']\n",
      "***Classifier***** RiC\n",
      "***Classifier***** SVC\n",
      "***Classifier***** DeTree\n",
      "['isCabin']\n",
      "***Classifier***** RiC\n",
      "***Classifier***** SVC\n",
      "***Classifier***** DeTree\n",
      "['Log_Fare']\n",
      "***Classifier***** RiC\n",
      "***Classifier***** SVC\n",
      "***Classifier***** DeTree\n",
      "['Age', 'Age_Range']\n",
      "***Classifier***** RiC\n",
      "***Classifier***** SVC\n",
      "***Classifier***** DeTree\n",
      "['Fare', 'Fare_Category']\n",
      "***Classifier***** RiC\n",
      "***Classifier***** SVC\n",
      "***Classifier***** DeTree\n",
      "['Fare', 'Fare_Category', 'Log_Fare']\n",
      "***Classifier***** RiC\n",
      "***Classifier***** SVC\n",
      "***Classifier***** DeTree\n",
      "['Cabin', 'isCabin']\n",
      "***Classifier***** RiC\n",
      "***Classifier***** SVC\n",
      "***Classifier***** DeTree\n"
     ]
    }
   ],
   "source": [
    "exclude_col_list=[]\n",
    "clf_res_list=[]\n",
    "#cv_res_list=[]\n",
    "mean_res_list=[]\n",
    "max_res_list=[]\n",
    "min_res_list=[]\n",
    "std_res_list=[]\n",
    "#test_acc=[]\n",
    "for exclude_col in all_column:\n",
    "    print(exclude_col)\n",
    "    current_train_data=original_train_data.copy()\n",
    "    prepare_data(current_train_data,exclude_col)\n",
    "    #print(current_train_data.columns)\n",
    "    current_categorical_data_indices = np.array([(column in categorical_data_columns) for column in current_train_data.columns], dtype = bool)\n",
    "    current_numeric_data_indices = np.array([(column in numeric_data_columns) for column in current_train_data.columns], dtype = bool)\n",
    "    \n",
    "    for k, v in classifier_dict.items():\n",
    "        #print(\"Code : {0}, Value : {1}\".format(k, v))\n",
    "        print('***Classifier*****',k)\n",
    "        clf=create_estimator(current_numeric_data_indices,current_categorical_data_indices,v)\n",
    "        clf_scoring = cross_val_score(clf, current_train_data.values, train_labels, scoring = 'accuracy', cv = 3)\n",
    "            #print ('mean:{}, max:{}, min:{}, std:{}'.format(clf_scoring.mean(), clf_scoring.max(), clf_scoring.min(), clf_scoring.std()))\n",
    "        exclude_col_list.append(exclude_col)   \n",
    "        clf_res_list.append(k)\n",
    "        #cv_res_list.append(name)\n",
    "        mean_res_list.append(clf_scoring.mean())\n",
    "        max_res_list.append(clf_scoring.max())\n",
    "        min_res_list.append(clf_scoring.min())\n",
    "        std_res_list.append(clf_scoring.std())\n",
    "        #clf.fit(X_train, y_train)\n",
    "        #y_pred=clf.predict(X_test)\n",
    "        #test_acc.append(accuracy_score(y_test, y_pred))\n",
    "    "
   ]
  },
  {
   "cell_type": "code",
   "execution_count": 166,
   "metadata": {},
   "outputs": [
    {
     "data": {
      "text/html": [
       "<div>\n",
       "<style scoped>\n",
       "    .dataframe tbody tr th:only-of-type {\n",
       "        vertical-align: middle;\n",
       "    }\n",
       "\n",
       "    .dataframe tbody tr th {\n",
       "        vertical-align: top;\n",
       "    }\n",
       "\n",
       "    .dataframe thead th {\n",
       "        text-align: right;\n",
       "    }\n",
       "</style>\n",
       "<table border=\"1\" class=\"dataframe\">\n",
       "  <thead>\n",
       "    <tr style=\"text-align: right;\">\n",
       "      <th></th>\n",
       "      <th>ex_col</th>\n",
       "      <th>clf</th>\n",
       "      <th>mean</th>\n",
       "      <th>max</th>\n",
       "      <th>min</th>\n",
       "      <th>std</th>\n",
       "    </tr>\n",
       "  </thead>\n",
       "  <tbody>\n",
       "    <tr>\n",
       "      <td>0</td>\n",
       "      <td>[]</td>\n",
       "      <td>RiC</td>\n",
       "      <td>0.824916</td>\n",
       "      <td>0.831650</td>\n",
       "      <td>0.814815</td>\n",
       "      <td>0.007274</td>\n",
       "    </tr>\n",
       "    <tr>\n",
       "      <td>1</td>\n",
       "      <td>[]</td>\n",
       "      <td>SVC</td>\n",
       "      <td>0.835017</td>\n",
       "      <td>0.841751</td>\n",
       "      <td>0.821549</td>\n",
       "      <td>0.009523</td>\n",
       "    </tr>\n",
       "    <tr>\n",
       "      <td>2</td>\n",
       "      <td>[]</td>\n",
       "      <td>DeTree</td>\n",
       "      <td>0.773288</td>\n",
       "      <td>0.801347</td>\n",
       "      <td>0.734007</td>\n",
       "      <td>0.028614</td>\n",
       "    </tr>\n",
       "    <tr>\n",
       "      <td>3</td>\n",
       "      <td>[Name]</td>\n",
       "      <td>RiC</td>\n",
       "      <td>0.824916</td>\n",
       "      <td>0.831650</td>\n",
       "      <td>0.814815</td>\n",
       "      <td>0.007274</td>\n",
       "    </tr>\n",
       "    <tr>\n",
       "      <td>4</td>\n",
       "      <td>[Name]</td>\n",
       "      <td>SVC</td>\n",
       "      <td>0.835017</td>\n",
       "      <td>0.841751</td>\n",
       "      <td>0.821549</td>\n",
       "      <td>0.009523</td>\n",
       "    </tr>\n",
       "    <tr>\n",
       "      <td>...</td>\n",
       "      <td>...</td>\n",
       "      <td>...</td>\n",
       "      <td>...</td>\n",
       "      <td>...</td>\n",
       "      <td>...</td>\n",
       "      <td>...</td>\n",
       "    </tr>\n",
       "    <tr>\n",
       "      <td>64</td>\n",
       "      <td>[Fare, Fare_Category, Log_Fare]</td>\n",
       "      <td>SVC</td>\n",
       "      <td>0.832772</td>\n",
       "      <td>0.841751</td>\n",
       "      <td>0.821549</td>\n",
       "      <td>0.008399</td>\n",
       "    </tr>\n",
       "    <tr>\n",
       "      <td>65</td>\n",
       "      <td>[Fare, Fare_Category, Log_Fare]</td>\n",
       "      <td>DeTree</td>\n",
       "      <td>0.782267</td>\n",
       "      <td>0.818182</td>\n",
       "      <td>0.747475</td>\n",
       "      <td>0.028877</td>\n",
       "    </tr>\n",
       "    <tr>\n",
       "      <td>66</td>\n",
       "      <td>[Cabin, isCabin]</td>\n",
       "      <td>RiC</td>\n",
       "      <td>0.820426</td>\n",
       "      <td>0.828283</td>\n",
       "      <td>0.808081</td>\n",
       "      <td>0.008837</td>\n",
       "    </tr>\n",
       "    <tr>\n",
       "      <td>67</td>\n",
       "      <td>[Cabin, isCabin]</td>\n",
       "      <td>SVC</td>\n",
       "      <td>0.835017</td>\n",
       "      <td>0.841751</td>\n",
       "      <td>0.821549</td>\n",
       "      <td>0.009523</td>\n",
       "    </tr>\n",
       "    <tr>\n",
       "      <td>68</td>\n",
       "      <td>[Cabin, isCabin]</td>\n",
       "      <td>DeTree</td>\n",
       "      <td>0.758698</td>\n",
       "      <td>0.781145</td>\n",
       "      <td>0.740741</td>\n",
       "      <td>0.016798</td>\n",
       "    </tr>\n",
       "  </tbody>\n",
       "</table>\n",
       "<p>69 rows × 6 columns</p>\n",
       "</div>"
      ],
      "text/plain": [
       "                             ex_col     clf      mean       max       min  \\\n",
       "0                                []     RiC  0.824916  0.831650  0.814815   \n",
       "1                                []     SVC  0.835017  0.841751  0.821549   \n",
       "2                                []  DeTree  0.773288  0.801347  0.734007   \n",
       "3                            [Name]     RiC  0.824916  0.831650  0.814815   \n",
       "4                            [Name]     SVC  0.835017  0.841751  0.821549   \n",
       "..                              ...     ...       ...       ...       ...   \n",
       "64  [Fare, Fare_Category, Log_Fare]     SVC  0.832772  0.841751  0.821549   \n",
       "65  [Fare, Fare_Category, Log_Fare]  DeTree  0.782267  0.818182  0.747475   \n",
       "66                 [Cabin, isCabin]     RiC  0.820426  0.828283  0.808081   \n",
       "67                 [Cabin, isCabin]     SVC  0.835017  0.841751  0.821549   \n",
       "68                 [Cabin, isCabin]  DeTree  0.758698  0.781145  0.740741   \n",
       "\n",
       "         std  \n",
       "0   0.007274  \n",
       "1   0.009523  \n",
       "2   0.028614  \n",
       "3   0.007274  \n",
       "4   0.009523  \n",
       "..       ...  \n",
       "64  0.008399  \n",
       "65  0.028877  \n",
       "66  0.008837  \n",
       "67  0.009523  \n",
       "68  0.016798  \n",
       "\n",
       "[69 rows x 6 columns]"
      ]
     },
     "execution_count": 166,
     "metadata": {},
     "output_type": "execute_result"
    }
   ],
   "source": [
    "select_f_df=pd.DataFrame({'ex_col':exclude_col_list,'clf':clf_res_list,'mean':mean_res_list,'max':max_res_list,'min':min_res_list,'std':std_res_list})\n",
    "select_f_df"
   ]
  },
  {
   "cell_type": "code",
   "execution_count": 167,
   "metadata": {},
   "outputs": [
    {
     "data": {
      "text/html": [
       "<div>\n",
       "<style scoped>\n",
       "    .dataframe tbody tr th:only-of-type {\n",
       "        vertical-align: middle;\n",
       "    }\n",
       "\n",
       "    .dataframe tbody tr th {\n",
       "        vertical-align: top;\n",
       "    }\n",
       "\n",
       "    .dataframe thead th {\n",
       "        text-align: right;\n",
       "    }\n",
       "</style>\n",
       "<table border=\"1\" class=\"dataframe\">\n",
       "  <thead>\n",
       "    <tr style=\"text-align: right;\">\n",
       "      <th></th>\n",
       "      <th>ex_col</th>\n",
       "      <th>clf</th>\n",
       "      <th>mean</th>\n",
       "      <th>max</th>\n",
       "      <th>min</th>\n",
       "      <th>std</th>\n",
       "    </tr>\n",
       "  </thead>\n",
       "  <tbody>\n",
       "    <tr>\n",
       "      <td>1</td>\n",
       "      <td>[]</td>\n",
       "      <td>SVC</td>\n",
       "      <td>0.835017</td>\n",
       "      <td>0.841751</td>\n",
       "      <td>0.821549</td>\n",
       "      <td>0.009523</td>\n",
       "    </tr>\n",
       "    <tr>\n",
       "      <td>4</td>\n",
       "      <td>[Name]</td>\n",
       "      <td>SVC</td>\n",
       "      <td>0.835017</td>\n",
       "      <td>0.841751</td>\n",
       "      <td>0.821549</td>\n",
       "      <td>0.009523</td>\n",
       "    </tr>\n",
       "    <tr>\n",
       "      <td>7</td>\n",
       "      <td>[Ticket]</td>\n",
       "      <td>SVC</td>\n",
       "      <td>0.835017</td>\n",
       "      <td>0.841751</td>\n",
       "      <td>0.821549</td>\n",
       "      <td>0.009523</td>\n",
       "    </tr>\n",
       "    <tr>\n",
       "      <td>10</td>\n",
       "      <td>[Cabin]</td>\n",
       "      <td>SVC</td>\n",
       "      <td>0.835017</td>\n",
       "      <td>0.841751</td>\n",
       "      <td>0.821549</td>\n",
       "      <td>0.009523</td>\n",
       "    </tr>\n",
       "    <tr>\n",
       "      <td>19</td>\n",
       "      <td>[Embarked]</td>\n",
       "      <td>SVC</td>\n",
       "      <td>0.835017</td>\n",
       "      <td>0.841751</td>\n",
       "      <td>0.821549</td>\n",
       "      <td>0.009523</td>\n",
       "    </tr>\n",
       "    <tr>\n",
       "      <td>28</td>\n",
       "      <td>[Fare_Category]</td>\n",
       "      <td>SVC</td>\n",
       "      <td>0.835017</td>\n",
       "      <td>0.841751</td>\n",
       "      <td>0.821549</td>\n",
       "      <td>0.009523</td>\n",
       "    </tr>\n",
       "    <tr>\n",
       "      <td>52</td>\n",
       "      <td>[isCabin]</td>\n",
       "      <td>SVC</td>\n",
       "      <td>0.835017</td>\n",
       "      <td>0.841751</td>\n",
       "      <td>0.821549</td>\n",
       "      <td>0.009523</td>\n",
       "    </tr>\n",
       "    <tr>\n",
       "      <td>55</td>\n",
       "      <td>[Log_Fare]</td>\n",
       "      <td>SVC</td>\n",
       "      <td>0.835017</td>\n",
       "      <td>0.841751</td>\n",
       "      <td>0.821549</td>\n",
       "      <td>0.009523</td>\n",
       "    </tr>\n",
       "    <tr>\n",
       "      <td>67</td>\n",
       "      <td>[Cabin, isCabin]</td>\n",
       "      <td>SVC</td>\n",
       "      <td>0.835017</td>\n",
       "      <td>0.841751</td>\n",
       "      <td>0.821549</td>\n",
       "      <td>0.009523</td>\n",
       "    </tr>\n",
       "    <tr>\n",
       "      <td>40</td>\n",
       "      <td>[SibSp]</td>\n",
       "      <td>SVC</td>\n",
       "      <td>0.833895</td>\n",
       "      <td>0.841751</td>\n",
       "      <td>0.821549</td>\n",
       "      <td>0.008837</td>\n",
       "    </tr>\n",
       "  </tbody>\n",
       "</table>\n",
       "</div>"
      ],
      "text/plain": [
       "              ex_col  clf      mean       max       min       std\n",
       "1                 []  SVC  0.835017  0.841751  0.821549  0.009523\n",
       "4             [Name]  SVC  0.835017  0.841751  0.821549  0.009523\n",
       "7           [Ticket]  SVC  0.835017  0.841751  0.821549  0.009523\n",
       "10           [Cabin]  SVC  0.835017  0.841751  0.821549  0.009523\n",
       "19        [Embarked]  SVC  0.835017  0.841751  0.821549  0.009523\n",
       "28   [Fare_Category]  SVC  0.835017  0.841751  0.821549  0.009523\n",
       "52         [isCabin]  SVC  0.835017  0.841751  0.821549  0.009523\n",
       "55        [Log_Fare]  SVC  0.835017  0.841751  0.821549  0.009523\n",
       "67  [Cabin, isCabin]  SVC  0.835017  0.841751  0.821549  0.009523\n",
       "40           [SibSp]  SVC  0.833895  0.841751  0.821549  0.008837"
      ]
     },
     "execution_count": 167,
     "metadata": {},
     "output_type": "execute_result"
    }
   ],
   "source": [
    "select_f_df.nlargest(10, 'mean')"
   ]
  },
  {
   "cell_type": "code",
   "execution_count": 153,
   "metadata": {},
   "outputs": [
    {
     "data": {
      "text/html": [
       "<div>\n",
       "<style scoped>\n",
       "    .dataframe tbody tr th:only-of-type {\n",
       "        vertical-align: middle;\n",
       "    }\n",
       "\n",
       "    .dataframe tbody tr th {\n",
       "        vertical-align: top;\n",
       "    }\n",
       "\n",
       "    .dataframe thead th {\n",
       "        text-align: right;\n",
       "    }\n",
       "</style>\n",
       "<table border=\"1\" class=\"dataframe\">\n",
       "  <thead>\n",
       "    <tr style=\"text-align: right;\">\n",
       "      <th></th>\n",
       "      <th>ex_col</th>\n",
       "      <th>clf</th>\n",
       "      <th>mean</th>\n",
       "      <th>max</th>\n",
       "      <th>min</th>\n",
       "      <th>std</th>\n",
       "    </tr>\n",
       "  </thead>\n",
       "  <tbody>\n",
       "    <tr>\n",
       "      <td>6</td>\n",
       "      <td>[Embarked]</td>\n",
       "      <td>RiC</td>\n",
       "      <td>0.828283</td>\n",
       "      <td>0.838384</td>\n",
       "      <td>0.811448</td>\n",
       "      <td>0.011983</td>\n",
       "    </tr>\n",
       "    <tr>\n",
       "      <td>5</td>\n",
       "      <td>[Sex]</td>\n",
       "      <td>RiC</td>\n",
       "      <td>0.826038</td>\n",
       "      <td>0.835017</td>\n",
       "      <td>0.814815</td>\n",
       "      <td>0.008399</td>\n",
       "    </tr>\n",
       "    <tr>\n",
       "      <td>11</td>\n",
       "      <td>[Salutation_type]</td>\n",
       "      <td>RiC</td>\n",
       "      <td>0.826038</td>\n",
       "      <td>0.835017</td>\n",
       "      <td>0.814815</td>\n",
       "      <td>0.008399</td>\n",
       "    </tr>\n",
       "    <tr>\n",
       "      <td>0</td>\n",
       "      <td>[]</td>\n",
       "      <td>RiC</td>\n",
       "      <td>0.824916</td>\n",
       "      <td>0.831650</td>\n",
       "      <td>0.814815</td>\n",
       "      <td>0.007274</td>\n",
       "    </tr>\n",
       "    <tr>\n",
       "      <td>1</td>\n",
       "      <td>[Name]</td>\n",
       "      <td>RiC</td>\n",
       "      <td>0.824916</td>\n",
       "      <td>0.831650</td>\n",
       "      <td>0.814815</td>\n",
       "      <td>0.007274</td>\n",
       "    </tr>\n",
       "  </tbody>\n",
       "</table>\n",
       "</div>"
      ],
      "text/plain": [
       "               ex_col  clf      mean       max       min       std\n",
       "6          [Embarked]  RiC  0.828283  0.838384  0.811448  0.011983\n",
       "5               [Sex]  RiC  0.826038  0.835017  0.814815  0.008399\n",
       "11  [Salutation_type]  RiC  0.826038  0.835017  0.814815  0.008399\n",
       "0                  []  RiC  0.824916  0.831650  0.814815  0.007274\n",
       "1              [Name]  RiC  0.824916  0.831650  0.814815  0.007274"
      ]
     },
     "execution_count": 153,
     "metadata": {},
     "output_type": "execute_result"
    }
   ],
   "source": [
    "select_f_df.nlargest(5, 'mean')"
   ]
  },
  {
   "cell_type": "code",
   "execution_count": 145,
   "metadata": {},
   "outputs": [
    {
     "data": {
      "text/html": [
       "<div>\n",
       "<style scoped>\n",
       "    .dataframe tbody tr th:only-of-type {\n",
       "        vertical-align: middle;\n",
       "    }\n",
       "\n",
       "    .dataframe tbody tr th {\n",
       "        vertical-align: top;\n",
       "    }\n",
       "\n",
       "    .dataframe thead th {\n",
       "        text-align: right;\n",
       "    }\n",
       "</style>\n",
       "<table border=\"1\" class=\"dataframe\">\n",
       "  <thead>\n",
       "    <tr style=\"text-align: right;\">\n",
       "      <th></th>\n",
       "      <th>ex_col</th>\n",
       "      <th>clf</th>\n",
       "      <th>mean</th>\n",
       "      <th>max</th>\n",
       "      <th>min</th>\n",
       "      <th>std</th>\n",
       "    </tr>\n",
       "  </thead>\n",
       "  <tbody>\n",
       "    <tr>\n",
       "      <td>5</td>\n",
       "      <td>[Embarked]</td>\n",
       "      <td>RiC</td>\n",
       "      <td>0.828283</td>\n",
       "      <td>0.838384</td>\n",
       "      <td>0.811448</td>\n",
       "      <td>0.011983</td>\n",
       "    </tr>\n",
       "    <tr>\n",
       "      <td>10</td>\n",
       "      <td>[Salutation_type]</td>\n",
       "      <td>RiC</td>\n",
       "      <td>0.826038</td>\n",
       "      <td>0.835017</td>\n",
       "      <td>0.814815</td>\n",
       "      <td>0.008399</td>\n",
       "    </tr>\n",
       "    <tr>\n",
       "      <td>4</td>\n",
       "      <td>[Sex]</td>\n",
       "      <td>RiC</td>\n",
       "      <td>0.826038</td>\n",
       "      <td>0.835017</td>\n",
       "      <td>0.814815</td>\n",
       "      <td>0.008399</td>\n",
       "    </tr>\n",
       "    <tr>\n",
       "      <td>15</td>\n",
       "      <td>[Family]</td>\n",
       "      <td>RiC</td>\n",
       "      <td>0.824916</td>\n",
       "      <td>0.831650</td>\n",
       "      <td>0.814815</td>\n",
       "      <td>0.007274</td>\n",
       "    </tr>\n",
       "    <tr>\n",
       "      <td>13</td>\n",
       "      <td>[Parch]</td>\n",
       "      <td>RiC</td>\n",
       "      <td>0.824916</td>\n",
       "      <td>0.831650</td>\n",
       "      <td>0.814815</td>\n",
       "      <td>0.007274</td>\n",
       "    </tr>\n",
       "  </tbody>\n",
       "</table>\n",
       "</div>"
      ],
      "text/plain": [
       "               ex_col  clf      mean       max       min       std\n",
       "5          [Embarked]  RiC  0.828283  0.838384  0.811448  0.011983\n",
       "10  [Salutation_type]  RiC  0.826038  0.835017  0.814815  0.008399\n",
       "4               [Sex]  RiC  0.826038  0.835017  0.814815  0.008399\n",
       "15           [Family]  RiC  0.824916  0.831650  0.814815  0.007274\n",
       "13            [Parch]  RiC  0.824916  0.831650  0.814815  0.007274"
      ]
     },
     "execution_count": 145,
     "metadata": {},
     "output_type": "execute_result"
    }
   ],
   "source": [
    "select_f_df.nlargest(5, 'mean',keep='last')"
   ]
  },
  {
   "cell_type": "code",
   "execution_count": 133,
   "metadata": {},
   "outputs": [
    {
     "data": {
      "text/html": [
       "<div>\n",
       "<style scoped>\n",
       "    .dataframe tbody tr th:only-of-type {\n",
       "        vertical-align: middle;\n",
       "    }\n",
       "\n",
       "    .dataframe tbody tr th {\n",
       "        vertical-align: top;\n",
       "    }\n",
       "\n",
       "    .dataframe thead th {\n",
       "        text-align: right;\n",
       "    }\n",
       "</style>\n",
       "<table border=\"1\" class=\"dataframe\">\n",
       "  <thead>\n",
       "    <tr style=\"text-align: right;\">\n",
       "      <th></th>\n",
       "      <th>ex_col</th>\n",
       "      <th>clf</th>\n",
       "      <th>mean</th>\n",
       "      <th>max</th>\n",
       "      <th>min</th>\n",
       "      <th>std</th>\n",
       "    </tr>\n",
       "  </thead>\n",
       "  <tbody>\n",
       "  </tbody>\n",
       "</table>\n",
       "</div>"
      ],
      "text/plain": [
       "Empty DataFrame\n",
       "Columns: [ex_col, clf, mean, max, min, std]\n",
       "Index: []"
      ]
     },
     "execution_count": 133,
     "metadata": {},
     "output_type": "execute_result"
    }
   ],
   "source": [
    "select_f_df[select_f_df['mean']==select_f_df['mean'].idxmax()]"
   ]
  },
  {
   "cell_type": "code",
   "execution_count": 138,
   "metadata": {},
   "outputs": [
    {
     "data": {
      "text/plain": [
       "5"
      ]
     },
     "execution_count": 138,
     "metadata": {},
     "output_type": "execute_result"
    }
   ],
   "source": [
    "select_f_df['mean'].idxmax()"
   ]
  },
  {
   "cell_type": "code",
   "execution_count": 137,
   "metadata": {},
   "outputs": [
    {
     "data": {
      "text/plain": [
       "ex_col    [Embarked]\n",
       "clf              RiC\n",
       "mean        0.828283\n",
       "max         0.838384\n",
       "min         0.811448\n",
       "std        0.0119833\n",
       "Name: 5, dtype: object"
      ]
     },
     "execution_count": 137,
     "metadata": {},
     "output_type": "execute_result"
    }
   ],
   "source": [
    "select_f_df.iloc[select_f_df['mean'].idxmax()]"
   ]
  },
  {
   "cell_type": "code",
   "execution_count": 127,
   "metadata": {},
   "outputs": [
    {
     "data": {
      "text/html": [
       "<div>\n",
       "<style scoped>\n",
       "    .dataframe tbody tr th:only-of-type {\n",
       "        vertical-align: middle;\n",
       "    }\n",
       "\n",
       "    .dataframe tbody tr th {\n",
       "        vertical-align: top;\n",
       "    }\n",
       "\n",
       "    .dataframe thead th {\n",
       "        text-align: right;\n",
       "    }\n",
       "</style>\n",
       "<table border=\"1\" class=\"dataframe\">\n",
       "  <thead>\n",
       "    <tr style=\"text-align: right;\">\n",
       "      <th></th>\n",
       "      <th>ex_col</th>\n",
       "      <th>clf</th>\n",
       "      <th>mean</th>\n",
       "      <th>max</th>\n",
       "      <th>min</th>\n",
       "      <th>std</th>\n",
       "    </tr>\n",
       "  </thead>\n",
       "  <tbody>\n",
       "    <tr>\n",
       "      <td>0</td>\n",
       "      <td>[Name]</td>\n",
       "      <td>RiC</td>\n",
       "      <td>0.824916</td>\n",
       "      <td>0.831650</td>\n",
       "      <td>0.814815</td>\n",
       "      <td>0.007274</td>\n",
       "    </tr>\n",
       "    <tr>\n",
       "      <td>1</td>\n",
       "      <td>[Ticket]</td>\n",
       "      <td>RiC</td>\n",
       "      <td>0.824916</td>\n",
       "      <td>0.831650</td>\n",
       "      <td>0.814815</td>\n",
       "      <td>0.007274</td>\n",
       "    </tr>\n",
       "    <tr>\n",
       "      <td>2</td>\n",
       "      <td>[Cabin]</td>\n",
       "      <td>RiC</td>\n",
       "      <td>0.824916</td>\n",
       "      <td>0.831650</td>\n",
       "      <td>0.814815</td>\n",
       "      <td>0.007274</td>\n",
       "    </tr>\n",
       "    <tr>\n",
       "      <td>3</td>\n",
       "      <td>[Pclass]</td>\n",
       "      <td>RiC</td>\n",
       "      <td>0.819304</td>\n",
       "      <td>0.824916</td>\n",
       "      <td>0.808081</td>\n",
       "      <td>0.007936</td>\n",
       "    </tr>\n",
       "    <tr>\n",
       "      <td>4</td>\n",
       "      <td>[Sex]</td>\n",
       "      <td>RiC</td>\n",
       "      <td>0.826038</td>\n",
       "      <td>0.835017</td>\n",
       "      <td>0.814815</td>\n",
       "      <td>0.008399</td>\n",
       "    </tr>\n",
       "    <tr>\n",
       "      <td>5</td>\n",
       "      <td>[Embarked]</td>\n",
       "      <td>RiC</td>\n",
       "      <td>0.828283</td>\n",
       "      <td>0.838384</td>\n",
       "      <td>0.811448</td>\n",
       "      <td>0.011983</td>\n",
       "    </tr>\n",
       "    <tr>\n",
       "      <td>6</td>\n",
       "      <td>[Salutation]</td>\n",
       "      <td>RiC</td>\n",
       "      <td>0.823793</td>\n",
       "      <td>0.835017</td>\n",
       "      <td>0.814815</td>\n",
       "      <td>0.008399</td>\n",
       "    </tr>\n",
       "    <tr>\n",
       "      <td>7</td>\n",
       "      <td>[Age_Range]</td>\n",
       "      <td>RiC</td>\n",
       "      <td>0.824916</td>\n",
       "      <td>0.831650</td>\n",
       "      <td>0.814815</td>\n",
       "      <td>0.007274</td>\n",
       "    </tr>\n",
       "    <tr>\n",
       "      <td>8</td>\n",
       "      <td>[Fare_Category]</td>\n",
       "      <td>RiC</td>\n",
       "      <td>0.823793</td>\n",
       "      <td>0.831650</td>\n",
       "      <td>0.811448</td>\n",
       "      <td>0.008837</td>\n",
       "    </tr>\n",
       "    <tr>\n",
       "      <td>9</td>\n",
       "      <td>[Family_Size]</td>\n",
       "      <td>RiC</td>\n",
       "      <td>0.819304</td>\n",
       "      <td>0.831650</td>\n",
       "      <td>0.801347</td>\n",
       "      <td>0.012992</td>\n",
       "    </tr>\n",
       "    <tr>\n",
       "      <td>10</td>\n",
       "      <td>[Salutation_type]</td>\n",
       "      <td>RiC</td>\n",
       "      <td>0.826038</td>\n",
       "      <td>0.835017</td>\n",
       "      <td>0.814815</td>\n",
       "      <td>0.008399</td>\n",
       "    </tr>\n",
       "    <tr>\n",
       "      <td>11</td>\n",
       "      <td>[Age]</td>\n",
       "      <td>RiC</td>\n",
       "      <td>0.822671</td>\n",
       "      <td>0.828283</td>\n",
       "      <td>0.814815</td>\n",
       "      <td>0.005723</td>\n",
       "    </tr>\n",
       "    <tr>\n",
       "      <td>12</td>\n",
       "      <td>[SibSp]</td>\n",
       "      <td>RiC</td>\n",
       "      <td>0.824916</td>\n",
       "      <td>0.831650</td>\n",
       "      <td>0.814815</td>\n",
       "      <td>0.007274</td>\n",
       "    </tr>\n",
       "    <tr>\n",
       "      <td>13</td>\n",
       "      <td>[Parch]</td>\n",
       "      <td>RiC</td>\n",
       "      <td>0.824916</td>\n",
       "      <td>0.831650</td>\n",
       "      <td>0.814815</td>\n",
       "      <td>0.007274</td>\n",
       "    </tr>\n",
       "    <tr>\n",
       "      <td>14</td>\n",
       "      <td>[Fare]</td>\n",
       "      <td>RiC</td>\n",
       "      <td>0.818182</td>\n",
       "      <td>0.821549</td>\n",
       "      <td>0.814815</td>\n",
       "      <td>0.002749</td>\n",
       "    </tr>\n",
       "    <tr>\n",
       "      <td>15</td>\n",
       "      <td>[Family]</td>\n",
       "      <td>RiC</td>\n",
       "      <td>0.824916</td>\n",
       "      <td>0.831650</td>\n",
       "      <td>0.814815</td>\n",
       "      <td>0.007274</td>\n",
       "    </tr>\n",
       "    <tr>\n",
       "      <td>16</td>\n",
       "      <td>[isCabin]</td>\n",
       "      <td>RiC</td>\n",
       "      <td>0.820426</td>\n",
       "      <td>0.828283</td>\n",
       "      <td>0.808081</td>\n",
       "      <td>0.008837</td>\n",
       "    </tr>\n",
       "    <tr>\n",
       "      <td>17</td>\n",
       "      <td>[Log_Fare]</td>\n",
       "      <td>RiC</td>\n",
       "      <td>0.823793</td>\n",
       "      <td>0.831650</td>\n",
       "      <td>0.814815</td>\n",
       "      <td>0.006919</td>\n",
       "    </tr>\n",
       "  </tbody>\n",
       "</table>\n",
       "</div>"
      ],
      "text/plain": [
       "               ex_col  clf      mean       max       min       std\n",
       "0              [Name]  RiC  0.824916  0.831650  0.814815  0.007274\n",
       "1            [Ticket]  RiC  0.824916  0.831650  0.814815  0.007274\n",
       "2             [Cabin]  RiC  0.824916  0.831650  0.814815  0.007274\n",
       "3            [Pclass]  RiC  0.819304  0.824916  0.808081  0.007936\n",
       "4               [Sex]  RiC  0.826038  0.835017  0.814815  0.008399\n",
       "5          [Embarked]  RiC  0.828283  0.838384  0.811448  0.011983\n",
       "6        [Salutation]  RiC  0.823793  0.835017  0.814815  0.008399\n",
       "7         [Age_Range]  RiC  0.824916  0.831650  0.814815  0.007274\n",
       "8     [Fare_Category]  RiC  0.823793  0.831650  0.811448  0.008837\n",
       "9       [Family_Size]  RiC  0.819304  0.831650  0.801347  0.012992\n",
       "10  [Salutation_type]  RiC  0.826038  0.835017  0.814815  0.008399\n",
       "11              [Age]  RiC  0.822671  0.828283  0.814815  0.005723\n",
       "12            [SibSp]  RiC  0.824916  0.831650  0.814815  0.007274\n",
       "13            [Parch]  RiC  0.824916  0.831650  0.814815  0.007274\n",
       "14             [Fare]  RiC  0.818182  0.821549  0.814815  0.002749\n",
       "15           [Family]  RiC  0.824916  0.831650  0.814815  0.007274\n",
       "16          [isCabin]  RiC  0.820426  0.828283  0.808081  0.008837\n",
       "17         [Log_Fare]  RiC  0.823793  0.831650  0.814815  0.006919"
      ]
     },
     "execution_count": 127,
     "metadata": {},
     "output_type": "execute_result"
    }
   ],
   "source": [
    "select_f_df"
   ]
  },
  {
   "cell_type": "code",
   "execution_count": null,
   "metadata": {},
   "outputs": [],
   "source": []
  },
  {
   "cell_type": "markdown",
   "metadata": {},
   "source": [
    "### Разделение выборки"
   ]
  },
  {
   "cell_type": "code",
   "execution_count": 68,
   "metadata": {},
   "outputs": [],
   "source": [
    "X_train, X_test, y_train, y_test = train_test_split(train_data.values, train_labels, test_size=0.5,shuffle=True, random_state=42)\n",
    "#stratify=train_labels"
   ]
  },
  {
   "cell_type": "code",
   "execution_count": 69,
   "metadata": {},
   "outputs": [
    {
     "data": {
      "text/plain": [
       "((445, 14), (446, 14), (445,), (446,))"
      ]
     },
     "execution_count": 69,
     "metadata": {},
     "output_type": "execute_result"
    }
   ],
   "source": [
    "X_train.shape,X_test.shape,y_train.shape,y_test.shape"
   ]
  },
  {
   "cell_type": "code",
   "execution_count": null,
   "metadata": {},
   "outputs": [],
   "source": []
  },
  {
   "cell_type": "markdown",
   "metadata": {},
   "source": [
    "### оценка алгоритмов"
   ]
  },
  {
   "cell_type": "code",
   "execution_count": 70,
   "metadata": {},
   "outputs": [],
   "source": [
    "# кросс валидация тратегии\n",
    "cv_strategy_SKF = model_selection.StratifiedKFold(n_splits = 5, shuffle = True, random_state = 0)\n",
    "cv_strategy_KF =model_selection.KFold(n_splits=5, shuffle = True, random_state = 0)\n",
    "cv_strategy_ShS =model_selection.ShuffleSplit(n_splits=5, train_size=0.5, test_size=.25,random_state=0)\n",
    "cv_strategy_ShS =model_selection.StratifiedShuffleSplit(n_splits=5, train_size=0.5, test_size=.25,random_state=0)\n",
    "cv_dict = {'SKF':cv_strategy_SKF,'KF':cv_strategy_KF,'ShS':cv_strategy_ShS,'ShS':cv_strategy_ShS}"
   ]
  },
  {
   "cell_type": "code",
   "execution_count": 71,
   "metadata": {},
   "outputs": [],
   "source": [
    "classifier_dict = {'RiC':linear_model.RidgeClassifier(),'SVC':svm.SVC(gamma='auto'),'SGD':linear_model.SGDClassifier(),'LR':linear_model.LogisticRegression(solver='lbfgs'),\n",
    "                   'KNC':neighbors.KNeighborsClassifier(),'DeTree':tree.DecisionTreeClassifier(),\n",
    "                   'RF':ensemble.RandomForestClassifier(n_estimators=10),'GB':ensemble.GradientBoostingClassifier(),\n",
    "                   'BG':ensemble.BaggingClassifier(),'NB':naive_bayes.GaussianNB()}"
   ]
  },
  {
   "cell_type": "code",
   "execution_count": 72,
   "metadata": {},
   "outputs": [
    {
     "name": "stdout",
     "output_type": "stream",
     "text": [
      "***Classifier***** RiC\n",
      "--cv-- SKF ---- StratifiedKFold(n_splits=5, random_state=0, shuffle=True)\n",
      "--cv-- KF ---- KFold(n_splits=5, random_state=0, shuffle=True)\n",
      "--cv-- ShS ---- StratifiedShuffleSplit(n_splits=5, random_state=0, test_size=0.25,\n",
      "            train_size=0.5)\n",
      "***Classifier***** SVC\n",
      "--cv-- SKF ---- StratifiedKFold(n_splits=5, random_state=0, shuffle=True)\n",
      "--cv-- KF ---- KFold(n_splits=5, random_state=0, shuffle=True)\n",
      "--cv-- ShS ---- StratifiedShuffleSplit(n_splits=5, random_state=0, test_size=0.25,\n",
      "            train_size=0.5)\n",
      "***Classifier***** SGD\n",
      "--cv-- SKF ---- StratifiedKFold(n_splits=5, random_state=0, shuffle=True)\n",
      "--cv-- KF ---- KFold(n_splits=5, random_state=0, shuffle=True)\n",
      "--cv-- ShS ---- StratifiedShuffleSplit(n_splits=5, random_state=0, test_size=0.25,\n",
      "            train_size=0.5)\n",
      "***Classifier***** LR\n",
      "--cv-- SKF ---- StratifiedKFold(n_splits=5, random_state=0, shuffle=True)\n",
      "--cv-- KF ---- KFold(n_splits=5, random_state=0, shuffle=True)\n",
      "--cv-- ShS ---- StratifiedShuffleSplit(n_splits=5, random_state=0, test_size=0.25,\n",
      "            train_size=0.5)\n",
      "***Classifier***** KNC\n",
      "--cv-- SKF ---- StratifiedKFold(n_splits=5, random_state=0, shuffle=True)\n",
      "--cv-- KF ---- KFold(n_splits=5, random_state=0, shuffle=True)\n",
      "--cv-- ShS ---- StratifiedShuffleSplit(n_splits=5, random_state=0, test_size=0.25,\n",
      "            train_size=0.5)\n",
      "***Classifier***** DeTree\n",
      "--cv-- SKF ---- StratifiedKFold(n_splits=5, random_state=0, shuffle=True)\n",
      "--cv-- KF ---- KFold(n_splits=5, random_state=0, shuffle=True)\n",
      "--cv-- ShS ---- StratifiedShuffleSplit(n_splits=5, random_state=0, test_size=0.25,\n",
      "            train_size=0.5)\n",
      "***Classifier***** RF\n",
      "--cv-- SKF ---- StratifiedKFold(n_splits=5, random_state=0, shuffle=True)\n",
      "--cv-- KF ---- KFold(n_splits=5, random_state=0, shuffle=True)\n",
      "--cv-- ShS ---- StratifiedShuffleSplit(n_splits=5, random_state=0, test_size=0.25,\n",
      "            train_size=0.5)\n",
      "***Classifier***** GB\n",
      "--cv-- SKF ---- StratifiedKFold(n_splits=5, random_state=0, shuffle=True)\n",
      "--cv-- KF ---- KFold(n_splits=5, random_state=0, shuffle=True)\n",
      "--cv-- ShS ---- StratifiedShuffleSplit(n_splits=5, random_state=0, test_size=0.25,\n",
      "            train_size=0.5)\n",
      "***Classifier***** BG\n",
      "--cv-- SKF ---- StratifiedKFold(n_splits=5, random_state=0, shuffle=True)\n",
      "--cv-- KF ---- KFold(n_splits=5, random_state=0, shuffle=True)\n",
      "--cv-- ShS ---- StratifiedShuffleSplit(n_splits=5, random_state=0, test_size=0.25,\n",
      "            train_size=0.5)\n",
      "***Classifier***** NB\n",
      "--cv-- SKF ---- StratifiedKFold(n_splits=5, random_state=0, shuffle=True)\n",
      "--cv-- KF ---- KFold(n_splits=5, random_state=0, shuffle=True)\n",
      "--cv-- ShS ---- StratifiedShuffleSplit(n_splits=5, random_state=0, test_size=0.25,\n",
      "            train_size=0.5)\n"
     ]
    }
   ],
   "source": [
    "# кросс валидация оценка\n",
    "\n",
    "clf_res_list=[]\n",
    "cv_res_list=[]\n",
    "mean_res_list=[]\n",
    "max_res_list=[]\n",
    "min_res_list=[]\n",
    "std_res_list=[]\n",
    "test_acc=[]\n",
    "for k, v in classifier_dict.items():\n",
    "    #print(\"Code : {0}, Value : {1}\".format(k, v))\n",
    "    print('***Classifier*****',k)\n",
    "    clf=create_estimator(numeric_data_indices,categorical_data_indices,v)\n",
    "    for name,val in cv_dict.items():\n",
    "        clf_scoring = cross_val_score(clf, X_train, y_train, scoring = 'accuracy', cv = val)\n",
    "        print('--cv--',name,'----',val)\n",
    "        #print ('mean:{}, max:{}, min:{}, std:{}'.format(clf_scoring.mean(), clf_scoring.max(), clf_scoring.min(), clf_scoring.std()))\n",
    "        clf_res_list.append(k)\n",
    "        cv_res_list.append(name)\n",
    "        mean_res_list.append(clf_scoring.mean())\n",
    "        max_res_list.append(clf_scoring.max())\n",
    "        min_res_list.append(clf_scoring.min())\n",
    "        std_res_list.append(clf_scoring.std())\n",
    "        clf.fit(X_train, y_train)\n",
    "        y_pred=clf.predict(X_test)\n",
    "        test_acc.append(accuracy_score(y_test, y_pred))"
   ]
  },
  {
   "cell_type": "code",
   "execution_count": 73,
   "metadata": {},
   "outputs": [
    {
     "data": {
      "text/html": [
       "<div>\n",
       "<style scoped>\n",
       "    .dataframe tbody tr th:only-of-type {\n",
       "        vertical-align: middle;\n",
       "    }\n",
       "\n",
       "    .dataframe tbody tr th {\n",
       "        vertical-align: top;\n",
       "    }\n",
       "\n",
       "    .dataframe thead th {\n",
       "        text-align: right;\n",
       "    }\n",
       "</style>\n",
       "<table border=\"1\" class=\"dataframe\">\n",
       "  <thead>\n",
       "    <tr style=\"text-align: right;\">\n",
       "      <th></th>\n",
       "      <th>clf</th>\n",
       "      <th>cv</th>\n",
       "      <th>mean</th>\n",
       "      <th>max</th>\n",
       "      <th>min</th>\n",
       "      <th>std</th>\n",
       "      <th>test_acc</th>\n",
       "    </tr>\n",
       "  </thead>\n",
       "  <tbody>\n",
       "    <tr>\n",
       "      <td>0</td>\n",
       "      <td>RiC</td>\n",
       "      <td>SKF</td>\n",
       "      <td>0.835964</td>\n",
       "      <td>0.866667</td>\n",
       "      <td>0.800000</td>\n",
       "      <td>0.027916</td>\n",
       "      <td>0.813901</td>\n",
       "    </tr>\n",
       "    <tr>\n",
       "      <td>1</td>\n",
       "      <td>RiC</td>\n",
       "      <td>KF</td>\n",
       "      <td>0.817978</td>\n",
       "      <td>0.853933</td>\n",
       "      <td>0.775281</td>\n",
       "      <td>0.026013</td>\n",
       "      <td>0.813901</td>\n",
       "    </tr>\n",
       "    <tr>\n",
       "      <td>2</td>\n",
       "      <td>RiC</td>\n",
       "      <td>ShS</td>\n",
       "      <td>0.808929</td>\n",
       "      <td>0.848214</td>\n",
       "      <td>0.794643</td>\n",
       "      <td>0.020045</td>\n",
       "      <td>0.813901</td>\n",
       "    </tr>\n",
       "    <tr>\n",
       "      <td>3</td>\n",
       "      <td>SVC</td>\n",
       "      <td>SKF</td>\n",
       "      <td>0.820156</td>\n",
       "      <td>0.866667</td>\n",
       "      <td>0.788889</td>\n",
       "      <td>0.027710</td>\n",
       "      <td>0.822870</td>\n",
       "    </tr>\n",
       "    <tr>\n",
       "      <td>4</td>\n",
       "      <td>SVC</td>\n",
       "      <td>KF</td>\n",
       "      <td>0.822472</td>\n",
       "      <td>0.865169</td>\n",
       "      <td>0.764045</td>\n",
       "      <td>0.033633</td>\n",
       "      <td>0.822870</td>\n",
       "    </tr>\n",
       "    <tr>\n",
       "      <td>5</td>\n",
       "      <td>SVC</td>\n",
       "      <td>ShS</td>\n",
       "      <td>0.819643</td>\n",
       "      <td>0.839286</td>\n",
       "      <td>0.794643</td>\n",
       "      <td>0.015361</td>\n",
       "      <td>0.822870</td>\n",
       "    </tr>\n",
       "    <tr>\n",
       "      <td>6</td>\n",
       "      <td>SGD</td>\n",
       "      <td>SKF</td>\n",
       "      <td>0.811292</td>\n",
       "      <td>0.831461</td>\n",
       "      <td>0.777778</td>\n",
       "      <td>0.018531</td>\n",
       "      <td>0.677130</td>\n",
       "    </tr>\n",
       "    <tr>\n",
       "      <td>7</td>\n",
       "      <td>SGD</td>\n",
       "      <td>KF</td>\n",
       "      <td>0.784270</td>\n",
       "      <td>0.831461</td>\n",
       "      <td>0.741573</td>\n",
       "      <td>0.035814</td>\n",
       "      <td>0.769058</td>\n",
       "    </tr>\n",
       "    <tr>\n",
       "      <td>8</td>\n",
       "      <td>SGD</td>\n",
       "      <td>ShS</td>\n",
       "      <td>0.789286</td>\n",
       "      <td>0.848214</td>\n",
       "      <td>0.732143</td>\n",
       "      <td>0.038548</td>\n",
       "      <td>0.802691</td>\n",
       "    </tr>\n",
       "    <tr>\n",
       "      <td>9</td>\n",
       "      <td>LR</td>\n",
       "      <td>SKF</td>\n",
       "      <td>0.826899</td>\n",
       "      <td>0.877778</td>\n",
       "      <td>0.795455</td>\n",
       "      <td>0.032452</td>\n",
       "      <td>0.811659</td>\n",
       "    </tr>\n",
       "    <tr>\n",
       "      <td>10</td>\n",
       "      <td>LR</td>\n",
       "      <td>KF</td>\n",
       "      <td>0.826966</td>\n",
       "      <td>0.865169</td>\n",
       "      <td>0.797753</td>\n",
       "      <td>0.026207</td>\n",
       "      <td>0.811659</td>\n",
       "    </tr>\n",
       "    <tr>\n",
       "      <td>11</td>\n",
       "      <td>LR</td>\n",
       "      <td>ShS</td>\n",
       "      <td>0.816071</td>\n",
       "      <td>0.839286</td>\n",
       "      <td>0.785714</td>\n",
       "      <td>0.017496</td>\n",
       "      <td>0.811659</td>\n",
       "    </tr>\n",
       "    <tr>\n",
       "      <td>12</td>\n",
       "      <td>KNC</td>\n",
       "      <td>SKF</td>\n",
       "      <td>0.806673</td>\n",
       "      <td>0.855556</td>\n",
       "      <td>0.752809</td>\n",
       "      <td>0.033069</td>\n",
       "      <td>0.807175</td>\n",
       "    </tr>\n",
       "    <tr>\n",
       "      <td>13</td>\n",
       "      <td>KNC</td>\n",
       "      <td>KF</td>\n",
       "      <td>0.822472</td>\n",
       "      <td>0.887640</td>\n",
       "      <td>0.786517</td>\n",
       "      <td>0.035102</td>\n",
       "      <td>0.807175</td>\n",
       "    </tr>\n",
       "    <tr>\n",
       "      <td>14</td>\n",
       "      <td>KNC</td>\n",
       "      <td>ShS</td>\n",
       "      <td>0.798214</td>\n",
       "      <td>0.821429</td>\n",
       "      <td>0.758929</td>\n",
       "      <td>0.021577</td>\n",
       "      <td>0.807175</td>\n",
       "    </tr>\n",
       "    <tr>\n",
       "      <td>15</td>\n",
       "      <td>DeTree</td>\n",
       "      <td>SKF</td>\n",
       "      <td>0.802125</td>\n",
       "      <td>0.842697</td>\n",
       "      <td>0.772727</td>\n",
       "      <td>0.026133</td>\n",
       "      <td>0.778027</td>\n",
       "    </tr>\n",
       "    <tr>\n",
       "      <td>16</td>\n",
       "      <td>DeTree</td>\n",
       "      <td>KF</td>\n",
       "      <td>0.768539</td>\n",
       "      <td>0.853933</td>\n",
       "      <td>0.719101</td>\n",
       "      <td>0.047987</td>\n",
       "      <td>0.782511</td>\n",
       "    </tr>\n",
       "    <tr>\n",
       "      <td>17</td>\n",
       "      <td>DeTree</td>\n",
       "      <td>ShS</td>\n",
       "      <td>0.791071</td>\n",
       "      <td>0.803571</td>\n",
       "      <td>0.767857</td>\n",
       "      <td>0.013363</td>\n",
       "      <td>0.775785</td>\n",
       "    </tr>\n",
       "    <tr>\n",
       "      <td>18</td>\n",
       "      <td>RF</td>\n",
       "      <td>SKF</td>\n",
       "      <td>0.813666</td>\n",
       "      <td>0.863636</td>\n",
       "      <td>0.777778</td>\n",
       "      <td>0.027786</td>\n",
       "      <td>0.775785</td>\n",
       "    </tr>\n",
       "    <tr>\n",
       "      <td>19</td>\n",
       "      <td>RF</td>\n",
       "      <td>KF</td>\n",
       "      <td>0.824719</td>\n",
       "      <td>0.932584</td>\n",
       "      <td>0.764045</td>\n",
       "      <td>0.060549</td>\n",
       "      <td>0.795964</td>\n",
       "    </tr>\n",
       "    <tr>\n",
       "      <td>20</td>\n",
       "      <td>RF</td>\n",
       "      <td>ShS</td>\n",
       "      <td>0.805357</td>\n",
       "      <td>0.821429</td>\n",
       "      <td>0.776786</td>\n",
       "      <td>0.017313</td>\n",
       "      <td>0.793722</td>\n",
       "    </tr>\n",
       "    <tr>\n",
       "      <td>21</td>\n",
       "      <td>GB</td>\n",
       "      <td>SKF</td>\n",
       "      <td>0.811091</td>\n",
       "      <td>0.844444</td>\n",
       "      <td>0.795455</td>\n",
       "      <td>0.017921</td>\n",
       "      <td>0.813901</td>\n",
       "    </tr>\n",
       "    <tr>\n",
       "      <td>22</td>\n",
       "      <td>GB</td>\n",
       "      <td>KF</td>\n",
       "      <td>0.829213</td>\n",
       "      <td>0.898876</td>\n",
       "      <td>0.797753</td>\n",
       "      <td>0.035814</td>\n",
       "      <td>0.813901</td>\n",
       "    </tr>\n",
       "    <tr>\n",
       "      <td>23</td>\n",
       "      <td>GB</td>\n",
       "      <td>ShS</td>\n",
       "      <td>0.816071</td>\n",
       "      <td>0.830357</td>\n",
       "      <td>0.785714</td>\n",
       "      <td>0.016560</td>\n",
       "      <td>0.816143</td>\n",
       "    </tr>\n",
       "    <tr>\n",
       "      <td>24</td>\n",
       "      <td>BG</td>\n",
       "      <td>SKF</td>\n",
       "      <td>0.811090</td>\n",
       "      <td>0.844444</td>\n",
       "      <td>0.784091</td>\n",
       "      <td>0.022908</td>\n",
       "      <td>0.773543</td>\n",
       "    </tr>\n",
       "    <tr>\n",
       "      <td>25</td>\n",
       "      <td>BG</td>\n",
       "      <td>KF</td>\n",
       "      <td>0.802247</td>\n",
       "      <td>0.876404</td>\n",
       "      <td>0.764045</td>\n",
       "      <td>0.039947</td>\n",
       "      <td>0.798206</td>\n",
       "    </tr>\n",
       "    <tr>\n",
       "      <td>26</td>\n",
       "      <td>BG</td>\n",
       "      <td>ShS</td>\n",
       "      <td>0.791071</td>\n",
       "      <td>0.812500</td>\n",
       "      <td>0.767857</td>\n",
       "      <td>0.015567</td>\n",
       "      <td>0.793722</td>\n",
       "    </tr>\n",
       "    <tr>\n",
       "      <td>27</td>\n",
       "      <td>NB</td>\n",
       "      <td>SKF</td>\n",
       "      <td>0.733163</td>\n",
       "      <td>0.840909</td>\n",
       "      <td>0.655556</td>\n",
       "      <td>0.064890</td>\n",
       "      <td>0.656951</td>\n",
       "    </tr>\n",
       "    <tr>\n",
       "      <td>28</td>\n",
       "      <td>NB</td>\n",
       "      <td>KF</td>\n",
       "      <td>0.719101</td>\n",
       "      <td>0.752809</td>\n",
       "      <td>0.685393</td>\n",
       "      <td>0.024617</td>\n",
       "      <td>0.656951</td>\n",
       "    </tr>\n",
       "    <tr>\n",
       "      <td>29</td>\n",
       "      <td>NB</td>\n",
       "      <td>ShS</td>\n",
       "      <td>0.617857</td>\n",
       "      <td>0.803571</td>\n",
       "      <td>0.401786</td>\n",
       "      <td>0.175637</td>\n",
       "      <td>0.656951</td>\n",
       "    </tr>\n",
       "  </tbody>\n",
       "</table>\n",
       "</div>"
      ],
      "text/plain": [
       "       clf   cv      mean       max       min       std  test_acc\n",
       "0      RiC  SKF  0.835964  0.866667  0.800000  0.027916  0.813901\n",
       "1      RiC   KF  0.817978  0.853933  0.775281  0.026013  0.813901\n",
       "2      RiC  ShS  0.808929  0.848214  0.794643  0.020045  0.813901\n",
       "3      SVC  SKF  0.820156  0.866667  0.788889  0.027710  0.822870\n",
       "4      SVC   KF  0.822472  0.865169  0.764045  0.033633  0.822870\n",
       "5      SVC  ShS  0.819643  0.839286  0.794643  0.015361  0.822870\n",
       "6      SGD  SKF  0.811292  0.831461  0.777778  0.018531  0.677130\n",
       "7      SGD   KF  0.784270  0.831461  0.741573  0.035814  0.769058\n",
       "8      SGD  ShS  0.789286  0.848214  0.732143  0.038548  0.802691\n",
       "9       LR  SKF  0.826899  0.877778  0.795455  0.032452  0.811659\n",
       "10      LR   KF  0.826966  0.865169  0.797753  0.026207  0.811659\n",
       "11      LR  ShS  0.816071  0.839286  0.785714  0.017496  0.811659\n",
       "12     KNC  SKF  0.806673  0.855556  0.752809  0.033069  0.807175\n",
       "13     KNC   KF  0.822472  0.887640  0.786517  0.035102  0.807175\n",
       "14     KNC  ShS  0.798214  0.821429  0.758929  0.021577  0.807175\n",
       "15  DeTree  SKF  0.802125  0.842697  0.772727  0.026133  0.778027\n",
       "16  DeTree   KF  0.768539  0.853933  0.719101  0.047987  0.782511\n",
       "17  DeTree  ShS  0.791071  0.803571  0.767857  0.013363  0.775785\n",
       "18      RF  SKF  0.813666  0.863636  0.777778  0.027786  0.775785\n",
       "19      RF   KF  0.824719  0.932584  0.764045  0.060549  0.795964\n",
       "20      RF  ShS  0.805357  0.821429  0.776786  0.017313  0.793722\n",
       "21      GB  SKF  0.811091  0.844444  0.795455  0.017921  0.813901\n",
       "22      GB   KF  0.829213  0.898876  0.797753  0.035814  0.813901\n",
       "23      GB  ShS  0.816071  0.830357  0.785714  0.016560  0.816143\n",
       "24      BG  SKF  0.811090  0.844444  0.784091  0.022908  0.773543\n",
       "25      BG   KF  0.802247  0.876404  0.764045  0.039947  0.798206\n",
       "26      BG  ShS  0.791071  0.812500  0.767857  0.015567  0.793722\n",
       "27      NB  SKF  0.733163  0.840909  0.655556  0.064890  0.656951\n",
       "28      NB   KF  0.719101  0.752809  0.685393  0.024617  0.656951\n",
       "29      NB  ShS  0.617857  0.803571  0.401786  0.175637  0.656951"
      ]
     },
     "execution_count": 73,
     "metadata": {},
     "output_type": "execute_result"
    }
   ],
   "source": [
    "pd.DataFrame({'clf':clf_res_list, 'cv':cv_res_list,'mean':mean_res_list,'max':max_res_list,'min':min_res_list,'std':std_res_list,'test_acc':test_acc})"
   ]
  },
  {
   "cell_type": "markdown",
   "metadata": {},
   "source": [
    "### Подбор пареметров для RidgeClassifier"
   ]
  },
  {
   "cell_type": "code",
   "execution_count": 70,
   "metadata": {},
   "outputs": [],
   "source": [
    "#SGD\n",
    "#RidgeClassifier\n",
    "\n",
    "parameters_grid = {\n",
    "    'model_fitting__alpha' : [1e-3, 1e-2, 1e-1, 1,1e1,1e2], #RC\n",
    "    #'model_fitting__kernel' : ['linear', 'poly', 'rbf', 'sigmoid'], #GB\n",
    "    #'model_fitting__class_weight' : [None,'balanced'],\n",
    "    #'model_fitting__learning_rate': [0.01, 0.025, 0.05, 0.075, 0.1, 0.15, 0.2],\n",
    "    #'model_fitting__learning_rate': [0.2],\n",
    "    #'model_fitting__min_samples_split': np.linspace(0.1, 0.5, 12),\n",
    "    #'model_fitting__min_samples_leaf': np.linspace(0.1, 0.5, 12),\n",
    "    #'model_fitting__max_features':[\"log2\",\"sqrt\"],\n",
    "    #'model_fitting__criterion': [\"friedman_mse\",  \"mae\"],\n",
    "    #\"model_fitting__subsample\":[0.5, 0.618, 0.8, 0.85, 0.9, 0.95, 1.0],\n",
    "    #'model_fitting__subsample':[0.85]\n",
    "}"
   ]
  },
  {
   "cell_type": "code",
   "execution_count": 71,
   "metadata": {},
   "outputs": [],
   "source": [
    "clf=create_estimator(numeric_data_indices,categorical_data_indices,linear_model.RidgeClassifier(fit_intercept=False))\n",
    "cv = model_selection.StratifiedKFold(n_splits = 3, shuffle = True, random_state = 0)"
   ]
  },
  {
   "cell_type": "code",
   "execution_count": 72,
   "metadata": {},
   "outputs": [],
   "source": [
    "grid_cv = GridSearchCV(clf, parameters_grid, cv = cv)"
   ]
  },
  {
   "cell_type": "code",
   "execution_count": null,
   "metadata": {},
   "outputs": [],
   "source": [
    "grid_cv = RandomizedSearchCV(clf, parameters_grid, cv = cv,n_iter=40)"
   ]
  },
  {
   "cell_type": "code",
   "execution_count": 73,
   "metadata": {},
   "outputs": [
    {
     "name": "stdout",
     "output_type": "stream",
     "text": [
      "0.8404494382022472\n",
      "{'model_fitting__alpha': 10.0}\n",
      "CPU times: user 385 ms, sys: 337 µs, total: 385 ms\n",
      "Wall time: 201 ms\n"
     ]
    }
   ],
   "source": [
    "%%time\n",
    "#grid_cv.fit(train_data.values, train_labels)\n",
    "grid_cv.fit(X_train, y_train)\n",
    "\n",
    "print (grid_cv.best_score_)\n",
    "print (grid_cv.best_params_)"
   ]
  },
  {
   "cell_type": "code",
   "execution_count": 74,
   "metadata": {},
   "outputs": [
    {
     "data": {
      "text/plain": [
       "0.8251121076233184"
      ]
     },
     "execution_count": 74,
     "metadata": {},
     "output_type": "execute_result"
    }
   ],
   "source": [
    "y_pred=grid_cv.predict(X_test)\n",
    "accuracy_score(y_test, y_pred)"
   ]
  },
  {
   "cell_type": "code",
   "execution_count": 75,
   "metadata": {},
   "outputs": [
    {
     "data": {
      "text/plain": [
       "sklearn.linear_model.ridge.RidgeClassifier"
      ]
     },
     "execution_count": 75,
     "metadata": {},
     "output_type": "execute_result"
    }
   ],
   "source": [
    "type(grid_cv.best_estimator_[1])"
   ]
  },
  {
   "cell_type": "code",
   "execution_count": 76,
   "metadata": {},
   "outputs": [
    {
     "data": {
      "text/plain": [
       "[(0.2583893302999091, 'x3_LargeFamily'),\n",
       " (0.2491372890352995, 'x4_Mr'),\n",
       " (0.24913728903529506, 'x7_man'),\n",
       " (0.24206154069308153, 'x7_boy'),\n",
       " (0.2420615406930811, 'x4_Master'),\n",
       " (0.21590817942763346, 'x1_female'),\n",
       " (0.20942839038800218, 'x1_male'),\n",
       " (0.20235264204578535, 'x7_officer'),\n",
       " (0.18392780433245198, 'x3_Single'),\n",
       " (0.17017557802058017, 'x7_married'),\n",
       " (0.1594704574651939, 'x6_Upper_High'),\n",
       " (0.15775405090002434, 'x0_2'),\n",
       " (0.15677986854447074, 'isCabin'),\n",
       " (0.15424661890167843, 'x4_Rev'),\n",
       " (0.1489753252589298, 'x4_Mrs'),\n",
       " (0.14428835857498598, 'x5_(60, 70]'),\n",
       " (0.12830185103403588, 'x0_3'),\n",
       " (0.1269394174675921, 'x2_S'),\n",
       " (0.12297527155798361, 'x5_(70, 80]'),\n",
       " (0.11197607164586176, 'x6_High_Mid'),\n",
       " (0.11078605428364559, 'x2_C'),\n",
       " (0.08756993292202067, 'Log_Fare'),\n",
       " (0.0830507341846522, 'Age'),\n",
       " (0.08094131500708512, 'x3_SmallFamily'),\n",
       " (0.07964427282915638, 'x5_(10, 20]'),\n",
       " (0.07787376079302431, 'x4_Dr'),\n",
       " (0.07780414522617043, 'x4_Col'),\n",
       " (0.07723556884565377, 'SibSp'),\n",
       " (0.06901478495416369, 'Fare'),\n",
       " (0.06514234754109975, 'x5_(30, 40]'),\n",
       " (0.05639580780643704, 'Family'),\n",
       " (0.048036407577253144, 'x4_Capt'),\n",
       " (0.044009126132796096, 'x6_Low'),\n",
       " (0.0422081516516432, 'x4_Ms'),\n",
       " (0.03710471750165463, 'x7_snob'),\n",
       " (0.032908549445227704, 'x5_(40, 50]'),\n",
       " (0.02792999305153704, 'x4_Lady'),\n",
       " (0.02297241082635862, 'x0_1'),\n",
       " (0.022633152223575863, 'x2_Q'),\n",
       " (0.021007898889992507, 'x4_Mme'),\n",
       " (0.02024638633421567, 'x5_(0, 10]'),\n",
       " (0.020133945928688748, 'x5_(50, 60]'),\n",
       " (0.018846605008650902, 'x6_High'),\n",
       " (0.014949628784918465, 'x4_Miss'),\n",
       " (0.009498692304988048, 'x5_(20, 30]'),\n",
       " (0.009174724450117626, 'x4_the Countess'),\n",
       " (0.008881556282486125, 'x6_Mid'),\n",
       " (0.008627883905398188, 'x7_single'),\n",
       " (0.006321744879521423, 'x4_Mlle'),\n",
       " (0.0022452328169639264, 'Parch')]"
      ]
     },
     "execution_count": 76,
     "metadata": {},
     "output_type": "execute_result"
    }
   ],
   "source": [
    "#Коэфициенты модели\n",
    "#grid_cv.best_estimator_.steps[0][1].transformer_list[1][1].steps[0][1].fit_transform(X_train)[:2]\n",
    "#one_hot_cat_col=grid_cv.best_estimator_.steps[0][1].transformer_list[1][1][1].get_feature_names(categorical_data_columns)\n",
    "#grid_cv.best_estimator_.steps[0][1].transformer_list[1][1].steps[1][1].categories_\n",
    "all_column=numeric_data_columns+list(grid_cv.best_estimator_.steps[0][1].transformer_list[1][1].steps[1][1].get_feature_names())\n",
    "coef=grid_cv.best_estimator_.steps[1][1].coef_[0]\n",
    "sorted(zip(np.abs(coef),all_column),reverse=True)"
   ]
  },
  {
   "cell_type": "markdown",
   "metadata": {},
   "source": [
    "### Подбор пареметров для SVC"
   ]
  },
  {
   "cell_type": "code",
   "execution_count": 77,
   "metadata": {},
   "outputs": [],
   "source": [
    "#SVC\n",
    "\n",
    "parameters_grid = {\n",
    "    #'model_fitting__C' : [0.01,0.1, 1, 10, 100,], \n",
    "    'model_fitting__C' : [0.8, 0.85, 0.9],\n",
    "    'model_fitting__kernel' : ['linear','rbf', 'sigmoid'], \n",
    "    'model_fitting__class_weight' : [None,'balanced'],\n",
    "    'model_fitting__decision_function_shape':['ovo', 'ovr'],\n",
    "    #'model_fitting__learning_rate': [0.01, 0.025, 0.05, 0.075, 0.1, 0.15, 0.2],\n",
    "    #'model_fitting__learning_rate': [0.2],\n",
    "    #'model_fitting__min_samples_split': np.linspace(0.1, 0.5, 12),\n",
    "    #'model_fitting__min_samples_leaf': np.linspace(0.1, 0.5, 12),\n",
    "    #'model_fitting__max_features':[\"log2\",\"sqrt\"],\n",
    "    #'model_fitting__criterion': [\"friedman_mse\",  \"mae\"],\n",
    "    #\"model_fitting__subsample\":[0.5, 0.618, 0.8, 0.85, 0.9, 0.95, 1.0],\n",
    "    #'model_fitting__subsample':[0.85]\n",
    "}"
   ]
  },
  {
   "cell_type": "code",
   "execution_count": 78,
   "metadata": {},
   "outputs": [],
   "source": [
    "clf=create_estimator(numeric_data_indices,categorical_data_indices,svm.SVC(gamma='auto'))\n",
    "cv = model_selection.StratifiedKFold(n_splits = 3, shuffle = True, random_state = 0)"
   ]
  },
  {
   "cell_type": "code",
   "execution_count": 79,
   "metadata": {},
   "outputs": [],
   "source": [
    "#clf.get_params().keys()"
   ]
  },
  {
   "cell_type": "code",
   "execution_count": 80,
   "metadata": {},
   "outputs": [],
   "source": [
    "grid_cv = GridSearchCV(clf, parameters_grid, cv = cv)"
   ]
  },
  {
   "cell_type": "code",
   "execution_count": null,
   "metadata": {},
   "outputs": [],
   "source": [
    "grid_cv = RandomizedSearchCV(clf, parameters_grid, cv = cv,n_iter=40)"
   ]
  },
  {
   "cell_type": "code",
   "execution_count": 81,
   "metadata": {},
   "outputs": [
    {
     "name": "stdout",
     "output_type": "stream",
     "text": [
      "0.8247191011235955\n",
      "{'model_fitting__C': 0.85, 'model_fitting__class_weight': None, 'model_fitting__decision_function_shape': 'ovo', 'model_fitting__kernel': 'rbf'}\n",
      "CPU times: user 1.77 s, sys: 0 ns, total: 1.77 s\n",
      "Wall time: 1.77 s\n"
     ]
    }
   ],
   "source": [
    "%%time\n",
    "grid_cv.fit(X_train, y_train)\n",
    "print (grid_cv.best_score_)\n",
    "print (grid_cv.best_params_)"
   ]
  },
  {
   "cell_type": "raw",
   "metadata": {},
   "source": [
    "0.8368263473053892\n",
    "{'model_fitting__C': 1, 'model_fitting__class_weight': None, 'model_fitting__decision_function_shape': 'ovo', 'model_fitting__kernel': 'rbf'}\n",
    "CPU times: user 18.8 s, sys: 39.8 ms, total: 18.9 s\n",
    "Wall time: 18.9 s"
   ]
  },
  {
   "cell_type": "raw",
   "metadata": {},
   "source": [
    "0.8368263473053892\n",
    "{'model_fitting__C': 1, 'model_fitting__class_weight': None, 'model_fitting__kernel': 'rbf'}\n",
    "CPU times: user 1min 40s, sys: 2.51 ms, total: 1min 40s\n",
    "Wall time: 1min 40s"
   ]
  },
  {
   "cell_type": "raw",
   "metadata": {},
   "source": [
    "0.8327721661054994\n",
    "{'model_fitting__C': 1, 'model_fitting__class_weight': None, 'model_fitting__kernel': 'rbf'}\n",
    "CPU times: user 40.1 s, sys: 0 ns, total: 40.1 s\n",
    "Wall time: 40.1 s"
   ]
  },
  {
   "cell_type": "code",
   "execution_count": 82,
   "metadata": {},
   "outputs": [
    {
     "data": {
      "text/plain": [
       "0.8340807174887892"
      ]
     },
     "execution_count": 82,
     "metadata": {},
     "output_type": "execute_result"
    }
   ],
   "source": [
    "y_pred=grid_cv.predict(X_test)\n",
    "accuracy_score(y_test, y_pred)"
   ]
  },
  {
   "cell_type": "markdown",
   "metadata": {},
   "source": [
    "### Подбор пареметров для GB"
   ]
  },
  {
   "cell_type": "code",
   "execution_count": 83,
   "metadata": {},
   "outputs": [],
   "source": [
    "#GradientBoosting\n",
    "\n",
    "parameters_grid = {\n",
    "    'model_fitting__n_estimators' : [3,4, 8, 16, 32, 64, 100], #GB\n",
    "    'model_fitting__max_depth' : [3,5,7], #GB\n",
    "    #'model_fitting__loss' : [\"deviance\",'exponential'],\n",
    "    'model_fitting__learning_rate': [1, 0.5, 0.25, 0.1, 0.05, 0.01],\n",
    "    #'model_fitting__learning_rate': [0.2],\n",
    "    #'model_fitting__min_samples_split': np.linspace(0.1, 1, 5),\n",
    "    #'model_fitting__min_samples_leaf': np.linspace(0.1, 0.5, 5),\n",
    "    'model_fitting__max_features':['auto',\"log2\",\"sqrt\",None],\n",
    "    #'model_fitting__criterion': [\"friedman_mse\",  \"mae\"],\n",
    "    #\"model_fitting__subsample\":[0.5, 0.618, 0.8, 0.85, 0.9, 0.95, 1.0],\n",
    "    #'model_fitting__subsample':[0.85]\n",
    "}"
   ]
  },
  {
   "cell_type": "code",
   "execution_count": 84,
   "metadata": {},
   "outputs": [],
   "source": [
    "clf=create_estimator(numeric_data_indices,categorical_data_indices,ensemble.GradientBoostingClassifier())\n",
    "cv = model_selection.StratifiedKFold(n_splits = 3, shuffle = True, random_state = 0)"
   ]
  },
  {
   "cell_type": "code",
   "execution_count": 85,
   "metadata": {},
   "outputs": [],
   "source": [
    "#clf.get_params().keys()"
   ]
  },
  {
   "cell_type": "code",
   "execution_count": 86,
   "metadata": {},
   "outputs": [],
   "source": [
    "grid_cv = GridSearchCV(clf, parameters_grid, cv = cv)"
   ]
  },
  {
   "cell_type": "code",
   "execution_count": null,
   "metadata": {},
   "outputs": [],
   "source": [
    "grid_cv = RandomizedSearchCV(clf, parameters_grid, cv = cv,n_iter=100)"
   ]
  },
  {
   "cell_type": "code",
   "execution_count": 87,
   "metadata": {},
   "outputs": [
    {
     "name": "stderr",
     "output_type": "stream",
     "text": [
      "/home/guric/anaconda3/lib/python3.7/site-packages/sklearn/model_selection/_search.py:814: DeprecationWarning: The default of the `iid` parameter will change from True to False in version 0.22 and will be removed in 0.24. This will change numeric results when test-set sizes are unequal.\n",
      "  DeprecationWarning)\n"
     ]
    },
    {
     "name": "stdout",
     "output_type": "stream",
     "text": [
      "0.8471910112359551\n",
      "{'model_fitting__learning_rate': 0.01, 'model_fitting__max_depth': 7, 'model_fitting__max_features': 'log2', 'model_fitting__n_estimators': 100}\n",
      "CPU times: user 1min 12s, sys: 0 ns, total: 1min 12s\n",
      "Wall time: 1min 12s\n"
     ]
    }
   ],
   "source": [
    "%%time\n",
    "grid_cv.fit(X_train, y_train)\n",
    "print (grid_cv.best_score_)\n",
    "print (grid_cv.best_params_)"
   ]
  },
  {
   "cell_type": "raw",
   "metadata": {},
   "source": [
    "0.8417508417508418\n",
    "{'model_fitting__learning_rate': 0.1, 'model_fitting__max_depth': 5, 'model_fitting__max_features': 'auto', 'model_fitting__n_estimators': 64}\n",
    "CPU times: user 1min 30s, sys: 0 ns, total: 1min 30s\n",
    "Wall time: 1min 30s"
   ]
  },
  {
   "cell_type": "raw",
   "metadata": {},
   "source": [
    "0.8451178451178452\n",
    "{'model_fitting__learning_rate': 0.25, 'model_fitting__max_depth': 5, 'model_fitting__min_samples_leaf': 0.1, 'model_fitting__min_samples_split': 0.325, 'model_fitting__n_estimators': 100}\n",
    "CPU times: user 2min 22s, sys: 320 ms, total: 2min 22s\n",
    "Wall time: 2min 22s"
   ]
  },
  {
   "cell_type": "code",
   "execution_count": 88,
   "metadata": {},
   "outputs": [
    {
     "data": {
      "text/plain": [
       "0.8318385650224215"
      ]
     },
     "execution_count": 88,
     "metadata": {},
     "output_type": "execute_result"
    }
   ],
   "source": [
    "y_pred=grid_cv.predict(X_test)\n",
    "accuracy_score(y_test, y_pred)"
   ]
  },
  {
   "cell_type": "code",
   "execution_count": 89,
   "metadata": {},
   "outputs": [],
   "source": [
    "#y_pred=grid_cv.predict(X_test)"
   ]
  },
  {
   "cell_type": "code",
   "execution_count": 90,
   "metadata": {},
   "outputs": [],
   "source": [
    "#accuracy_score(y_test, y_pred)"
   ]
  },
  {
   "cell_type": "markdown",
   "metadata": {},
   "source": [
    "### Подбор пареметров для LR"
   ]
  },
  {
   "cell_type": "code",
   "execution_count": 91,
   "metadata": {},
   "outputs": [],
   "source": [
    "#LR\n",
    "\n",
    "parameters_grid = {\n",
    "    'model_fitting__C' : [0.001,0.01,0.1,1,10,100], #GB\n",
    "    #'model_fitting__penalty' : ['l2','l1','none'],\n",
    "    'model_fitting__solver' : ['newton-cg', 'lbfgs', 'liblinear']\n",
    "    \n",
    "}"
   ]
  },
  {
   "cell_type": "code",
   "execution_count": 92,
   "metadata": {},
   "outputs": [],
   "source": [
    "clf=create_estimator(numeric_data_indices,categorical_data_indices,linear_model.LogisticRegression(max_iter=1000))\n",
    "cv = model_selection.StratifiedKFold(n_splits = 3, shuffle = True, random_state = 0)"
   ]
  },
  {
   "cell_type": "code",
   "execution_count": 93,
   "metadata": {},
   "outputs": [],
   "source": [
    "grid_cv = GridSearchCV(clf, parameters_grid, cv = cv)"
   ]
  },
  {
   "cell_type": "code",
   "execution_count": null,
   "metadata": {},
   "outputs": [],
   "source": [
    "grid_cv = RandomizedSearchCV(clf, parameters_grid, cv = cv,n_iter=100)"
   ]
  },
  {
   "cell_type": "code",
   "execution_count": 94,
   "metadata": {},
   "outputs": [
    {
     "name": "stdout",
     "output_type": "stream",
     "text": [
      "0.8382022471910112\n",
      "{'model_fitting__C': 0.1, 'model_fitting__solver': 'newton-cg'}\n",
      "CPU times: user 1.73 s, sys: 16.1 ms, total: 1.74 s\n",
      "Wall time: 879 ms\n"
     ]
    }
   ],
   "source": [
    "%%time\n",
    "grid_cv.fit(X_train, y_train)\n",
    "print (grid_cv.best_score_)\n",
    "print (grid_cv.best_params_)"
   ]
  },
  {
   "cell_type": "code",
   "execution_count": 95,
   "metadata": {},
   "outputs": [
    {
     "data": {
      "text/plain": [
       "0.8228699551569507"
      ]
     },
     "execution_count": 95,
     "metadata": {},
     "output_type": "execute_result"
    }
   ],
   "source": [
    "y_pred=grid_cv.predict(X_test)\n",
    "accuracy_score(y_test, y_pred)"
   ]
  },
  {
   "cell_type": "raw",
   "metadata": {},
   "source": [
    "0.8260381593714927\n",
    "{'model_fitting__C': 10}\n",
    "CPU times: user 928 ms, sys: 16 ms, total: 944 ms\n",
    "Wall time: 478 ms\n",
    "solver='lbfgs',penalty = 'l2'"
   ]
  },
  {
   "cell_type": "markdown",
   "metadata": {},
   "source": [
    "### Подбор пареметров для RF"
   ]
  },
  {
   "cell_type": "code",
   "execution_count": 96,
   "metadata": {},
   "outputs": [],
   "source": [
    "#RandomForestClassifier(n_estimators=10)\n",
    "\n",
    "parameters_grid = {\n",
    "    'model_fitting__n_estimators' : [1, 2, 4, 8, 16, 32, 64, 100, 200,500], #GB\n",
    "    #'model_fitting__max_depth' : np.linspace(1, 32, 32, endpoint=True), #GB\n",
    "    #'model_fitting__loss' : [\"deviance\",'exponential'],\n",
    "    #'model_fitting__learning_rate': [0.01, 0.025, 0.05, 0.075, 0.1, 0.15, 0.2],\n",
    "    #'model_fitting__learning_rate': [0.2],\n",
    "    'model_fitting__min_samples_split': [2,5,7,10],\n",
    "    'model_fitting__min_samples_leaf': np.linspace(0.1, 0.5, 5, endpoint=True),\n",
    "    #'model_fitting__max_features':[\"log2\",\"sqrt\",'auto'],\n",
    "    #'model_fitting__criterion': [\"friedman_mse\",  \"mae\"],\n",
    "    #\"model_fitting__subsample\":[0.5, 0.618, 0.8, 0.85, 0.9, 0.95, 1.0],\n",
    "    #'model_fitting__subsample':[0.85]\n",
    "    #'model_fitting__class_weight' : ['balanced',None]\n",
    "}"
   ]
  },
  {
   "cell_type": "code",
   "execution_count": 97,
   "metadata": {},
   "outputs": [],
   "source": [
    "clf=create_estimator(numeric_data_indices,categorical_data_indices,ensemble.RandomForestClassifier(class_weight='balanced'))\n",
    "cv = model_selection.StratifiedKFold(n_splits = 3, shuffle = True, random_state = 0)"
   ]
  },
  {
   "cell_type": "code",
   "execution_count": 98,
   "metadata": {},
   "outputs": [],
   "source": [
    "grid_cv = GridSearchCV(clf, parameters_grid, cv = cv)"
   ]
  },
  {
   "cell_type": "code",
   "execution_count": 99,
   "metadata": {},
   "outputs": [],
   "source": [
    "grid_cv = RandomizedSearchCV(clf, parameters_grid, cv = cv,n_iter=100)"
   ]
  },
  {
   "cell_type": "code",
   "execution_count": 100,
   "metadata": {},
   "outputs": [
    {
     "name": "stderr",
     "output_type": "stream",
     "text": [
      "/home/guric/anaconda3/lib/python3.7/site-packages/sklearn/model_selection/_search.py:814: DeprecationWarning: The default of the `iid` parameter will change from True to False in version 0.22 and will be removed in 0.24. This will change numeric results when test-set sizes are unequal.\n",
      "  DeprecationWarning)\n"
     ]
    },
    {
     "name": "stdout",
     "output_type": "stream",
     "text": [
      "0.7842696629213484\n",
      "{'model_fitting__n_estimators': 200, 'model_fitting__min_samples_split': 5, 'model_fitting__min_samples_leaf': 0.1}\n",
      "CPU times: user 41.3 s, sys: 131 ms, total: 41.5 s\n",
      "Wall time: 41.4 s\n"
     ]
    }
   ],
   "source": [
    "%%time\n",
    "grid_cv.fit(X_train, y_train)\n",
    "print (grid_cv.best_score_)\n",
    "print (grid_cv.best_params_)"
   ]
  },
  {
   "cell_type": "code",
   "execution_count": 101,
   "metadata": {},
   "outputs": [
    {
     "data": {
      "text/plain": [
       "0.7847533632286996"
      ]
     },
     "execution_count": 101,
     "metadata": {},
     "output_type": "execute_result"
    }
   ],
   "source": [
    "y_pred=grid_cv.predict(X_test)\n",
    "accuracy_score(y_test, y_pred)"
   ]
  },
  {
   "cell_type": "raw",
   "metadata": {},
   "source": [
    "0.7957351290684624\n",
    "{'model_fitting__n_estimators': 64, 'model_fitting__min_samples_split': 0.2, 'model_fitting__min_samples_leaf': 0.1, 'model_fitting__max_features': 'sqrt', 'model_fitting__max_depth': 2.0}\n",
    "CPU times: user 15.4 s, sys: 136 ms, total: 15.6 s\n",
    "Wall time: 15.6 s"
   ]
  },
  {
   "cell_type": "markdown",
   "metadata": {},
   "source": [
    "## Обучение финального классификатора ALL_TRAIN"
   ]
  },
  {
   "cell_type": "code",
   "execution_count": null,
   "metadata": {},
   "outputs": [],
   "source": [
    "#SVC\n",
    "\n",
    "parameters_grid = {\n",
    "    'model_fitting__gamma' : ['auto',0.0001,0.001,0.01,0.1,1,10], \n",
    "    'model_fitting__C' : [0.01,0.1, 1, 10],\n",
    "    'model_fitting__kernel' : ['linear','rbf', 'sigmoid'], #GB\n",
    "    'model_fitting__class_weight' : [None,'balanced'],\n",
    "    'model_fitting__decision_function_shape':['ovo', 'ovr'],\n",
    "    #'model_fitting__learning_rate': [0.01, 0.025, 0.05, 0.075, 0.1, 0.15, 0.2],\n",
    "    #'model_fitting__learning_rate': [0.2],\n",
    "    #'model_fitting__min_samples_split': np.linspace(0.1, 0.5, 12),\n",
    "    #'model_fitting__min_samples_leaf': np.linspace(0.1, 0.5, 12),\n",
    "    #'model_fitting__max_features':[\"log2\",\"sqrt\"],\n",
    "    #'model_fitting__criterion': [\"friedman_mse\",  \"mae\"],\n",
    "    #\"model_fitting__subsample\":[0.5, 0.618, 0.8, 0.85, 0.9, 0.95, 1.0],\n",
    "    #'model_fitting__subsample':[0.85]\n",
    "}"
   ]
  },
  {
   "cell_type": "code",
   "execution_count": null,
   "metadata": {},
   "outputs": [],
   "source": [
    "clf=create_estimator(numeric_data_indices,categorical_data_indices,svm.SVC(gamma='auto'))\n",
    "cv = model_selection.StratifiedKFold(n_splits = 3, shuffle = True, random_state = 0)"
   ]
  },
  {
   "cell_type": "code",
   "execution_count": null,
   "metadata": {},
   "outputs": [],
   "source": [
    "grid_cv = GridSearchCV(clf, parameters_grid, cv = cv)"
   ]
  },
  {
   "cell_type": "code",
   "execution_count": null,
   "metadata": {},
   "outputs": [],
   "source": [
    "grid_cv = RandomizedSearchCV(clf, parameters_grid, cv = cv,n_iter=40)"
   ]
  },
  {
   "cell_type": "code",
   "execution_count": null,
   "metadata": {},
   "outputs": [],
   "source": [
    "%%time\n",
    "grid_cv.fit(train_data.values, train_labels)\n",
    "print (grid_cv.best_score_)\n",
    "print (grid_cv.best_params_)"
   ]
  },
  {
   "cell_type": "raw",
   "metadata": {},
   "source": [
    "0.8305274971941639\n",
    "{'model_fitting__kernel': 'rbf', 'model_fitting__gamma': 'auto', 'model_fitting__decision_function_shape': 'ovo', 'model_fitting__class_weight': None, 'model_fitting__C': 1}\n",
    "CPU times: user 5.11 s, sys: 0 ns, total: 5.11 s\n",
    "Wall time: 5.11 s"
   ]
  },
  {
   "cell_type": "markdown",
   "metadata": {},
   "source": [
    "### формирование файла Kaggle"
   ]
  },
  {
   "cell_type": "code",
   "execution_count": null,
   "metadata": {},
   "outputs": [],
   "source": [
    "result = grid_cv.predict(test_data.values)\n",
    "submission = pd.DataFrame({'PassengerId':raw_test_data.PassengerId,'Survived':result})\n",
    "submission.Survived = submission.Survived.astype(int)\n",
    "print(submission.shape)\n"
   ]
  },
  {
   "cell_type": "code",
   "execution_count": null,
   "metadata": {},
   "outputs": [],
   "source": [
    "filename = 'titanic13_SVC.csv'\n",
    "submission.to_csv(filename,index=False)\n",
    "print('Saved file: ' + filename)"
   ]
  },
  {
   "cell_type": "code",
   "execution_count": null,
   "metadata": {},
   "outputs": [],
   "source": [
    "#Преобразование категориальных признаков в отдельном df\n",
    "#dummy_data=pd.get_dummies(data=raw_test_data, columns=categorical_data_columns)\n",
    "#dummy_index=dummy_data.columns.str.contains('|'.join(categorical_data_columns))\n",
    "#dummy_data=dummy_data.loc[:,dummy_index]\n",
    "#Числовые данные в отдельном df\n",
    "#numeric_data=raw_test_data[numeric_data_columns]\n",
    "#создаем стандартный scaler\n",
    "#scaler = StandardScaler()\n",
    "#scaled_test_data=scaler.transform(numeric_data)\n",
    "#scaled_test_data = scaler.transform(test_data)\n",
    "#all_test_data=np.hstack((scaled_test_data,dummy_data.values))"
   ]
  },
  {
   "cell_type": "raw",
   "metadata": {},
   "source": [
    "# найти все признаки, в которых первое значение - строка\n",
    "def find_cat(data):\n",
    "    for name in data.columns:\n",
    "        s = ''\n",
    "        s += name\n",
    "        if (type(data[name][0]) == str):\n",
    "            s += ' строка,'\n",
    "        if (data[name].nunique()<=3):\n",
    "            s += ' мало уникальных'\n",
    "        if (s!=name):\n",
    "            print (s)\n",
    "            \n",
    "find_cat(train_data)"
   ]
  },
  {
   "cell_type": "markdown",
   "metadata": {},
   "source": [
    "### Стекинг для валидации"
   ]
  },
  {
   "cell_type": "code",
   "execution_count": 102,
   "metadata": {},
   "outputs": [],
   "source": [
    "X_train_st, X_test_st, y_train_st, y_test_st = train_test_split(train_data.values, train_labels.values, test_size=0.25, random_state=42)"
   ]
  },
  {
   "cell_type": "code",
   "execution_count": 103,
   "metadata": {},
   "outputs": [
    {
     "data": {
      "text/plain": [
       "((668, 18), (668,), (668,))"
      ]
     },
     "execution_count": 103,
     "metadata": {},
     "output_type": "execute_result"
    }
   ],
   "source": [
    "X_train_st.shape,y_train_st.shape,y_train_st.shape"
   ]
  },
  {
   "cell_type": "code",
   "execution_count": 104,
   "metadata": {},
   "outputs": [],
   "source": [
    "#linear_model.RidgeClassifier(alpha=10.0)\n",
    "#svm.SVC(gamma='auto',C=0.8, decision_function_shape='ovo', kernel= 'linear')\n",
    "#\n",
    "clfs = [create_estimator(numeric_data_indices,categorical_data_indices,svm.SVC(gamma='auto',C=0.8, decision_function_shape='ovo', kernel= 'linear')),\n",
    "        create_estimator(numeric_data_indices,categorical_data_indices,linear_model.LogisticRegression(solver='liblinear',class_weight=None,tol=1e-05, penalty='l2')),\n",
    "        create_estimator(numeric_data_indices,categorical_data_indices,linear_model.RidgeClassifier(alpha=10.0)),\n",
    "        create_estimator(numeric_data_indices,categorical_data_indices,ensemble.GradientBoostingClassifier(learning_rate= 0.1, max_depth= 3, max_features='auto', n_estimators= 32))\n",
    "       ]"
   ]
  },
  {
   "cell_type": "code",
   "execution_count": 105,
   "metadata": {},
   "outputs": [],
   "source": [
    "dataset_blend_train = np.zeros((X_train_st.shape[0], len(clfs)))"
   ]
  },
  {
   "cell_type": "code",
   "execution_count": 106,
   "metadata": {},
   "outputs": [
    {
     "name": "stdout",
     "output_type": "stream",
     "text": [
      "0 SVC(C=0.8, cache_size=200, class_weight=None, coef0=0.0,\n",
      "    decision_function_shape='ovo', degree=3, gamma='auto', kernel='linear',\n",
      "    max_iter=-1, probability=False, random_state=None, shrinking=True,\n",
      "    tol=0.001, verbose=False)\n",
      "Fold 0\n",
      "------------------------ <class 'sklearn.svm.classes.SVC'>\n",
      "----------SVM/RidgeCl-------\n",
      "Fold 1\n",
      "------------------------ <class 'sklearn.svm.classes.SVC'>\n",
      "----------SVM/RidgeCl-------\n",
      "Fold 2\n",
      "------------------------ <class 'sklearn.svm.classes.SVC'>\n",
      "----------SVM/RidgeCl-------\n",
      "Fold 3\n",
      "------------------------ <class 'sklearn.svm.classes.SVC'>\n",
      "----------SVM/RidgeCl-------\n",
      "Fold 4\n",
      "------------------------ <class 'sklearn.svm.classes.SVC'>\n",
      "----------SVM/RidgeCl-------\n",
      "1 LogisticRegression(C=1.0, class_weight=None, dual=False, fit_intercept=True,\n",
      "                   intercept_scaling=1, l1_ratio=None, max_iter=100,\n",
      "                   multi_class='warn', n_jobs=None, penalty='l2',\n",
      "                   random_state=None, solver='liblinear', tol=1e-05, verbose=0,\n",
      "                   warm_start=False)\n",
      "Fold 0\n",
      "------------------------ <class 'sklearn.linear_model.logistic.LogisticRegression'>\n",
      "----------Other-------\n",
      "Fold 1\n",
      "------------------------ <class 'sklearn.linear_model.logistic.LogisticRegression'>\n",
      "----------Other-------\n",
      "Fold 2\n",
      "------------------------ <class 'sklearn.linear_model.logistic.LogisticRegression'>\n",
      "----------Other-------\n",
      "Fold 3\n",
      "------------------------ <class 'sklearn.linear_model.logistic.LogisticRegression'>\n",
      "----------Other-------\n",
      "Fold 4\n",
      "------------------------ <class 'sklearn.linear_model.logistic.LogisticRegression'>\n",
      "----------Other-------\n",
      "2 RidgeClassifier(alpha=10.0, class_weight=None, copy_X=True, fit_intercept=True,\n",
      "                max_iter=None, normalize=False, random_state=None,\n",
      "                solver='auto', tol=0.001)\n",
      "Fold 0\n",
      "------------------------ <class 'sklearn.linear_model.ridge.RidgeClassifier'>\n",
      "----------SVM/RidgeCl-------\n",
      "Fold 1\n",
      "------------------------ <class 'sklearn.linear_model.ridge.RidgeClassifier'>\n",
      "----------SVM/RidgeCl-------\n",
      "Fold 2\n",
      "------------------------ <class 'sklearn.linear_model.ridge.RidgeClassifier'>\n",
      "----------SVM/RidgeCl-------\n",
      "Fold 3\n",
      "------------------------ <class 'sklearn.linear_model.ridge.RidgeClassifier'>\n",
      "----------SVM/RidgeCl-------\n",
      "Fold 4\n",
      "------------------------ <class 'sklearn.linear_model.ridge.RidgeClassifier'>\n",
      "----------SVM/RidgeCl-------\n",
      "3 GradientBoostingClassifier(criterion='friedman_mse', init=None,\n",
      "                           learning_rate=0.1, loss='deviance', max_depth=3,\n",
      "                           max_features='auto', max_leaf_nodes=None,\n",
      "                           min_impurity_decrease=0.0, min_impurity_split=None,\n",
      "                           min_samples_leaf=1, min_samples_split=2,\n",
      "                           min_weight_fraction_leaf=0.0, n_estimators=32,\n",
      "                           n_iter_no_change=None, presort='auto',\n",
      "                           random_state=None, subsample=1.0, tol=0.0001,\n",
      "                           validation_fraction=0.1, verbose=0,\n",
      "                           warm_start=False)\n",
      "Fold 0\n",
      "------------------------ <class 'sklearn.ensemble.gradient_boosting.GradientBoostingClassifier'>\n",
      "----------Other-------\n",
      "Fold 1\n",
      "------------------------ <class 'sklearn.ensemble.gradient_boosting.GradientBoostingClassifier'>\n",
      "----------Other-------\n",
      "Fold 2\n",
      "------------------------ <class 'sklearn.ensemble.gradient_boosting.GradientBoostingClassifier'>\n",
      "----------Other-------\n",
      "Fold 3\n",
      "------------------------ <class 'sklearn.ensemble.gradient_boosting.GradientBoostingClassifier'>\n",
      "----------Other-------\n",
      "Fold 4\n",
      "------------------------ <class 'sklearn.ensemble.gradient_boosting.GradientBoostingClassifier'>\n",
      "----------Other-------\n"
     ]
    }
   ],
   "source": [
    "kf = model_selection.StratifiedKFold(n_splits=5,shuffle=False)\n",
    "for j, clf in enumerate(clfs):\n",
    "    print (j, clf[1])\n",
    "    for i, (train_, test_) in enumerate(kf.split(X_train_st, y_train_st)):\n",
    "        print (\"Fold\", i)\n",
    "        X_tr = X_train_st[train_]\n",
    "        y_tr = y_train_st[train_]\n",
    "        X_te = X_train_st[test_]\n",
    "        y_te = y_train_st[test_]\n",
    "        clf.fit(X_tr, y_tr)\n",
    "        print('------------------------',type(clf[1]))\n",
    "        if isinstance(clf[1],svm.SVC) or isinstance(clf[1],linear_model.ridge.RidgeClassifier):\n",
    "            print('----------SVM/RidgeCl-------')\n",
    "            y_submission = clf.predict(X_te)\n",
    "        else:\n",
    "            print('----------Other-------')\n",
    "            y_submission = clf.predict_proba(X_te)[:, 1]\n",
    "        dataset_blend_train[test_, j] = y_submission"
   ]
  },
  {
   "cell_type": "code",
   "execution_count": 108,
   "metadata": {},
   "outputs": [
    {
     "data": {
      "text/plain": [
       "sklearn.ensemble.gradient_boosting.GradientBoostingClassifier"
      ]
     },
     "execution_count": 108,
     "metadata": {},
     "output_type": "execute_result"
    }
   ],
   "source": [
    "isinstance(clf[1],svm.SVC),\n",
    "type(clf[1])"
   ]
  },
  {
   "cell_type": "code",
   "execution_count": 109,
   "metadata": {},
   "outputs": [
    {
     "data": {
      "text/plain": [
       "(668, 4)"
      ]
     },
     "execution_count": 109,
     "metadata": {},
     "output_type": "execute_result"
    }
   ],
   "source": [
    "dataset_blend_train.shape"
   ]
  },
  {
   "cell_type": "code",
   "execution_count": 110,
   "metadata": {},
   "outputs": [
    {
     "name": "stdout",
     "output_type": "stream",
     "text": [
      "[0.82089552 0.8880597  0.80597015 0.83458647 0.84962406]\n"
     ]
    },
    {
     "data": {
      "text/plain": [
       "0.8398271798900236"
      ]
     },
     "execution_count": 110,
     "metadata": {},
     "output_type": "execute_result"
    }
   ],
   "source": [
    "clf2 = linear_model.RidgeClassifier(class_weight=None,tol=1e-05, random_state=11)\n",
    "ls = cross_val_score(clf2, dataset_blend_train, y_train_st, cv=5, scoring='accuracy')\n",
    "print(ls)\n",
    "np.mean(ls)"
   ]
  },
  {
   "cell_type": "code",
   "execution_count": 111,
   "metadata": {},
   "outputs": [
    {
     "data": {
      "text/plain": [
       "RidgeClassifier(alpha=1.0, class_weight=None, copy_X=True, fit_intercept=True,\n",
       "                max_iter=None, normalize=False, random_state=11, solver='auto',\n",
       "                tol=1e-05)"
      ]
     },
     "execution_count": 111,
     "metadata": {},
     "output_type": "execute_result"
    }
   ],
   "source": [
    "clf2.fit(dataset_blend_train, y_train_st)"
   ]
  },
  {
   "cell_type": "code",
   "execution_count": 112,
   "metadata": {},
   "outputs": [],
   "source": [
    "#clf2.predict()"
   ]
  },
  {
   "cell_type": "markdown",
   "metadata": {},
   "source": [
    "### Тест для стекинга"
   ]
  },
  {
   "cell_type": "code",
   "execution_count": 113,
   "metadata": {},
   "outputs": [
    {
     "name": "stdout",
     "output_type": "stream",
     "text": [
      "0 SVC(C=0.8, cache_size=200, class_weight=None, coef0=0.0,\n",
      "    decision_function_shape='ovo', degree=3, gamma='auto', kernel='linear',\n",
      "    max_iter=-1, probability=False, random_state=None, shrinking=True,\n",
      "    tol=0.001, verbose=False)\n",
      "------------------------ <class 'sklearn.svm.classes.SVC'>\n",
      "----------SVM/RidgeCl-------\n",
      "1 LogisticRegression(C=1.0, class_weight=None, dual=False, fit_intercept=True,\n",
      "                   intercept_scaling=1, l1_ratio=None, max_iter=100,\n",
      "                   multi_class='warn', n_jobs=None, penalty='l2',\n",
      "                   random_state=None, solver='liblinear', tol=1e-05, verbose=0,\n",
      "                   warm_start=False)\n",
      "------------------------ <class 'sklearn.linear_model.logistic.LogisticRegression'>\n",
      "----------Other-------\n",
      "2 RidgeClassifier(alpha=10.0, class_weight=None, copy_X=True, fit_intercept=True,\n",
      "                max_iter=None, normalize=False, random_state=None,\n",
      "                solver='auto', tol=0.001)\n",
      "------------------------ <class 'sklearn.linear_model.ridge.RidgeClassifier'>\n",
      "----------SVM/RidgeCl-------\n",
      "3 GradientBoostingClassifier(criterion='friedman_mse', init=None,\n",
      "                           learning_rate=0.1, loss='deviance', max_depth=3,\n",
      "                           max_features='auto', max_leaf_nodes=None,\n",
      "                           min_impurity_decrease=0.0, min_impurity_split=None,\n",
      "                           min_samples_leaf=1, min_samples_split=2,\n",
      "                           min_weight_fraction_leaf=0.0, n_estimators=32,\n",
      "                           n_iter_no_change=None, presort='auto',\n",
      "                           random_state=None, subsample=1.0, tol=0.0001,\n",
      "                           validation_fraction=0.1, verbose=0,\n",
      "                           warm_start=False)\n",
      "------------------------ <class 'sklearn.ensemble.gradient_boosting.GradientBoostingClassifier'>\n",
      "----------Other-------\n"
     ]
    }
   ],
   "source": [
    "#kf = model_selection.StratifiedKFold(n_splits=5,shuffle=False)\n",
    "X_meta = np.zeros((X_test_st.shape[0],len(clfs)))\n",
    "for j, clf in enumerate(clfs):\n",
    "    print (j, clf[1])\n",
    "    #for i, (train_, test_) in enumerate(kf.split(train_data, train_labels)):\n",
    "    #    print (\"Fold\", i)\n",
    "    #    X_tr = train_data.values[train_]\n",
    "    #    y_tr = train_labels[train_]\n",
    "    #    X_te = train_data.values[test_]\n",
    "    #    y_te = train_labels[test_]\n",
    "    #    clf_pipeline=create_estimator(numeric_data_indices,categorical_data_indices,clf)\n",
    "    #    clf_pipeline.fit(X_tr, y_tr)\n",
    "    print('------------------------',type(clf[1]))\n",
    "    if isinstance(clf[1],svm.SVC) or isinstance(clf[1],linear_model.ridge.RidgeClassifier):\n",
    "        print('----------SVM/RidgeCl-------')\n",
    "        #y_submission = clf_.predict(X_te)\n",
    "        X_meta[:, j] = clf.predict(X_test_st)\n",
    "    else:\n",
    "        print('----------Other-------')\n",
    "        #y_submission = clf_pipeline.predict_proba(X_te)[:, 1]\n",
    "        X_meta[:, j] = clf.predict_proba(X_test_st)[:, 1]\n",
    "    #dataset_blend_train[test_, j] = y_submission"
   ]
  },
  {
   "cell_type": "code",
   "execution_count": 114,
   "metadata": {},
   "outputs": [
    {
     "data": {
      "text/plain": [
       "((446, 18), (223, 4))"
      ]
     },
     "execution_count": 114,
     "metadata": {},
     "output_type": "execute_result"
    }
   ],
   "source": [
    "X_test.shape,X_meta.shape"
   ]
  },
  {
   "cell_type": "code",
   "execution_count": 115,
   "metadata": {},
   "outputs": [],
   "source": [
    "pred_meta=clf2.predict(X_meta)"
   ]
  },
  {
   "cell_type": "code",
   "execution_count": 116,
   "metadata": {},
   "outputs": [
    {
     "data": {
      "text/plain": [
       "0.8161434977578476"
      ]
     },
     "execution_count": 116,
     "metadata": {},
     "output_type": "execute_result"
    }
   ],
   "source": [
    "accuracy_score(y_test_st, pred_meta)"
   ]
  },
  {
   "cell_type": "markdown",
   "metadata": {},
   "source": [
    "## Стекинг для ответа kaggle"
   ]
  },
  {
   "cell_type": "code",
   "execution_count": 117,
   "metadata": {},
   "outputs": [],
   "source": [
    "#linear_model.RidgeClassifier(alpha=10.0)\n",
    "#svm.SVC(gamma='auto',C=0.8, decision_function_shape='ovo', kernel= 'linear')\n",
    "#\n",
    "clfs = [create_estimator(numeric_data_indices,categorical_data_indices,svm.SVC(gamma='auto',C=0.8, decision_function_shape='ovo', kernel= 'linear')),\n",
    "        create_estimator(numeric_data_indices,categorical_data_indices,linear_model.LogisticRegression(solver='liblinear',class_weight=None,tol=1e-05, penalty='l2')),\n",
    "        create_estimator(numeric_data_indices,categorical_data_indices,linear_model.RidgeClassifier(alpha=10.0)),\n",
    "        create_estimator(numeric_data_indices,categorical_data_indices,ensemble.GradientBoostingClassifier(learning_rate= 0.1, max_depth= 3, max_features='auto', n_estimators= 32))\n",
    "       ]"
   ]
  },
  {
   "cell_type": "code",
   "execution_count": 118,
   "metadata": {},
   "outputs": [],
   "source": [
    "X_train_st_kaggle=train_data.values\n",
    "y_train_st_kaggle=train_labels.values"
   ]
  },
  {
   "cell_type": "code",
   "execution_count": 119,
   "metadata": {},
   "outputs": [],
   "source": [
    "dataset_blend_train = np.zeros((X_train_st_kaggle.shape[0], len(clfs)))"
   ]
  },
  {
   "cell_type": "code",
   "execution_count": 120,
   "metadata": {},
   "outputs": [
    {
     "name": "stdout",
     "output_type": "stream",
     "text": [
      "0 SVC(C=0.8, cache_size=200, class_weight=None, coef0=0.0,\n",
      "    decision_function_shape='ovo', degree=3, gamma='auto', kernel='linear',\n",
      "    max_iter=-1, probability=False, random_state=None, shrinking=True,\n",
      "    tol=0.001, verbose=False)\n",
      "Fold 0\n",
      "------------------------ <class 'sklearn.svm.classes.SVC'>\n",
      "----------SVM/RidgeCl-------\n",
      "Fold 1\n",
      "------------------------ <class 'sklearn.svm.classes.SVC'>\n",
      "----------SVM/RidgeCl-------\n",
      "Fold 2\n",
      "------------------------ <class 'sklearn.svm.classes.SVC'>\n",
      "----------SVM/RidgeCl-------\n",
      "Fold 3\n",
      "------------------------ <class 'sklearn.svm.classes.SVC'>\n",
      "----------SVM/RidgeCl-------\n",
      "Fold 4\n",
      "------------------------ <class 'sklearn.svm.classes.SVC'>\n",
      "----------SVM/RidgeCl-------\n",
      "1 LogisticRegression(C=1.0, class_weight=None, dual=False, fit_intercept=True,\n",
      "                   intercept_scaling=1, l1_ratio=None, max_iter=100,\n",
      "                   multi_class='warn', n_jobs=None, penalty='l2',\n",
      "                   random_state=None, solver='liblinear', tol=1e-05, verbose=0,\n",
      "                   warm_start=False)\n",
      "Fold 0\n",
      "------------------------ <class 'sklearn.linear_model.logistic.LogisticRegression'>\n",
      "----------Other-------\n",
      "Fold 1\n",
      "------------------------ <class 'sklearn.linear_model.logistic.LogisticRegression'>\n",
      "----------Other-------\n",
      "Fold 2\n",
      "------------------------ <class 'sklearn.linear_model.logistic.LogisticRegression'>\n",
      "----------Other-------\n",
      "Fold 3\n",
      "------------------------ <class 'sklearn.linear_model.logistic.LogisticRegression'>\n",
      "----------Other-------\n",
      "Fold 4\n",
      "------------------------ <class 'sklearn.linear_model.logistic.LogisticRegression'>\n",
      "----------Other-------\n",
      "2 RidgeClassifier(alpha=10.0, class_weight=None, copy_X=True, fit_intercept=True,\n",
      "                max_iter=None, normalize=False, random_state=None,\n",
      "                solver='auto', tol=0.001)\n",
      "Fold 0\n",
      "------------------------ <class 'sklearn.linear_model.ridge.RidgeClassifier'>\n",
      "----------SVM/RidgeCl-------\n",
      "Fold 1\n",
      "------------------------ <class 'sklearn.linear_model.ridge.RidgeClassifier'>\n",
      "----------SVM/RidgeCl-------\n",
      "Fold 2\n",
      "------------------------ <class 'sklearn.linear_model.ridge.RidgeClassifier'>\n",
      "----------SVM/RidgeCl-------\n",
      "Fold 3\n",
      "------------------------ <class 'sklearn.linear_model.ridge.RidgeClassifier'>\n",
      "----------SVM/RidgeCl-------\n",
      "Fold 4\n",
      "------------------------ <class 'sklearn.linear_model.ridge.RidgeClassifier'>\n",
      "----------SVM/RidgeCl-------\n",
      "3 GradientBoostingClassifier(criterion='friedman_mse', init=None,\n",
      "                           learning_rate=0.1, loss='deviance', max_depth=3,\n",
      "                           max_features='auto', max_leaf_nodes=None,\n",
      "                           min_impurity_decrease=0.0, min_impurity_split=None,\n",
      "                           min_samples_leaf=1, min_samples_split=2,\n",
      "                           min_weight_fraction_leaf=0.0, n_estimators=32,\n",
      "                           n_iter_no_change=None, presort='auto',\n",
      "                           random_state=None, subsample=1.0, tol=0.0001,\n",
      "                           validation_fraction=0.1, verbose=0,\n",
      "                           warm_start=False)\n",
      "Fold 0\n",
      "------------------------ <class 'sklearn.ensemble.gradient_boosting.GradientBoostingClassifier'>\n",
      "----------Other-------\n",
      "Fold 1\n",
      "------------------------ <class 'sklearn.ensemble.gradient_boosting.GradientBoostingClassifier'>\n",
      "----------Other-------\n",
      "Fold 2\n",
      "------------------------ <class 'sklearn.ensemble.gradient_boosting.GradientBoostingClassifier'>\n",
      "----------Other-------\n",
      "Fold 3\n",
      "------------------------ <class 'sklearn.ensemble.gradient_boosting.GradientBoostingClassifier'>\n",
      "----------Other-------\n",
      "Fold 4\n",
      "------------------------ <class 'sklearn.ensemble.gradient_boosting.GradientBoostingClassifier'>\n",
      "----------Other-------\n"
     ]
    }
   ],
   "source": [
    "kf = model_selection.StratifiedKFold(n_splits=5,shuffle=False)\n",
    "for j, clf in enumerate(clfs):\n",
    "    print (j, clf[1])\n",
    "    for i, (train_, test_) in enumerate(kf.split(X_train_st_kaggle, y_train_st_kaggle)):\n",
    "        print (\"Fold\", i)\n",
    "        X_tr = X_train_st_kaggle[train_]\n",
    "        y_tr = y_train_st_kaggle[train_]\n",
    "        X_te = X_train_st_kaggle[test_]\n",
    "        y_te = y_train_st_kaggle[test_]\n",
    "        clf.fit(X_tr, y_tr)\n",
    "        print('------------------------',type(clf[1]))\n",
    "        if isinstance(clf[1],svm.SVC) or isinstance(clf[1],linear_model.ridge.RidgeClassifier):\n",
    "            print('----------SVM/RidgeCl-------')\n",
    "            y_submission = clf.predict(X_te)\n",
    "        else:\n",
    "            print('----------Other-------')\n",
    "            y_submission = clf.predict_proba(X_te)[:, 1]\n",
    "        dataset_blend_train[test_, j] = y_submission"
   ]
  },
  {
   "cell_type": "code",
   "execution_count": 121,
   "metadata": {},
   "outputs": [
    {
     "data": {
      "text/plain": [
       "RidgeClassifier(alpha=1.0, class_weight=None, copy_X=True, fit_intercept=True,\n",
       "                max_iter=None, normalize=False, random_state=11, solver='auto',\n",
       "                tol=1e-05)"
      ]
     },
     "execution_count": 121,
     "metadata": {},
     "output_type": "execute_result"
    }
   ],
   "source": [
    "clf_meta_kaggle = linear_model.RidgeClassifier(class_weight=None,tol=1e-05, random_state=11)\n",
    "clf_meta_kaggle.fit(dataset_blend_train, y_train_st_kaggle)"
   ]
  },
  {
   "cell_type": "markdown",
   "metadata": {},
   "source": [
    "### Стекинг test для kaggle"
   ]
  },
  {
   "cell_type": "code",
   "execution_count": 122,
   "metadata": {},
   "outputs": [],
   "source": [
    "X_test_st_kaggle=test_data.values"
   ]
  },
  {
   "cell_type": "code",
   "execution_count": 123,
   "metadata": {},
   "outputs": [
    {
     "name": "stdout",
     "output_type": "stream",
     "text": [
      "0 SVC(C=0.8, cache_size=200, class_weight=None, coef0=0.0,\n",
      "    decision_function_shape='ovo', degree=3, gamma='auto', kernel='linear',\n",
      "    max_iter=-1, probability=False, random_state=None, shrinking=True,\n",
      "    tol=0.001, verbose=False)\n",
      "------------------------ <class 'sklearn.svm.classes.SVC'>\n",
      "----------SVM/RidgeCl-------\n",
      "1 LogisticRegression(C=1.0, class_weight=None, dual=False, fit_intercept=True,\n",
      "                   intercept_scaling=1, l1_ratio=None, max_iter=100,\n",
      "                   multi_class='warn', n_jobs=None, penalty='l2',\n",
      "                   random_state=None, solver='liblinear', tol=1e-05, verbose=0,\n",
      "                   warm_start=False)\n",
      "------------------------ <class 'sklearn.linear_model.logistic.LogisticRegression'>\n",
      "----------Other-------\n",
      "2 RidgeClassifier(alpha=10.0, class_weight=None, copy_X=True, fit_intercept=True,\n",
      "                max_iter=None, normalize=False, random_state=None,\n",
      "                solver='auto', tol=0.001)\n",
      "------------------------ <class 'sklearn.linear_model.ridge.RidgeClassifier'>\n",
      "----------SVM/RidgeCl-------\n",
      "3 GradientBoostingClassifier(criterion='friedman_mse', init=None,\n",
      "                           learning_rate=0.1, loss='deviance', max_depth=3,\n",
      "                           max_features='auto', max_leaf_nodes=None,\n",
      "                           min_impurity_decrease=0.0, min_impurity_split=None,\n",
      "                           min_samples_leaf=1, min_samples_split=2,\n",
      "                           min_weight_fraction_leaf=0.0, n_estimators=32,\n",
      "                           n_iter_no_change=None, presort='auto',\n",
      "                           random_state=None, subsample=1.0, tol=0.0001,\n",
      "                           validation_fraction=0.1, verbose=0,\n",
      "                           warm_start=False)\n",
      "------------------------ <class 'sklearn.ensemble.gradient_boosting.GradientBoostingClassifier'>\n",
      "----------Other-------\n"
     ]
    }
   ],
   "source": [
    "#kf = model_selection.StratifiedKFold(n_splits=5,shuffle=False)\n",
    "X_meta = np.zeros((X_test_st_kaggle.shape[0],len(clfs)))\n",
    "for j, clf in enumerate(clfs):\n",
    "    print (j, clf[1])\n",
    "    #for i, (train_, test_) in enumerate(kf.split(train_data, train_labels)):\n",
    "    #    print (\"Fold\", i)\n",
    "    #    X_tr = train_data.values[train_]\n",
    "    #    y_tr = train_labels[train_]\n",
    "    #    X_te = train_data.values[test_]\n",
    "    #    y_te = train_labels[test_]\n",
    "    #    clf_pipeline=create_estimator(numeric_data_indices,categorical_data_indices,clf)\n",
    "    #    clf_pipeline.fit(X_tr, y_tr)\n",
    "    print('------------------------',type(clf[1]))\n",
    "    if isinstance(clf[1],svm.SVC) or isinstance(clf[1],linear_model.ridge.RidgeClassifier):\n",
    "        print('----------SVM/RidgeCl-------')\n",
    "        #y_submission = clf_.predict(X_te)\n",
    "        X_meta[:, j] = clf.predict(X_test_st_kaggle)\n",
    "    else:\n",
    "        print('----------Other-------')\n",
    "        #y_submission = clf_pipeline.predict_proba(X_te)[:, 1]\n",
    "        X_meta[:, j] = clf.predict_proba(X_test_st_kaggle)[:, 1]\n",
    "    #dataset_blend_train[test_, j] = y_submission"
   ]
  },
  {
   "cell_type": "code",
   "execution_count": 124,
   "metadata": {},
   "outputs": [
    {
     "data": {
      "text/plain": [
       "(418, 4)"
      ]
     },
     "execution_count": 124,
     "metadata": {},
     "output_type": "execute_result"
    }
   ],
   "source": [
    "X_meta.shape"
   ]
  },
  {
   "cell_type": "code",
   "execution_count": 125,
   "metadata": {},
   "outputs": [
    {
     "name": "stdout",
     "output_type": "stream",
     "text": [
      "(418, 2)\n"
     ]
    }
   ],
   "source": [
    "result=clf_meta_kaggle.predict(X_meta)\n",
    "submission = pd.DataFrame({'PassengerId':raw_test_data.PassengerId,'Survived':result})\n",
    "submission.Survived = submission.Survived.astype(int)\n",
    "print(submission.shape)"
   ]
  },
  {
   "cell_type": "code",
   "execution_count": 126,
   "metadata": {},
   "outputs": [
    {
     "name": "stdout",
     "output_type": "stream",
     "text": [
      "Saved file: titanic16_stack.csv\n"
     ]
    }
   ],
   "source": [
    "filename = 'titanic16_stack.csv'\n",
    "submission.to_csv(filename,index=False)\n",
    "print('Saved file: ' + filename)"
   ]
  },
  {
   "cell_type": "code",
   "execution_count": null,
   "metadata": {},
   "outputs": [],
   "source": []
  },
  {
   "cell_type": "code",
   "execution_count": null,
   "metadata": {},
   "outputs": [],
   "source": [
    "string_data_columns = ['Name','Ticket','Cabin']\n",
    "categorical_data_columns = ['Pclass','Sex','Embarked','Salutation','Age_Range', 'Fare_Category','Family_Size','Salutation_type']\n",
    "numeric_data_columns = ['Age', 'SibSp', 'Parch', 'Fare','Family','isCabin','Log_Fare']\n",
    "#numeric_data_columns = ['Family']"
   ]
  },
  {
   "cell_type": "code",
   "execution_count": 12,
   "metadata": {},
   "outputs": [],
   "source": []
  },
  {
   "cell_type": "code",
   "execution_count": null,
   "metadata": {},
   "outputs": [],
   "source": []
  }
 ],
 "metadata": {
  "kernelspec": {
   "display_name": "Python 3",
   "language": "python",
   "name": "python3"
  },
  "language_info": {
   "codemirror_mode": {
    "name": "ipython",
    "version": 3
   },
   "file_extension": ".py",
   "mimetype": "text/x-python",
   "name": "python",
   "nbconvert_exporter": "python",
   "pygments_lexer": "ipython3",
   "version": "3.7.4"
  }
 },
 "nbformat": 4,
 "nbformat_minor": 2
}
