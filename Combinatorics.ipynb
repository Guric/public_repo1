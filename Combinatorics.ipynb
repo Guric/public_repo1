{
 "cells": [
  {
   "cell_type": "code",
   "execution_count": null,
   "metadata": {},
   "outputs": [],
   "source": [
    "from itertools import *\n",
    "#Перестановски\n",
    "for i in permutations('abc'):\n",
    "    print(i, end=' ') # abc acb bac bca cab cba\n",
    "print()\n",
    "for i in permutations('abb'):\n",
    "    print(i, end=' ') # abb abb bab bba bab bba \n",
    "#Размещение\n",
    "for i in permutations('abc', 2):\n",
    "    print(i, end=' ') # ab ac ba bc ca cb \n",
    "#Размещение с повторениями\n",
    "for i in product('abc', repeat=2):\n",
    "    print(i, end=' ') # aa ab ac ba bb bc ca cb cc\n",
    "#Сочетание без повторений\n",
    "for i in combinations('abcd', 2):\n",
    "    print(i, end=' ') # ab ac ad bc bd cd "
   ]
  }
 ],
 "metadata": {
  "kernelspec": {
   "display_name": "Python 3",
   "language": "python",
   "name": "python3"
  },
  "language_info": {
   "codemirror_mode": {
    "name": "ipython",
    "version": 3
   },
   "file_extension": ".py",
   "mimetype": "text/x-python",
   "name": "python",
   "nbconvert_exporter": "python",
   "pygments_lexer": "ipython3",
   "version": "3.6.4"
  }
 },
 "nbformat": 4,
 "nbformat_minor": 2
}
